{
 "cells": [
  {
   "cell_type": "markdown",
   "id": "1cafabb6",
   "metadata": {},
   "source": [
    "# Import"
   ]
  },
  {
   "cell_type": "markdown",
   "id": "14cce8d6",
   "metadata": {},
   "source": [
    "### Librerie"
   ]
  },
  {
   "cell_type": "code",
   "execution_count": 48,
   "id": "9af9423d",
   "metadata": {},
   "outputs": [],
   "source": [
    "import pandas as pd\n",
    "import numpy as np\n",
    "from matplotlib import pyplot as plt\n",
    "from sklearn.preprocessing import MinMaxScaler\n",
    "from keras.models import Sequential\n",
    "from keras.layers import Dense\n",
    "from keras.layers import SimpleRNN, GRU, LSTM, Bidirectional\n",
    "from keras.layers import Dropout\n",
    "from keras.optimizers import Adam\n",
    "from sklearn.metrics import *"
   ]
  },
  {
   "cell_type": "markdown",
   "id": "014c5b9e",
   "metadata": {},
   "source": [
    "### Dataset"
   ]
  },
  {
   "cell_type": "code",
   "execution_count": 49,
   "id": "aab0230b",
   "metadata": {},
   "outputs": [],
   "source": [
    "dataset = pd.read_csv('dataset.csv')\n",
    "dataset.set_index(['date', 'sex', 'age', 'height', 'timezone'], inplace=True)"
   ]
  },
  {
   "cell_type": "code",
   "execution_count": 50,
   "id": "0640e454",
   "metadata": {},
   "outputs": [
    {
     "name": "stdout",
     "output_type": "stream",
     "text": [
      "shape del training set: (704757, 6)\n",
      "shape del test set: (234919, 6)\n"
     ]
    },
    {
     "data": {
      "text/html": [
       "<div>\n",
       "<style scoped>\n",
       "    .dataframe tbody tr th:only-of-type {\n",
       "        vertical-align: middle;\n",
       "    }\n",
       "\n",
       "    .dataframe tbody tr th {\n",
       "        vertical-align: top;\n",
       "    }\n",
       "\n",
       "    .dataframe thead th {\n",
       "        text-align: right;\n",
       "    }\n",
       "</style>\n",
       "<table border=\"1\" class=\"dataframe\">\n",
       "  <thead>\n",
       "    <tr style=\"text-align: right;\">\n",
       "      <th></th>\n",
       "      <th></th>\n",
       "      <th></th>\n",
       "      <th></th>\n",
       "      <th></th>\n",
       "      <th>steps</th>\n",
       "      <th>bedin</th>\n",
       "      <th>bedout</th>\n",
       "      <th>sleep duration</th>\n",
       "      <th>deepduration</th>\n",
       "      <th>lightduration</th>\n",
       "    </tr>\n",
       "    <tr>\n",
       "      <th>date</th>\n",
       "      <th>sex</th>\n",
       "      <th>age</th>\n",
       "      <th>height</th>\n",
       "      <th>timezone</th>\n",
       "      <th></th>\n",
       "      <th></th>\n",
       "      <th></th>\n",
       "      <th></th>\n",
       "      <th></th>\n",
       "      <th></th>\n",
       "    </tr>\n",
       "  </thead>\n",
       "  <tbody>\n",
       "    <tr>\n",
       "      <th>2016-04-19</th>\n",
       "      <th>Male</th>\n",
       "      <th>39.0</th>\n",
       "      <th>174.0</th>\n",
       "      <th>PDT</th>\n",
       "      <td>7716.87</td>\n",
       "      <td>24.08</td>\n",
       "      <td>6.81</td>\n",
       "      <td>5.98</td>\n",
       "      <td>1.08</td>\n",
       "      <td>4.87</td>\n",
       "    </tr>\n",
       "    <tr>\n",
       "      <th>2016-04-20</th>\n",
       "      <th>Male</th>\n",
       "      <th>39.0</th>\n",
       "      <th>174.0</th>\n",
       "      <th>PDT</th>\n",
       "      <td>7647.55</td>\n",
       "      <td>27.36</td>\n",
       "      <td>6.50</td>\n",
       "      <td>3.00</td>\n",
       "      <td>1.61</td>\n",
       "      <td>1.37</td>\n",
       "    </tr>\n",
       "    <tr>\n",
       "      <th>2016-04-21</th>\n",
       "      <th>Male</th>\n",
       "      <th>39.0</th>\n",
       "      <th>174.0</th>\n",
       "      <th>PDT</th>\n",
       "      <td>6041.68</td>\n",
       "      <td>23.79</td>\n",
       "      <td>7.93</td>\n",
       "      <td>7.61</td>\n",
       "      <td>3.40</td>\n",
       "      <td>4.22</td>\n",
       "    </tr>\n",
       "    <tr>\n",
       "      <th>2016-04-22</th>\n",
       "      <th>Male</th>\n",
       "      <th>39.0</th>\n",
       "      <th>174.0</th>\n",
       "      <th>PDT</th>\n",
       "      <td>5094.85</td>\n",
       "      <td>25.94</td>\n",
       "      <td>6.44</td>\n",
       "      <td>4.59</td>\n",
       "      <td>1.28</td>\n",
       "      <td>3.33</td>\n",
       "    </tr>\n",
       "    <tr>\n",
       "      <th>2016-04-23</th>\n",
       "      <th>Male</th>\n",
       "      <th>39.0</th>\n",
       "      <th>174.0</th>\n",
       "      <th>PDT</th>\n",
       "      <td>4428.15</td>\n",
       "      <td>25.50</td>\n",
       "      <td>11.75</td>\n",
       "      <td>9.91</td>\n",
       "      <td>4.98</td>\n",
       "      <td>4.84</td>\n",
       "    </tr>\n",
       "  </tbody>\n",
       "</table>\n",
       "</div>"
      ],
      "text/plain": [
       "                                        steps  bedin  bedout  sleep duration  \\\n",
       "date       sex  age  height timezone                                           \n",
       "2016-04-19 Male 39.0 174.0  PDT       7716.87  24.08    6.81            5.98   \n",
       "2016-04-20 Male 39.0 174.0  PDT       7647.55  27.36    6.50            3.00   \n",
       "2016-04-21 Male 39.0 174.0  PDT       6041.68  23.79    7.93            7.61   \n",
       "2016-04-22 Male 39.0 174.0  PDT       5094.85  25.94    6.44            4.59   \n",
       "2016-04-23 Male 39.0 174.0  PDT       4428.15  25.50   11.75            9.91   \n",
       "\n",
       "                                      deepduration  lightduration  \n",
       "date       sex  age  height timezone                               \n",
       "2016-04-19 Male 39.0 174.0  PDT               1.08           4.87  \n",
       "2016-04-20 Male 39.0 174.0  PDT               1.61           1.37  \n",
       "2016-04-21 Male 39.0 174.0  PDT               3.40           4.22  \n",
       "2016-04-22 Male 39.0 174.0  PDT               1.28           3.33  \n",
       "2016-04-23 Male 39.0 174.0  PDT               4.98           4.84  "
      ]
     },
     "execution_count": 50,
     "metadata": {},
     "output_type": "execute_result"
    }
   ],
   "source": [
    "test_split=round(len(dataset)*0.25)\n",
    "df_for_training=dataset[:-test_split]\n",
    "df_for_testing=dataset[-test_split:]\n",
    "print(\"shape del training set: {}\".format(df_for_training.shape))\n",
    "print(\"shape del test set: {}\".format(df_for_testing.shape))\n",
    "dataset.head()"
   ]
  },
  {
   "cell_type": "code",
   "execution_count": 51,
   "id": "78598abc",
   "metadata": {},
   "outputs": [
    {
     "data": {
      "text/plain": [
       "array([[0.35766577, 0.51965812, 0.42921147, 0.35860656, 0.15584416,\n",
       "        0.61647362],\n",
       "       [0.35445247, 0.8       , 0.40143369, 0.05327869, 0.23232323,\n",
       "        0.16602317],\n",
       "       [0.28001307, 0.49487179, 0.52956989, 0.52561475, 0.49062049,\n",
       "        0.53281853],\n",
       "       ...,\n",
       "       [0.85629947, 0.48547009, 0.34318996, 0.38012295, 0.5036075 ,\n",
       "        0.33719434],\n",
       "       [0.63112802, 0.53247863, 0.47043011, 0.47745902, 0.58585859,\n",
       "        0.38352638],\n",
       "       [0.27716134, 0.31794872, 0.30286738, 0.53278689, 0.63347763,\n",
       "        0.41570142]])"
      ]
     },
     "execution_count": 51,
     "metadata": {},
     "output_type": "execute_result"
    }
   ],
   "source": [
    "# Normalizzazione\n",
    "scaler = MinMaxScaler(feature_range=(0,1))\n",
    "df_for_training_scaled = scaler.fit_transform(df_for_training)\n",
    "df_for_testing_scaled= scaler.transform(df_for_testing)\n",
    "df_for_training_scaled"
   ]
  },
  {
   "cell_type": "code",
   "execution_count": 52,
   "id": "4f5ea065",
   "metadata": {},
   "outputs": [],
   "source": [
    "#n_past is the number of step we will look in the past to predict the next target value.\n",
    "col2pred = 4  # 0:steps, 1:bedin, 2:bedout, 3:sleep duration, 4:deep duration, 5:lightduration\n",
    "def createXY(dataset,n_past):\n",
    "    dataX = []\n",
    "    dataY = []\n",
    "    for i in range(n_past, len(dataset)):\n",
    "            #per ogni feature fa l'append dei precedenti\n",
    "            dataX.append(dataset[i - n_past:i, 0:dataset.shape[1]])\n",
    "            \n",
    "            dataY.append(dataset[i,col2pred])\n",
    "    return np.array(dataX),np.array(dataY)\n",
    "\n",
    "window_size = 7\n",
    "trainX,trainY=createXY(df_for_training_scaled,window_size)\n",
    "testX,testY=createXY(df_for_testing_scaled,window_size)"
   ]
  },
  {
   "cell_type": "code",
   "execution_count": 53,
   "id": "ba19cac1",
   "metadata": {},
   "outputs": [],
   "source": [
    "# features num\n",
    "features_num = dataset.shape[1]"
   ]
  },
  {
   "cell_type": "code",
   "execution_count": 54,
   "id": "477a7320",
   "metadata": {},
   "outputs": [
    {
     "name": "stdout",
     "output_type": "stream",
     "text": [
      "Model: \"sequential_10\"\n",
      "_________________________________________________________________\n",
      " Layer (type)                Output Shape              Param #   \n",
      "=================================================================\n",
      " bidirectional (Bidirectiona  (None, 100)              22800     \n",
      " l)                                                              \n",
      "                                                                 \n",
      " dense_9 (Dense)             (None, 1)                 101       \n",
      "                                                                 \n",
      "=================================================================\n",
      "Total params: 22,901\n",
      "Trainable params: 22,901\n",
      "Non-trainable params: 0\n",
      "_________________________________________________________________\n"
     ]
    }
   ],
   "source": [
    "def model_recurrent(type = 1):\n",
    "    model = Sequential()\n",
    "    if type == 1:  # 1 = SimpleRNN\n",
    "        model.add(SimpleRNN(50, return_sequences=True, input_shape=(window_size, features_num)))\n",
    "        model.add(Dropout(0.2))\n",
    "\n",
    "    if type == 2: # 2 = GRU\n",
    "        model.add(GRU(50, return_sequences=True, input_shape=(window_size, features_num)))\n",
    "        model.add(Dropout(0.2))\n",
    "\n",
    "    if type == 3: # 3 = LSTM\n",
    "        model.add(LSTM(50, return_sequences=True, input_shape=(window_size, features_num)))\n",
    "        model.add(Dropout(0.2))\n",
    "\n",
    "    if type == 4:  # 4 = 3xLSTM\n",
    "        model.add(LSTM(256, return_sequences=True,input_shape=(window_size, features_num)))\n",
    "        model.add(LSTM(128, return_sequences=True))\n",
    "        model.add(LSTM(64))\n",
    "        model.add(Dropout(0.5))\n",
    "\n",
    "    if type == 5: # Bidirectional\n",
    "        model.add(Bidirectional(LSTM(50, activation='relu'), input_shape=(window_size, features_num)))\n",
    "\n",
    "    model.add(Dense(1))\n",
    "    model.compile(loss='mse', optimizer=Adam(learning_rate=0.001))\n",
    "    return model \n",
    "\n",
    "\n",
    "model = model_recurrent(type=5)\n",
    "model.summary()"
   ]
  },
  {
   "cell_type": "code",
   "execution_count": 55,
   "id": "7d4974eb",
   "metadata": {
    "scrolled": true
   },
   "outputs": [
    {
     "name": "stdout",
     "output_type": "stream",
     "text": [
      "Epoch 1/50\n",
      "173/173 [==============================] - 15s 75ms/step - loss: 0.0264\n",
      "Epoch 2/50\n",
      "173/173 [==============================] - 14s 83ms/step - loss: 0.0151\n",
      "Epoch 3/50\n",
      "173/173 [==============================] - 14s 83ms/step - loss: 0.0150\n",
      "Epoch 4/50\n",
      "173/173 [==============================] - 15s 89ms/step - loss: 0.0150\n",
      "Epoch 5/50\n",
      "173/173 [==============================] - 16s 91ms/step - loss: 0.0150\n",
      "Epoch 6/50\n",
      "173/173 [==============================] - 15s 87ms/step - loss: 0.0149\n",
      "Epoch 7/50\n",
      "173/173 [==============================] - 15s 85ms/step - loss: 0.0149\n",
      "Epoch 8/50\n",
      "173/173 [==============================] - 15s 89ms/step - loss: 0.0149\n",
      "Epoch 9/50\n",
      "173/173 [==============================] - 15s 85ms/step - loss: 0.0149\n",
      "Epoch 10/50\n",
      "173/173 [==============================] - 15s 88ms/step - loss: 0.0149\n",
      "Epoch 11/50\n",
      "173/173 [==============================] - 15s 85ms/step - loss: 0.0149\n",
      "Epoch 12/50\n",
      "173/173 [==============================] - 15s 85ms/step - loss: 0.0149\n",
      "Epoch 13/50\n",
      "173/173 [==============================] - 15s 86ms/step - loss: 0.0149\n",
      "Epoch 14/50\n",
      "173/173 [==============================] - 15s 86ms/step - loss: 0.0149\n",
      "Epoch 15/50\n",
      "173/173 [==============================] - 15s 87ms/step - loss: 0.0149\n",
      "Epoch 16/50\n",
      "173/173 [==============================] - 15s 87ms/step - loss: 0.0149\n",
      "Epoch 17/50\n",
      "173/173 [==============================] - 15s 88ms/step - loss: 0.0149\n",
      "Epoch 18/50\n",
      "173/173 [==============================] - 15s 89ms/step - loss: 0.0149\n",
      "Epoch 19/50\n",
      "173/173 [==============================] - 16s 91ms/step - loss: 0.0149\n",
      "Epoch 20/50\n",
      "173/173 [==============================] - 16s 90ms/step - loss: 0.0148\n",
      "Epoch 21/50\n",
      "173/173 [==============================] - 15s 88ms/step - loss: 0.0148\n",
      "Epoch 22/50\n",
      "173/173 [==============================] - 15s 88ms/step - loss: 0.0148\n",
      "Epoch 23/50\n",
      "173/173 [==============================] - 16s 90ms/step - loss: 0.0148\n",
      "Epoch 24/50\n",
      "173/173 [==============================] - 16s 91ms/step - loss: 0.0148\n",
      "Epoch 25/50\n",
      "173/173 [==============================] - 16s 95ms/step - loss: 0.0148\n",
      "Epoch 26/50\n",
      "173/173 [==============================] - 15s 86ms/step - loss: 0.0148\n",
      "Epoch 27/50\n",
      "173/173 [==============================] - 15s 86ms/step - loss: 0.0148\n",
      "Epoch 28/50\n",
      "173/173 [==============================] - 15s 86ms/step - loss: 0.0148\n",
      "Epoch 29/50\n",
      "173/173 [==============================] - 15s 86ms/step - loss: 0.0148\n",
      "Epoch 30/50\n",
      "173/173 [==============================] - 15s 86ms/step - loss: 0.0148\n",
      "Epoch 31/50\n",
      "173/173 [==============================] - 15s 86ms/step - loss: 0.0148\n",
      "Epoch 32/50\n",
      "173/173 [==============================] - 15s 86ms/step - loss: 0.0148\n",
      "Epoch 33/50\n",
      "173/173 [==============================] - 15s 86ms/step - loss: 0.0148\n",
      "Epoch 34/50\n",
      "173/173 [==============================] - 15s 87ms/step - loss: 0.0148\n",
      "Epoch 35/50\n",
      "173/173 [==============================] - 15s 86ms/step - loss: 0.0148\n",
      "Epoch 36/50\n",
      "173/173 [==============================] - 15s 86ms/step - loss: 0.0148\n",
      "Epoch 37/50\n",
      "173/173 [==============================] - 15s 86ms/step - loss: 0.0148\n",
      "Epoch 38/50\n",
      "173/173 [==============================] - 15s 86ms/step - loss: 0.0148\n",
      "Epoch 39/50\n",
      "173/173 [==============================] - 15s 87ms/step - loss: 0.0148\n",
      "Epoch 40/50\n",
      "173/173 [==============================] - 15s 87ms/step - loss: 0.0148\n",
      "Epoch 41/50\n",
      "173/173 [==============================] - 15s 87ms/step - loss: 0.0148\n",
      "Epoch 42/50\n",
      "173/173 [==============================] - 15s 87ms/step - loss: 0.0148\n",
      "Epoch 43/50\n",
      "173/173 [==============================] - 15s 86ms/step - loss: 0.0148\n",
      "Epoch 44/50\n",
      "173/173 [==============================] - 15s 87ms/step - loss: 0.0148\n",
      "Epoch 45/50\n",
      "173/173 [==============================] - 15s 88ms/step - loss: 0.0147\n",
      "Epoch 46/50\n",
      "173/173 [==============================] - 15s 86ms/step - loss: 0.0148\n",
      "Epoch 47/50\n",
      "173/173 [==============================] - 15s 87ms/step - loss: 0.0148\n",
      "Epoch 48/50\n",
      "173/173 [==============================] - 15s 86ms/step - loss: 0.0148\n",
      "Epoch 49/50\n",
      "173/173 [==============================] - 15s 86ms/step - loss: 0.0147\n",
      "Epoch 50/50\n",
      "173/173 [==============================] - 15s 86ms/step - loss: 0.0148\n"
     ]
    }
   ],
   "source": [
    "history = model.fit(trainX, trainY, epochs = 50, verbose = 1, batch_size = 4096) # 8192"
   ]
  },
  {
   "cell_type": "code",
   "execution_count": 58,
   "id": "9c9fdadf",
   "metadata": {},
   "outputs": [
    {
     "name": "stdout",
     "output_type": "stream",
     "text": [
      "22024/22024 [==============================] - 33s 2ms/step\n",
      "prediction\n",
      " [[0.4094858 ]\n",
      " [0.44226983]\n",
      " [0.4720221 ]\n",
      " ...\n",
      " [0.5200504 ]\n",
      " [0.49024397]\n",
      " [0.5119166 ]]\n",
      "\n",
      "Prediction Shape- (704750, 1)\n",
      "7341/7341 [==============================] - 10s 1ms/step\n",
      "prediction\n",
      " [[0.5126177]\n",
      " [0.5233012]\n",
      " [0.5524079]\n",
      " ...\n",
      " [0.6371577]\n",
      " [0.6475355]\n",
      " [0.6632731]]\n",
      "\n",
      "Prediction Shape- (234912, 1)\n"
     ]
    }
   ],
   "source": [
    "prediction_train = model.predict(trainX)\n",
    "print(\"prediction\\n\", prediction_train)\n",
    "print(\"\\nPrediction Shape-\", prediction_train.shape)\n",
    "\n",
    "prediction_train_copies_array = np.repeat(prediction_train, 6, axis=-1)\n",
    "pred_train = scaler.inverse_transform(np.reshape(prediction_train_copies_array, (len(prediction_train), 6)))[:, col2pred]\n",
    "true_value_train_copies_array = np.repeat(trainY, 6, axis=-1)\n",
    "true_value_train = scaler.inverse_transform(np.reshape(true_value_train_copies_array, (len(trainY), 6)))[:, col2pred]\n",
    "\n",
    "prediction_test=model.predict(testX)\n",
    "print(\"prediction\\n\", prediction_test)\n",
    "print(\"\\nPrediction Shape-\",prediction_test.shape)\n",
    "\n",
    "prediction_copies_test_array = np.repeat(prediction_test,6, axis=-1)\n",
    "pred_test=scaler.inverse_transform(np.reshape(prediction_copies_test_array,(len(prediction_test),6)))[:,col2pred]\n",
    "true_value_test_copies_array = np.repeat(testY,6, axis=-1)\n",
    "true_value_test=scaler.inverse_transform(np.reshape(true_value_test_copies_array,(len(testY),6)))[:,col2pred]"
   ]
  },
  {
   "cell_type": "code",
   "execution_count": 59,
   "id": "a9073243",
   "metadata": {},
   "outputs": [
    {
     "name": "stdout",
     "output_type": "stream",
     "text": [
      "**********TRAIN-SET***********\n",
      "MAE: 0.651\n",
      "MSE: 0.707\n",
      "RMSE: 0.841\n",
      "**********TEST-SET***********\n",
      "MAE: 0.663\n",
      "MSE: 0.731\n",
      "RMSE: 0.855\n"
     ]
    },
    {
     "data": {
      "image/png": "[encoded data removed]",
      "text/plain": [
       "<Figure size 432x288 with 1 Axes>"
      ]
     },
     "metadata": {
      "needs_background": "light"
     },
     "output_type": "display_data"
    }
   ],
   "source": [
    "def metrics(true_value_train, pred_value_train, true_value_test, pred_value_test):\n",
    "    print(\"**********TRAIN-SET***********\")\n",
    "    print(\"MAE: {:.3f}\".format(mean_absolute_error(\n",
    "        true_value_train, pred_value_train)))\n",
    "    print(\"MSE: {:.3f}\".format(\n",
    "        mean_squared_error(true_value_train, pred_value_train)))\n",
    "    print(\"RMSE: {:.3f}\".format(\n",
    "        mean_squared_error(true_value_train, pred_value_train, squared=False)))\n",
    "    # metrics test set\n",
    "    print(\"**********TEST-SET***********\")\n",
    "    print(\"MAE: {:.3f}\".format(mean_absolute_error(\n",
    "        true_value_test, pred_value_test)))\n",
    "    print(\"MSE: {:.3f}\".format(\n",
    "        mean_squared_error(true_value_test, pred_value_test)))\n",
    "    print(\"RMSE: {:.3f}\".format(\n",
    "        mean_squared_error(true_value_test, pred_value_test, squared=False)))\n",
    "    \n",
    "\n",
    "    plt.plot(true_value_test[:1250], color='red', label='Real deep duration')\n",
    "    plt.plot(pred_value_test[:1250], color='blue', label='Predicted deep duration')\n",
    "    plt.title('deep duration Prediction')\n",
    "    plt.xlabel('Time')\n",
    "    plt.ylabel('steps')\n",
    "    plt.legend()\n",
    "    plt.show()\n",
    "\n",
    "\n",
    "metrics(true_value_train, pred_train, true_value_test, pred_test)"
   ]
  }
 ],
 "metadata": {
  "kernelspec": {
   "display_name": "Python 3",
   "language": "python",
   "name": "python3"
  },
  "language_info": {
   "codemirror_mode": {
    "name": "ipython",
    "version": 3
   },
   "file_extension": ".py",
   "mimetype": "text/x-python",
   "name": "python",
   "nbconvert_exporter": "python",
   "pygments_lexer": "ipython3",
   "version": "3.8.8"
  },
  "vscode": {
   "interpreter": {
    "hash": "b4b4fd2252870ded9ed5bbb741847e4d846382e3dda5f0c9e0a86e88ef12f07d"
   }
  }
 },
 "nbformat": 4,
 "nbformat_minor": 5
}
