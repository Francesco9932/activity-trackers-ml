{
 "cells": [
  {
   "cell_type": "code",
   "execution_count": 1,
   "id": "9af9423d",
   "metadata": {},
   "outputs": [],
   "source": [
    "from math import sqrt\n",
    "import pandas as pd\n",
    "import tensorflow as tf\n",
    "import numpy as np\n",
    "from matplotlib import pyplot as plt\n",
    "import datetime\n",
    "from sklearn import metrics\n",
    "from numpy import concatenate\n",
    "from pandas import read_csv\n",
    "from pandas import DataFrame\n",
    "from pandas import concat\n",
    "from sklearn.preprocessing import MinMaxScaler\n",
    "from sklearn.preprocessing import LabelEncoder\n",
    "from sklearn.metrics import mean_squared_error\n",
    "from keras.models import Sequential\n",
    "from keras.layers import Dense\n",
    "from keras.layers import LSTM\n",
    "from keras.layers import Dropout"
   ]
  },
  {
   "cell_type": "code",
   "execution_count": 2,
   "id": "aab0230b",
   "metadata": {},
   "outputs": [
    {
     "data": {
      "text/html": [
       "<div>\n",
       "<style scoped>\n",
       "    .dataframe tbody tr th:only-of-type {\n",
       "        vertical-align: middle;\n",
       "    }\n",
       "\n",
       "    .dataframe tbody tr th {\n",
       "        vertical-align: top;\n",
       "    }\n",
       "\n",
       "    .dataframe thead th {\n",
       "        text-align: right;\n",
       "    }\n",
       "</style>\n",
       "<table border=\"1\" class=\"dataframe\">\n",
       "  <thead>\n",
       "    <tr style=\"text-align: right;\">\n",
       "      <th></th>\n",
       "      <th></th>\n",
       "      <th></th>\n",
       "      <th></th>\n",
       "      <th></th>\n",
       "      <th>steps</th>\n",
       "      <th>bedin</th>\n",
       "      <th>bedout</th>\n",
       "      <th>sleep duration</th>\n",
       "      <th>deepduration</th>\n",
       "      <th>lightduration</th>\n",
       "    </tr>\n",
       "    <tr>\n",
       "      <th>date</th>\n",
       "      <th>sex</th>\n",
       "      <th>age</th>\n",
       "      <th>height</th>\n",
       "      <th>timezone</th>\n",
       "      <th></th>\n",
       "      <th></th>\n",
       "      <th></th>\n",
       "      <th></th>\n",
       "      <th></th>\n",
       "      <th></th>\n",
       "    </tr>\n",
       "  </thead>\n",
       "  <tbody>\n",
       "    <tr>\n",
       "      <th>2016-04-02</th>\n",
       "      <th>1.0</th>\n",
       "      <th>39.0</th>\n",
       "      <th>174.0</th>\n",
       "      <th>1.0</th>\n",
       "      <td>2547.55</td>\n",
       "      <td>23.78</td>\n",
       "      <td>7.82</td>\n",
       "      <td>7.76</td>\n",
       "      <td>3.24</td>\n",
       "      <td>4.49</td>\n",
       "    </tr>\n",
       "    <tr>\n",
       "      <th>2016-04-03</th>\n",
       "      <th>1.0</th>\n",
       "      <th>39.0</th>\n",
       "      <th>174.0</th>\n",
       "      <th>1.0</th>\n",
       "      <td>329.53</td>\n",
       "      <td>23.41</td>\n",
       "      <td>6.48</td>\n",
       "      <td>6.93</td>\n",
       "      <td>2.54</td>\n",
       "      <td>4.38</td>\n",
       "    </tr>\n",
       "    <tr>\n",
       "      <th>2016-04-05</th>\n",
       "      <th>1.0</th>\n",
       "      <th>39.0</th>\n",
       "      <th>174.0</th>\n",
       "      <th>1.0</th>\n",
       "      <td>9031.89</td>\n",
       "      <td>22.95</td>\n",
       "      <td>6.73</td>\n",
       "      <td>7.19</td>\n",
       "      <td>3.04</td>\n",
       "      <td>4.14</td>\n",
       "    </tr>\n",
       "    <tr>\n",
       "      <th>2016-04-06</th>\n",
       "      <th>1.0</th>\n",
       "      <th>39.0</th>\n",
       "      <th>174.0</th>\n",
       "      <th>1.0</th>\n",
       "      <td>15331.70</td>\n",
       "      <td>22.44</td>\n",
       "      <td>6.18</td>\n",
       "      <td>7.61</td>\n",
       "      <td>3.51</td>\n",
       "      <td>4.14</td>\n",
       "    </tr>\n",
       "    <tr>\n",
       "      <th>2016-04-07</th>\n",
       "      <th>1.0</th>\n",
       "      <th>39.0</th>\n",
       "      <th>174.0</th>\n",
       "      <th>1.0</th>\n",
       "      <td>5222.45</td>\n",
       "      <td>24.57</td>\n",
       "      <td>4.04</td>\n",
       "      <td>3.38</td>\n",
       "      <td>1.92</td>\n",
       "      <td>1.49</td>\n",
       "    </tr>\n",
       "  </tbody>\n",
       "</table>\n",
       "</div>"
      ],
      "text/plain": [
       "                                        steps  bedin  bedout  sleep duration  \\\n",
       "date       sex age  height timezone                                            \n",
       "2016-04-02 1.0 39.0 174.0  1.0        2547.55  23.78    7.82            7.76   \n",
       "2016-04-03 1.0 39.0 174.0  1.0         329.53  23.41    6.48            6.93   \n",
       "2016-04-05 1.0 39.0 174.0  1.0        9031.89  22.95    6.73            7.19   \n",
       "2016-04-06 1.0 39.0 174.0  1.0       15331.70  22.44    6.18            7.61   \n",
       "2016-04-07 1.0 39.0 174.0  1.0        5222.45  24.57    4.04            3.38   \n",
       "\n",
       "                                     deepduration  lightduration  \n",
       "date       sex age  height timezone                               \n",
       "2016-04-02 1.0 39.0 174.0  1.0               3.24           4.49  \n",
       "2016-04-03 1.0 39.0 174.0  1.0               2.54           4.38  \n",
       "2016-04-05 1.0 39.0 174.0  1.0               3.04           4.14  \n",
       "2016-04-06 1.0 39.0 174.0  1.0               3.51           4.14  \n",
       "2016-04-07 1.0 39.0 174.0  1.0               1.92           1.49  "
      ]
     },
     "execution_count": 2,
     "metadata": {},
     "output_type": "execute_result"
    }
   ],
   "source": [
    "dataset = pd.read_csv('dataset.csv')\n",
    "dataset.set_index(['date','sex','age','height','timezone'], inplace=True)\n",
    "dataset.head()\n",
    "#dataset.shape"
   ]
  },
  {
   "cell_type": "code",
   "execution_count": 3,
   "id": "0640e454",
   "metadata": {},
   "outputs": [
    {
     "name": "stdout",
     "output_type": "stream",
     "text": [
      "(1041114, 6)\n",
      "(260279, 6)\n"
     ]
    }
   ],
   "source": [
    "test_split=round(len(dataset)*0.20)\n",
    "df_for_training=dataset[:-test_split]\n",
    "df_for_testing=dataset[-test_split:]\n",
    "print(df_for_training.shape)\n",
    "print(df_for_testing.shape)"
   ]
  },
  {
   "cell_type": "code",
   "execution_count": 4,
   "id": "78598abc",
   "metadata": {},
   "outputs": [
    {
     "data": {
      "text/plain": [
       "array([[0.01500376, 0.90356605, 0.91388359, 0.03490621, 0.01494396,\n",
       "        0.06262204],\n",
       "       [0.00193563, 0.90201741, 0.90749046, 0.03117269, 0.01171533,\n",
       "        0.06108787],\n",
       "       [0.05320818, 0.90009208, 0.90868321, 0.03234222, 0.01402149,\n",
       "        0.05774059],\n",
       "       ...,\n",
       "       [0.01273471, 0.90729114, 0.91746183, 0.03571589, 0.01595867,\n",
       "        0.06192469],\n",
       "       [0.01078535, 0.8977482 , 0.91650763, 0.04475732, 0.02296942,\n",
       "        0.06903766],\n",
       "       [0.02382384, 0.90235225, 0.91140267, 0.03481625, 0.01499008,\n",
       "        0.06290098]])"
      ]
     },
     "execution_count": 4,
     "metadata": {},
     "output_type": "execute_result"
    }
   ],
   "source": [
    "#Normalizzazione_internet\n",
    "scaler = MinMaxScaler(feature_range=(0,1))\n",
    "df_for_training_scaled = scaler.fit_transform(df_for_training)\n",
    "df_for_testing_scaled= scaler.transform(df_for_testing)\n",
    "df_for_training_scaled"
   ]
  },
  {
   "cell_type": "code",
   "execution_count": 5,
   "id": "4f5ea065",
   "metadata": {},
   "outputs": [],
   "source": [
    "#n_past is the number of step we will look in the past to predict the next target value.\n",
    "col2pred = 3 \n",
    "def createXY(dataset,n_past):\n",
    "    dataX = []\n",
    "    dataY = []\n",
    "    for i in range(n_past, len(dataset)):\n",
    "            #per ogni feature fa l'append dei precedenti\n",
    "            dataX.append(dataset[i - n_past:i, 0:dataset.shape[1]])\n",
    "            \n",
    "            dataY.append(dataset[i,col2pred])\n",
    "    return np.array(dataX),np.array(dataY)\n",
    "\n",
    "trainX,trainY=createXY(df_for_training_scaled,30)\n",
    "testX,testY=createXY(df_for_testing_scaled,30)"
   ]
  },
  {
   "cell_type": "code",
   "execution_count": 6,
   "id": "ba19cac1",
   "metadata": {},
   "outputs": [
    {
     "data": {
      "text/plain": [
       "6"
      ]
     },
     "execution_count": 6,
     "metadata": {},
     "output_type": "execute_result"
    }
   ],
   "source": [
    "dataset.shape[1]"
   ]
  },
  {
   "cell_type": "code",
   "execution_count": 7,
   "id": "02d618ea",
   "metadata": {},
   "outputs": [],
   "source": [
    "#Creazione del modello\n",
    "model = Sequential()\n",
    "model.add(LSTM(50,return_sequences=True,input_shape=(30,6)))\n",
    "model.add(LSTM(50))\n",
    "model.add(Dropout(0.2))\n",
    "model.add(Dense(1))\n",
    "model.compile(loss = 'mse',optimizer = 'adam')\n",
    "#epoche 10, batch size = 20"
   ]
  },
  {
   "cell_type": "code",
   "execution_count": 8,
   "id": "12f2bb7b",
   "metadata": {},
   "outputs": [
    {
     "name": "stdout",
     "output_type": "stream",
     "text": [
      "Model: \"sequential\"\n",
      "_________________________________________________________________\n",
      "Layer (type)                 Output Shape              Param #   \n",
      "=================================================================\n",
      "lstm (LSTM)                  (None, 30, 50)            11400     \n",
      "_________________________________________________________________\n",
      "lstm_1 (LSTM)                (None, 50)                20200     \n",
      "_________________________________________________________________\n",
      "dropout (Dropout)            (None, 50)                0         \n",
      "_________________________________________________________________\n",
      "dense (Dense)                (None, 1)                 51        \n",
      "=================================================================\n",
      "Total params: 31,651\n",
      "Trainable params: 31,651\n",
      "Non-trainable params: 0\n",
      "_________________________________________________________________\n"
     ]
    }
   ],
   "source": [
    "model.summary()"
   ]
  },
  {
   "cell_type": "code",
   "execution_count": 9,
   "id": "7d4974eb",
   "metadata": {},
   "outputs": [
    {
     "name": "stdout",
     "output_type": "stream",
     "text": [
      "Epoch 1/8\n",
      "52055/52055 [==============================] - 500s 10ms/step - loss: 5.3441e-05\n",
      "Epoch 2/8\n",
      "52055/52055 [==============================] - 478s 9ms/step - loss: 5.0793e-05\n",
      "Epoch 3/8\n",
      "52055/52055 [==============================] - 476s 9ms/step - loss: 5.0440e-05\n",
      "Epoch 4/8\n",
      "52055/52055 [==============================] - 478s 9ms/step - loss: 5.0317e-05\n",
      "Epoch 5/8\n",
      "52055/52055 [==============================] - 476s 9ms/step - loss: 5.0170e-05\n",
      "Epoch 6/8\n",
      "52055/52055 [==============================] - 477s 9ms/step - loss: 5.0105e-05\n",
      "Epoch 7/8\n",
      "52055/52055 [==============================] - 477s 9ms/step - loss: 5.0077e-05\n",
      "Epoch 8/8\n",
      "52055/52055 [==============================] - 478s 9ms/step - loss: 5.0005e-05\n"
     ]
    }
   ],
   "source": [
    "history = model.fit(trainX,trainY,epochs = 8, verbose = 1,batch_size = 20)"
   ]
  },
  {
   "cell_type": "code",
   "execution_count": 10,
   "id": "9c9fdadf",
   "metadata": {},
   "outputs": [
    {
     "name": "stdout",
     "output_type": "stream",
     "text": [
      "prediction\n",
      " [[0.03438841]\n",
      " [0.03476262]\n",
      " [0.03517511]\n",
      " ...\n",
      " [0.03321429]\n",
      " [0.03356389]\n",
      " [0.0333067 ]]\n",
      "\n",
      "Prediction Shape- (260249, 1)\n"
     ]
    }
   ],
   "source": [
    "prediction=model.predict(testX)\n",
    "print(\"prediction\\n\", prediction)\n",
    "print(\"\\nPrediction Shape-\",prediction.shape)"
   ]
  },
  {
   "cell_type": "code",
   "execution_count": 11,
   "id": "3cbd4b8b",
   "metadata": {},
   "outputs": [],
   "source": [
    "prediction_copies_array = np.repeat(prediction,6, axis=-1)\n",
    "\n",
    "pred=scaler.inverse_transform(np.reshape(prediction_copies_array,(len(prediction),6)))[:,col2pred]"
   ]
  },
  {
   "cell_type": "code",
   "execution_count": 12,
   "id": "28d05cfa",
   "metadata": {},
   "outputs": [],
   "source": [
    "original_copies_array = np.repeat(testY,6, axis=-1)\n",
    "original=scaler.inverse_transform(np.reshape(original_copies_array,(len(testY),6)))[:,col2pred]"
   ]
  },
  {
   "cell_type": "code",
   "execution_count": 13,
   "id": "cfe6a2e5",
   "metadata": {},
   "outputs": [
    {
     "name": "stdout",
     "output_type": "stream",
     "text": [
      "Pred Values--  [7.644888  7.7280774 7.819779  ... 7.3838687 7.4615884 7.404413 ]\n",
      "\n",
      "Original Values--  [8.1  8.29 7.33 ... 6.95 6.04 6.07]\n"
     ]
    }
   ],
   "source": [
    "print(\"Pred Values-- \" ,pred)\n",
    "print(\"\\nOriginal Values-- \" ,original)"
   ]
  },
  {
   "cell_type": "code",
   "execution_count": 20,
   "id": "f99683a2",
   "metadata": {},
   "outputs": [
    {
     "data": {
      "image/png": "[encoded data removed]",
      "text/plain": [
       "<Figure size 432x288 with 1 Axes>"
      ]
     },
     "metadata": {
      "needs_background": "light"
     },
     "output_type": "display_data"
    }
   ],
   "source": [
    "plt.plot(original[:1250], color = 'red', label = 'Real sleep duration')\n",
    "plt.plot(pred[:1250], color = 'blue', label = 'Predicted sleep duration')\n",
    "plt.title('sleep duration Prediction')\n",
    "plt.xlabel('Time')\n",
    "plt.ylabel('steps')\n",
    "plt.legend()\n",
    "plt.show()"
   ]
  },
  {
   "cell_type": "code",
   "execution_count": 15,
   "id": "20de5d4f",
   "metadata": {},
   "outputs": [],
   "source": [
    "#Normalizzazione\n",
    "x_scaler = MinMaxScaler()\n",
    "y_scaler = MinMaxScaler()\n",
    "\n",
    "x_data = x_scaler.fit_transform(dataset[['steps','bedin','bedout','sleep duration','deepduration','lightduration']])\n",
    "y_data = y_scaler.fit_transform(dataset[['sleep duration']])"
   ]
  }
 ],
 "metadata": {
  "kernelspec": {
   "display_name": "Python 3",
   "language": "python",
   "name": "python3"
  },
  "language_info": {
   "codemirror_mode": {
    "name": "ipython",
    "version": 3
   },
   "file_extension": ".py",
   "mimetype": "text/x-python",
   "name": "python",
   "nbconvert_exporter": "python",
   "pygments_lexer": "ipython3",
   "version": "3.8.8"
  }
 },
 "nbformat": 4,
 "nbformat_minor": 5
}
