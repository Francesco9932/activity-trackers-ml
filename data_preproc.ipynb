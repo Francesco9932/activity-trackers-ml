{
 "cells": [
  {
   "cell_type": "markdown",
   "metadata": {},
   "source": [
    "# Import"
   ]
  },
  {
   "cell_type": "markdown",
   "metadata": {},
   "source": [
    "## Librerie"
   ]
  },
  {
   "cell_type": "code",
   "execution_count": 4,
   "metadata": {},
   "outputs": [],
   "source": [
    "import numpy as np\n",
    "import pandas as pd\n",
    "import matplotlib.pyplot as plt\n",
    "import seaborn as sns"
   ]
  },
  {
   "cell_type": "markdown",
   "metadata": {},
   "source": [
    "## Dataset"
   ]
  },
  {
   "cell_type": "code",
   "execution_count": 5,
   "metadata": {},
   "outputs": [],
   "source": [
    "rel_path = \"../dataset/\""
   ]
  },
  {
   "cell_type": "code",
   "execution_count": 6,
   "metadata": {},
   "outputs": [
    {
     "data": {
      "text/html": [
       "<div>\n",
       "<style scoped>\n",
       "    .dataframe tbody tr th:only-of-type {\n",
       "        vertical-align: middle;\n",
       "    }\n",
       "\n",
       "    .dataframe tbody tr th {\n",
       "        vertical-align: top;\n",
       "    }\n",
       "\n",
       "    .dataframe thead th {\n",
       "        text-align: right;\n",
       "    }\n",
       "</style>\n",
       "<table border=\"1\" class=\"dataframe\">\n",
       "  <thead>\n",
       "    <tr style=\"text-align: right;\">\n",
       "      <th></th>\n",
       "      <th>user_id</th>\n",
       "      <th>timezone</th>\n",
       "      <th>sex</th>\n",
       "      <th>age</th>\n",
       "      <th>height</th>\n",
       "    </tr>\n",
       "  </thead>\n",
       "  <tbody>\n",
       "    <tr>\n",
       "      <th>0</th>\n",
       "      <td>fe5d7aacd82682e68d94ea1e6aa33a1e858337f7</td>\n",
       "      <td>PDT</td>\n",
       "      <td>Female</td>\n",
       "      <td>39</td>\n",
       "      <td>175</td>\n",
       "    </tr>\n",
       "    <tr>\n",
       "      <th>1</th>\n",
       "      <td>88359b8e24f4d6b758fb4566860ba9842fc5b350</td>\n",
       "      <td>UTC</td>\n",
       "      <td>Male</td>\n",
       "      <td>26</td>\n",
       "      <td>179</td>\n",
       "    </tr>\n",
       "    <tr>\n",
       "      <th>2</th>\n",
       "      <td>e061ccf5eece921027f618686a5aa2412d753b6b</td>\n",
       "      <td>PDT</td>\n",
       "      <td>Female</td>\n",
       "      <td>27</td>\n",
       "      <td>169</td>\n",
       "    </tr>\n",
       "    <tr>\n",
       "      <th>3</th>\n",
       "      <td>2e88aac4e69049d0845a5e2dce661ae8f4f55239</td>\n",
       "      <td>UTC</td>\n",
       "      <td>Male</td>\n",
       "      <td>61</td>\n",
       "      <td>177</td>\n",
       "    </tr>\n",
       "    <tr>\n",
       "      <th>4</th>\n",
       "      <td>b4e87340761e4c917db734cd52f56ed9abd0b314</td>\n",
       "      <td>UTC</td>\n",
       "      <td>Male</td>\n",
       "      <td>48</td>\n",
       "      <td>167</td>\n",
       "    </tr>\n",
       "    <tr>\n",
       "      <th>...</th>\n",
       "      <td>...</td>\n",
       "      <td>...</td>\n",
       "      <td>...</td>\n",
       "      <td>...</td>\n",
       "      <td>...</td>\n",
       "    </tr>\n",
       "    <tr>\n",
       "      <th>11608</th>\n",
       "      <td>9301626287129295bfbb3b23b353d8a325467bfb</td>\n",
       "      <td>UTC</td>\n",
       "      <td>Male</td>\n",
       "      <td>47</td>\n",
       "      <td>177</td>\n",
       "    </tr>\n",
       "    <tr>\n",
       "      <th>11609</th>\n",
       "      <td>265cceeb7baab0a461708ef7e79f861f9e10c9c4</td>\n",
       "      <td>PDT</td>\n",
       "      <td>Male</td>\n",
       "      <td>61</td>\n",
       "      <td>192</td>\n",
       "    </tr>\n",
       "    <tr>\n",
       "      <th>11610</th>\n",
       "      <td>f8304a01c96e8d2ca656aa501c3c211615a467a2</td>\n",
       "      <td>UTC</td>\n",
       "      <td>Male</td>\n",
       "      <td>42</td>\n",
       "      <td>186</td>\n",
       "    </tr>\n",
       "    <tr>\n",
       "      <th>11611</th>\n",
       "      <td>bb00f217ebdabe0527c4a72f1fa43efd8e0f3073</td>\n",
       "      <td>PDT</td>\n",
       "      <td>Female</td>\n",
       "      <td>23</td>\n",
       "      <td>151</td>\n",
       "    </tr>\n",
       "    <tr>\n",
       "      <th>11612</th>\n",
       "      <td>a8c6c2b373f1929ff0a40f48a385d1594d62154a</td>\n",
       "      <td>PDT</td>\n",
       "      <td>Female</td>\n",
       "      <td>25</td>\n",
       "      <td>169</td>\n",
       "    </tr>\n",
       "  </tbody>\n",
       "</table>\n",
       "<p>11613 rows × 5 columns</p>\n",
       "</div>"
      ],
      "text/plain": [
       "                                        user_id timezone     sex  age  height\n",
       "0      fe5d7aacd82682e68d94ea1e6aa33a1e858337f7      PDT  Female   39     175\n",
       "1      88359b8e24f4d6b758fb4566860ba9842fc5b350      UTC    Male   26     179\n",
       "2      e061ccf5eece921027f618686a5aa2412d753b6b      PDT  Female   27     169\n",
       "3      2e88aac4e69049d0845a5e2dce661ae8f4f55239      UTC    Male   61     177\n",
       "4      b4e87340761e4c917db734cd52f56ed9abd0b314      UTC    Male   48     167\n",
       "...                                         ...      ...     ...  ...     ...\n",
       "11608  9301626287129295bfbb3b23b353d8a325467bfb      UTC    Male   47     177\n",
       "11609  265cceeb7baab0a461708ef7e79f861f9e10c9c4      PDT    Male   61     192\n",
       "11610  f8304a01c96e8d2ca656aa501c3c211615a467a2      UTC    Male   42     186\n",
       "11611  bb00f217ebdabe0527c4a72f1fa43efd8e0f3073      PDT  Female   23     151\n",
       "11612  a8c6c2b373f1929ff0a40f48a385d1594d62154a      PDT  Female   25     169\n",
       "\n",
       "[11613 rows x 5 columns]"
      ]
     },
     "execution_count": 6,
     "metadata": {},
     "output_type": "execute_result"
    }
   ],
   "source": [
    "def load_userinfo(filepath):\n",
    "    df = pd.read_csv(filepath)\n",
    "    df.drop(df.columns[[0, 3]], axis=1, inplace=True)\n",
    "    df.columns = ['user_id', 'timezone', 'sex', 'age', 'height']\n",
    "    #print(df)\n",
    "    return df\n",
    "\n",
    "load_userinfo(rel_path + \"userinfo.csv\")"
   ]
  },
  {
   "cell_type": "code",
   "execution_count": 7,
   "metadata": {},
   "outputs": [],
   "source": [
    "def load_data(filepath):\n",
    "    df = pd.read_csv(filepath)\n",
    "    df.drop(df.columns[[0]], axis=1, inplace=True)\n",
    "    df.columns = ['user_id', 'date', 'type_data', 'value']\n",
    "    return df\n",
    "    # print(df)\n",
    "# type_data varia nel range 1-27 (vedere foto) (sono le feature del dataset)\n",
    "\n",
    "\n",
    "df_data = load_data(rel_path + \"data.csv\")\n"
   ]
  },
  {
   "cell_type": "markdown",
   "metadata": {},
   "source": [
    "# Data processing"
   ]
  },
  {
   "cell_type": "markdown",
   "metadata": {},
   "source": [
    "Divisione del dataset originale in 27 (come le features) mini dataset.\n",
    "I mini dataset sono poi riuniti per ottenere un dataset unico che per ogni riga contiene i valori di tutte le features in base a giorno e persona.\n",
    "Si unisce il dataset delle features a i dati (id, sesso, eta, altezza) delle persone."
   ]
  },
  {
   "cell_type": "code",
   "execution_count": 8,
   "metadata": {},
   "outputs": [
    {
     "name": "stderr",
     "output_type": "stream",
     "text": [
      "C:\\Users\\stefa\\AppData\\Local\\Temp\\ipykernel_3756\\3227206925.py:18: SettingWithCopyWarning: \n",
      "A value is trying to be set on a copy of a slice from a DataFrame\n",
      "\n",
      "See the caveats in the documentation: https://pandas.pydata.org/pandas-docs/stable/user_guide/indexing.html#returning-a-view-versus-a-copy\n",
      "  df_feature_i.drop(df_data.columns[[2]], axis=1, inplace=True)\n",
      "C:\\Users\\stefa\\AppData\\Local\\Temp\\ipykernel_3756\\3227206925.py:18: SettingWithCopyWarning: \n",
      "A value is trying to be set on a copy of a slice from a DataFrame\n",
      "\n",
      "See the caveats in the documentation: https://pandas.pydata.org/pandas-docs/stable/user_guide/indexing.html#returning-a-view-versus-a-copy\n",
      "  df_feature_i.drop(df_data.columns[[2]], axis=1, inplace=True)\n",
      "C:\\Users\\stefa\\AppData\\Local\\Temp\\ipykernel_3756\\3227206925.py:18: SettingWithCopyWarning: \n",
      "A value is trying to be set on a copy of a slice from a DataFrame\n",
      "\n",
      "See the caveats in the documentation: https://pandas.pydata.org/pandas-docs/stable/user_guide/indexing.html#returning-a-view-versus-a-copy\n",
      "  df_feature_i.drop(df_data.columns[[2]], axis=1, inplace=True)\n",
      "C:\\Users\\stefa\\AppData\\Local\\Temp\\ipykernel_3756\\3227206925.py:18: SettingWithCopyWarning: \n",
      "A value is trying to be set on a copy of a slice from a DataFrame\n",
      "\n",
      "See the caveats in the documentation: https://pandas.pydata.org/pandas-docs/stable/user_guide/indexing.html#returning-a-view-versus-a-copy\n",
      "  df_feature_i.drop(df_data.columns[[2]], axis=1, inplace=True)\n",
      "C:\\Users\\stefa\\AppData\\Local\\Temp\\ipykernel_3756\\3227206925.py:18: SettingWithCopyWarning: \n",
      "A value is trying to be set on a copy of a slice from a DataFrame\n",
      "\n",
      "See the caveats in the documentation: https://pandas.pydata.org/pandas-docs/stable/user_guide/indexing.html#returning-a-view-versus-a-copy\n",
      "  df_feature_i.drop(df_data.columns[[2]], axis=1, inplace=True)\n",
      "C:\\Users\\stefa\\AppData\\Local\\Temp\\ipykernel_3756\\3227206925.py:18: SettingWithCopyWarning: \n",
      "A value is trying to be set on a copy of a slice from a DataFrame\n",
      "\n",
      "See the caveats in the documentation: https://pandas.pydata.org/pandas-docs/stable/user_guide/indexing.html#returning-a-view-versus-a-copy\n",
      "  df_feature_i.drop(df_data.columns[[2]], axis=1, inplace=True)\n",
      "C:\\Users\\stefa\\AppData\\Local\\Temp\\ipykernel_3756\\3227206925.py:18: SettingWithCopyWarning: \n",
      "A value is trying to be set on a copy of a slice from a DataFrame\n",
      "\n",
      "See the caveats in the documentation: https://pandas.pydata.org/pandas-docs/stable/user_guide/indexing.html#returning-a-view-versus-a-copy\n",
      "  df_feature_i.drop(df_data.columns[[2]], axis=1, inplace=True)\n",
      "C:\\Users\\stefa\\AppData\\Local\\Temp\\ipykernel_3756\\3227206925.py:18: SettingWithCopyWarning: \n",
      "A value is trying to be set on a copy of a slice from a DataFrame\n",
      "\n",
      "See the caveats in the documentation: https://pandas.pydata.org/pandas-docs/stable/user_guide/indexing.html#returning-a-view-versus-a-copy\n",
      "  df_feature_i.drop(df_data.columns[[2]], axis=1, inplace=True)\n",
      "C:\\Users\\stefa\\AppData\\Local\\Temp\\ipykernel_3756\\3227206925.py:18: SettingWithCopyWarning: \n",
      "A value is trying to be set on a copy of a slice from a DataFrame\n",
      "\n",
      "See the caveats in the documentation: https://pandas.pydata.org/pandas-docs/stable/user_guide/indexing.html#returning-a-view-versus-a-copy\n",
      "  df_feature_i.drop(df_data.columns[[2]], axis=1, inplace=True)\n",
      "C:\\Users\\stefa\\AppData\\Local\\Temp\\ipykernel_3756\\3227206925.py:18: SettingWithCopyWarning: \n",
      "A value is trying to be set on a copy of a slice from a DataFrame\n",
      "\n",
      "See the caveats in the documentation: https://pandas.pydata.org/pandas-docs/stable/user_guide/indexing.html#returning-a-view-versus-a-copy\n",
      "  df_feature_i.drop(df_data.columns[[2]], axis=1, inplace=True)\n",
      "C:\\Users\\stefa\\AppData\\Local\\Temp\\ipykernel_3756\\3227206925.py:18: SettingWithCopyWarning: \n",
      "A value is trying to be set on a copy of a slice from a DataFrame\n",
      "\n",
      "See the caveats in the documentation: https://pandas.pydata.org/pandas-docs/stable/user_guide/indexing.html#returning-a-view-versus-a-copy\n",
      "  df_feature_i.drop(df_data.columns[[2]], axis=1, inplace=True)\n",
      "C:\\Users\\stefa\\AppData\\Local\\Temp\\ipykernel_3756\\3227206925.py:18: SettingWithCopyWarning: \n",
      "A value is trying to be set on a copy of a slice from a DataFrame\n",
      "\n",
      "See the caveats in the documentation: https://pandas.pydata.org/pandas-docs/stable/user_guide/indexing.html#returning-a-view-versus-a-copy\n",
      "  df_feature_i.drop(df_data.columns[[2]], axis=1, inplace=True)\n",
      "C:\\Users\\stefa\\AppData\\Local\\Temp\\ipykernel_3756\\3227206925.py:18: SettingWithCopyWarning: \n",
      "A value is trying to be set on a copy of a slice from a DataFrame\n",
      "\n",
      "See the caveats in the documentation: https://pandas.pydata.org/pandas-docs/stable/user_guide/indexing.html#returning-a-view-versus-a-copy\n",
      "  df_feature_i.drop(df_data.columns[[2]], axis=1, inplace=True)\n",
      "C:\\Users\\stefa\\AppData\\Local\\Temp\\ipykernel_3756\\3227206925.py:18: SettingWithCopyWarning: \n",
      "A value is trying to be set on a copy of a slice from a DataFrame\n",
      "\n",
      "See the caveats in the documentation: https://pandas.pydata.org/pandas-docs/stable/user_guide/indexing.html#returning-a-view-versus-a-copy\n",
      "  df_feature_i.drop(df_data.columns[[2]], axis=1, inplace=True)\n",
      "C:\\Users\\stefa\\AppData\\Local\\Temp\\ipykernel_3756\\3227206925.py:18: SettingWithCopyWarning: \n",
      "A value is trying to be set on a copy of a slice from a DataFrame\n",
      "\n",
      "See the caveats in the documentation: https://pandas.pydata.org/pandas-docs/stable/user_guide/indexing.html#returning-a-view-versus-a-copy\n",
      "  df_feature_i.drop(df_data.columns[[2]], axis=1, inplace=True)\n",
      "C:\\Users\\stefa\\AppData\\Local\\Temp\\ipykernel_3756\\3227206925.py:18: SettingWithCopyWarning: \n",
      "A value is trying to be set on a copy of a slice from a DataFrame\n",
      "\n",
      "See the caveats in the documentation: https://pandas.pydata.org/pandas-docs/stable/user_guide/indexing.html#returning-a-view-versus-a-copy\n",
      "  df_feature_i.drop(df_data.columns[[2]], axis=1, inplace=True)\n",
      "C:\\Users\\stefa\\AppData\\Local\\Temp\\ipykernel_3756\\3227206925.py:18: SettingWithCopyWarning: \n",
      "A value is trying to be set on a copy of a slice from a DataFrame\n",
      "\n",
      "See the caveats in the documentation: https://pandas.pydata.org/pandas-docs/stable/user_guide/indexing.html#returning-a-view-versus-a-copy\n",
      "  df_feature_i.drop(df_data.columns[[2]], axis=1, inplace=True)\n",
      "C:\\Users\\stefa\\AppData\\Local\\Temp\\ipykernel_3756\\3227206925.py:18: SettingWithCopyWarning: \n",
      "A value is trying to be set on a copy of a slice from a DataFrame\n",
      "\n",
      "See the caveats in the documentation: https://pandas.pydata.org/pandas-docs/stable/user_guide/indexing.html#returning-a-view-versus-a-copy\n",
      "  df_feature_i.drop(df_data.columns[[2]], axis=1, inplace=True)\n",
      "C:\\Users\\stefa\\AppData\\Local\\Temp\\ipykernel_3756\\3227206925.py:18: SettingWithCopyWarning: \n",
      "A value is trying to be set on a copy of a slice from a DataFrame\n",
      "\n",
      "See the caveats in the documentation: https://pandas.pydata.org/pandas-docs/stable/user_guide/indexing.html#returning-a-view-versus-a-copy\n",
      "  df_feature_i.drop(df_data.columns[[2]], axis=1, inplace=True)\n",
      "C:\\Users\\stefa\\AppData\\Local\\Temp\\ipykernel_3756\\3227206925.py:18: SettingWithCopyWarning: \n",
      "A value is trying to be set on a copy of a slice from a DataFrame\n",
      "\n",
      "See the caveats in the documentation: https://pandas.pydata.org/pandas-docs/stable/user_guide/indexing.html#returning-a-view-versus-a-copy\n",
      "  df_feature_i.drop(df_data.columns[[2]], axis=1, inplace=True)\n",
      "C:\\Users\\stefa\\AppData\\Local\\Temp\\ipykernel_3756\\3227206925.py:18: SettingWithCopyWarning: \n",
      "A value is trying to be set on a copy of a slice from a DataFrame\n",
      "\n",
      "See the caveats in the documentation: https://pandas.pydata.org/pandas-docs/stable/user_guide/indexing.html#returning-a-view-versus-a-copy\n",
      "  df_feature_i.drop(df_data.columns[[2]], axis=1, inplace=True)\n",
      "C:\\Users\\stefa\\AppData\\Local\\Temp\\ipykernel_3756\\3227206925.py:18: SettingWithCopyWarning: \n",
      "A value is trying to be set on a copy of a slice from a DataFrame\n",
      "\n",
      "See the caveats in the documentation: https://pandas.pydata.org/pandas-docs/stable/user_guide/indexing.html#returning-a-view-versus-a-copy\n",
      "  df_feature_i.drop(df_data.columns[[2]], axis=1, inplace=True)\n",
      "C:\\Users\\stefa\\AppData\\Local\\Temp\\ipykernel_3756\\3227206925.py:18: SettingWithCopyWarning: \n",
      "A value is trying to be set on a copy of a slice from a DataFrame\n",
      "\n",
      "See the caveats in the documentation: https://pandas.pydata.org/pandas-docs/stable/user_guide/indexing.html#returning-a-view-versus-a-copy\n",
      "  df_feature_i.drop(df_data.columns[[2]], axis=1, inplace=True)\n",
      "C:\\Users\\stefa\\AppData\\Local\\Temp\\ipykernel_3756\\3227206925.py:18: SettingWithCopyWarning: \n",
      "A value is trying to be set on a copy of a slice from a DataFrame\n",
      "\n",
      "See the caveats in the documentation: https://pandas.pydata.org/pandas-docs/stable/user_guide/indexing.html#returning-a-view-versus-a-copy\n",
      "  df_feature_i.drop(df_data.columns[[2]], axis=1, inplace=True)\n",
      "C:\\Users\\stefa\\AppData\\Local\\Temp\\ipykernel_3756\\3227206925.py:18: SettingWithCopyWarning: \n",
      "A value is trying to be set on a copy of a slice from a DataFrame\n",
      "\n",
      "See the caveats in the documentation: https://pandas.pydata.org/pandas-docs/stable/user_guide/indexing.html#returning-a-view-versus-a-copy\n",
      "  df_feature_i.drop(df_data.columns[[2]], axis=1, inplace=True)\n",
      "C:\\Users\\stefa\\AppData\\Local\\Temp\\ipykernel_3756\\3227206925.py:18: SettingWithCopyWarning: \n",
      "A value is trying to be set on a copy of a slice from a DataFrame\n",
      "\n",
      "See the caveats in the documentation: https://pandas.pydata.org/pandas-docs/stable/user_guide/indexing.html#returning-a-view-versus-a-copy\n",
      "  df_feature_i.drop(df_data.columns[[2]], axis=1, inplace=True)\n",
      "C:\\Users\\stefa\\AppData\\Local\\Temp\\ipykernel_3756\\3227206925.py:18: SettingWithCopyWarning: \n",
      "A value is trying to be set on a copy of a slice from a DataFrame\n",
      "\n",
      "See the caveats in the documentation: https://pandas.pydata.org/pandas-docs/stable/user_guide/indexing.html#returning-a-view-versus-a-copy\n",
      "  df_feature_i.drop(df_data.columns[[2]], axis=1, inplace=True)\n"
     ]
    },
    {
     "data": {
      "text/html": [
       "<div>\n",
       "<style scoped>\n",
       "    .dataframe tbody tr th:only-of-type {\n",
       "        vertical-align: middle;\n",
       "    }\n",
       "\n",
       "    .dataframe tbody tr th {\n",
       "        vertical-align: top;\n",
       "    }\n",
       "\n",
       "    .dataframe thead th {\n",
       "        text-align: right;\n",
       "    }\n",
       "</style>\n",
       "<table border=\"1\" class=\"dataframe\">\n",
       "  <thead>\n",
       "    <tr style=\"text-align: right;\">\n",
       "      <th></th>\n",
       "      <th>user_id</th>\n",
       "      <th>date</th>\n",
       "      <th>weight</th>\n",
       "    </tr>\n",
       "  </thead>\n",
       "  <tbody>\n",
       "    <tr>\n",
       "      <th>0</th>\n",
       "      <td>2bc16eda651db5936cd31e735c815296fc1579d9</td>\n",
       "      <td>2016-04-01</td>\n",
       "      <td>86.80</td>\n",
       "    </tr>\n",
       "    <tr>\n",
       "      <th>17</th>\n",
       "      <td>2bc16eda651db5936cd31e735c815296fc1579d9</td>\n",
       "      <td>2016-04-02</td>\n",
       "      <td>86.81</td>\n",
       "    </tr>\n",
       "    <tr>\n",
       "      <th>34</th>\n",
       "      <td>2bc16eda651db5936cd31e735c815296fc1579d9</td>\n",
       "      <td>2016-04-03</td>\n",
       "      <td>86.79</td>\n",
       "    </tr>\n",
       "    <tr>\n",
       "      <th>49</th>\n",
       "      <td>2bc16eda651db5936cd31e735c815296fc1579d9</td>\n",
       "      <td>2016-04-04</td>\n",
       "      <td>87.71</td>\n",
       "    </tr>\n",
       "    <tr>\n",
       "      <th>57</th>\n",
       "      <td>2bc16eda651db5936cd31e735c815296fc1579d9</td>\n",
       "      <td>2016-04-05</td>\n",
       "      <td>86.78</td>\n",
       "    </tr>\n",
       "  </tbody>\n",
       "</table>\n",
       "</div>"
      ],
      "text/plain": [
       "                                     user_id        date  weight\n",
       "0   2bc16eda651db5936cd31e735c815296fc1579d9  2016-04-01   86.80\n",
       "17  2bc16eda651db5936cd31e735c815296fc1579d9  2016-04-02   86.81\n",
       "34  2bc16eda651db5936cd31e735c815296fc1579d9  2016-04-03   86.79\n",
       "49  2bc16eda651db5936cd31e735c815296fc1579d9  2016-04-04   87.71\n",
       "57  2bc16eda651db5936cd31e735c815296fc1579d9  2016-04-05   86.78"
      ]
     },
     "execution_count": 8,
     "metadata": {},
     "output_type": "execute_result"
    }
   ],
   "source": [
    "# split dataset nelle 27 features\n",
    "num_features = 27\n",
    "feature_names = [None,\"steps\", \"weight\", \"BMI\", \"systolic blood presure\", \"pulse wave velocity\", \"pww healtiness\", \n",
    "                        \"heart rate avg\", \"heart rate min\", \"heart rate max\", \"sleep duration\", \"bedin\"\n",
    "                        ,\"bedout\", \"nbawake\", \"awakeduration\", \"timetosleep\", \"timetowakeup\", \"lightduration\",\n",
    "                        \"remduration\", \"deepduration\", \"activitytype\", \"activityduration\", \"activitycalories\",\n",
    "                        \"activityhrAVG\", \"activityhrMIN\", \"activityhrMAX\", \"stepsgaitspeed\", \"distancegaitspeed\"]\n",
    "\n",
    "\n",
    "df_array = [] # inizializzazione array di dataset\n",
    "\n",
    "# creazione dei 27 mini dataset inseriti in un array \n",
    "for i in range(1,num_features+1):\n",
    "    # creo un array di booleani sulla base del type_data che poi utilizzo per selezionare le righe utili \n",
    "    df_mask = df_data['type_data'] == i\n",
    "    df_feature_i = df_data[df_mask]\n",
    "    # elimino colonna relativa a type_data\n",
    "    df_feature_i.drop(df_data.columns[[2]], axis=1, inplace=True)\n",
    "    # rinomino le colonne in modo tale da mettere in evidenza il nome della feature\n",
    "    df_feature_i.columns=[\"user_id\",\"date\", feature_names[i]]\n",
    "    df_array.append(df_feature_i)\n",
    "\n",
    "df_array[1].head()"
   ]
  },
  {
   "cell_type": "code",
   "execution_count": 9,
   "metadata": {},
   "outputs": [],
   "source": [
    "# riunisco i mini dataset in un dataset finale (MEMO \".drop_duplicates()\")\n",
    "df_final = df_array[0]\n",
    "for i in range(1,num_features):\n",
    "    df_final = df_final.merge(df_array[i], on=[\"user_id\",\"date\"], how=\"outer\")"
   ]
  },
  {
   "cell_type": "code",
   "execution_count": 10,
   "metadata": {},
   "outputs": [
    {
     "data": {
      "text/plain": [
       "8752126"
      ]
     },
     "execution_count": 10,
     "metadata": {},
     "output_type": "execute_result"
    }
   ],
   "source": [
    "len(df_final)"
   ]
  },
  {
   "cell_type": "code",
   "execution_count": 16,
   "metadata": {},
   "outputs": [
    {
     "data": {
      "image/png": "[encoded data removed]",
      "text/plain": [
       "<Figure size 432x288 with 2 Axes>"
      ]
     },
     "metadata": {
      "needs_background": "light"
     },
     "output_type": "display_data"
    }
   ],
   "source": [
    "sns.heatmap(df_final.corr(), vmin=-1, vmax=1, cmap=\"Blues\")\n",
    "plt.savefig('heatmap.png', dpi=300, bbox_inches='tight')\n"
   ]
  },
  {
   "cell_type": "code",
   "execution_count": null,
   "metadata": {
    "scrolled": false
   },
   "outputs": [],
   "source": []
  },
  {
   "cell_type": "code",
   "execution_count": null,
   "metadata": {},
   "outputs": [],
   "source": []
  }
 ],
 "metadata": {
  "kernelspec": {
   "display_name": "Python 3",
   "language": "python",
   "name": "python3"
  },
  "language_info": {
   "codemirror_mode": {
    "name": "ipython",
    "version": 3
   },
   "file_extension": ".py",
   "mimetype": "text/x-python",
   "name": "python",
   "nbconvert_exporter": "python",
   "pygments_lexer": "ipython3",
   "version": "3.9.13"
  },
  "vscode": {
   "interpreter": {
    "hash": "b4b4fd2252870ded9ed5bbb741847e4d846382e3dda5f0c9e0a86e88ef12f07d"
   }
  }
 },
 "nbformat": 4,
 "nbformat_minor": 2
}
