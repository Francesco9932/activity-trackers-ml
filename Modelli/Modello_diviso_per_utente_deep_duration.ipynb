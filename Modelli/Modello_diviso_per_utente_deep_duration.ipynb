{
 "cells": [
  {
   "cell_type": "code",
   "execution_count": 54,
   "id": "8f7e69bd",
   "metadata": {},
   "outputs": [],
   "source": [
    "train_and_save = True"
   ]
  },
  {
   "cell_type": "markdown",
   "id": "1cafabb6",
   "metadata": {},
   "source": [
    "# Import"
   ]
  },
  {
   "cell_type": "markdown",
   "id": "14cce8d6",
   "metadata": {},
   "source": [
    "### Librerie"
   ]
  },
  {
   "cell_type": "code",
   "execution_count": 2,
   "id": "9af9423d",
   "metadata": {},
   "outputs": [],
   "source": [
    "import pandas as pd\n",
    "import numpy as np\n",
    "from matplotlib import pyplot as plt\n",
    "from sklearn.preprocessing import MinMaxScaler, LabelEncoder\n",
    "from keras.models import Sequential, Model\n",
    "from keras.layers import *\n",
    "from sklearn.metrics import *\n",
    "from keras.optimizers import Adam\n",
    "from statsmodels.tsa.seasonal import seasonal_decompose\n",
    "import keras.backend as K\n",
    "from tensorflow import keras\n",
    "from tensorflow.keras import layers\n",
    "import time\n",
    "from math import sqrt\n",
    "import json\n",
    "from efficientnet.tfkeras import EfficientNetB4"
   ]
  },
  {
   "cell_type": "markdown",
   "id": "014c5b9e",
   "metadata": {},
   "source": [
    "### Dataset"
   ]
  },
  {
   "cell_type": "code",
   "execution_count": 3,
   "id": "aab0230b",
   "metadata": {},
   "outputs": [],
   "source": [
    "dataset = pd.read_csv('../dati_continui_con_id.csv')"
   ]
  },
  {
   "cell_type": "code",
   "execution_count": 4,
   "id": "0640e454",
   "metadata": {
    "scrolled": true
   },
   "outputs": [
    {
     "data": {
      "text/html": [
       "<div>\n",
       "<style scoped>\n",
       "    .dataframe tbody tr th:only-of-type {\n",
       "        vertical-align: middle;\n",
       "    }\n",
       "\n",
       "    .dataframe tbody tr th {\n",
       "        vertical-align: top;\n",
       "    }\n",
       "\n",
       "    .dataframe thead th {\n",
       "        text-align: right;\n",
       "    }\n",
       "</style>\n",
       "<table border=\"1\" class=\"dataframe\">\n",
       "  <thead>\n",
       "    <tr style=\"text-align: right;\">\n",
       "      <th></th>\n",
       "      <th>user_id</th>\n",
       "      <th>date</th>\n",
       "      <th>steps</th>\n",
       "      <th>bedin</th>\n",
       "      <th>bedout</th>\n",
       "      <th>sleep duration</th>\n",
       "      <th>deepduration</th>\n",
       "      <th>lightduration</th>\n",
       "    </tr>\n",
       "  </thead>\n",
       "  <tbody>\n",
       "    <tr>\n",
       "      <th>160</th>\n",
       "      <td>2bc16eda651db5936cd31e735c815296fc1579d9</td>\n",
       "      <td>2017-02-10</td>\n",
       "      <td>5305.23</td>\n",
       "      <td>25.26</td>\n",
       "      <td>6.33</td>\n",
       "      <td>4.60</td>\n",
       "      <td>1.72</td>\n",
       "      <td>2.88</td>\n",
       "    </tr>\n",
       "    <tr>\n",
       "      <th>161</th>\n",
       "      <td>2bc16eda651db5936cd31e735c815296fc1579d9</td>\n",
       "      <td>2017-02-11</td>\n",
       "      <td>7534.40</td>\n",
       "      <td>23.03</td>\n",
       "      <td>7.69</td>\n",
       "      <td>8.53</td>\n",
       "      <td>4.22</td>\n",
       "      <td>4.34</td>\n",
       "    </tr>\n",
       "    <tr>\n",
       "      <th>162</th>\n",
       "      <td>2bc16eda651db5936cd31e735c815296fc1579d9</td>\n",
       "      <td>2017-03-08</td>\n",
       "      <td>4560.29</td>\n",
       "      <td>23.53</td>\n",
       "      <td>6.28</td>\n",
       "      <td>6.51</td>\n",
       "      <td>2.08</td>\n",
       "      <td>4.44</td>\n",
       "    </tr>\n",
       "    <tr>\n",
       "      <th>163</th>\n",
       "      <td>2bc16eda651db5936cd31e735c815296fc1579d9</td>\n",
       "      <td>2017-03-09</td>\n",
       "      <td>6990.77</td>\n",
       "      <td>23.16</td>\n",
       "      <td>6.44</td>\n",
       "      <td>7.07</td>\n",
       "      <td>2.84</td>\n",
       "      <td>4.24</td>\n",
       "    </tr>\n",
       "    <tr>\n",
       "      <th>164</th>\n",
       "      <td>2bc16eda651db5936cd31e735c815296fc1579d9</td>\n",
       "      <td>2017-03-10</td>\n",
       "      <td>8324.80</td>\n",
       "      <td>23.42</td>\n",
       "      <td>5.90</td>\n",
       "      <td>6.35</td>\n",
       "      <td>2.26</td>\n",
       "      <td>4.11</td>\n",
       "    </tr>\n",
       "    <tr>\n",
       "      <th>165</th>\n",
       "      <td>2bc16eda651db5936cd31e735c815296fc1579d9</td>\n",
       "      <td>2017-03-11</td>\n",
       "      <td>6052.50</td>\n",
       "      <td>23.17</td>\n",
       "      <td>6.18</td>\n",
       "      <td>6.73</td>\n",
       "      <td>2.86</td>\n",
       "      <td>3.90</td>\n",
       "    </tr>\n",
       "    <tr>\n",
       "      <th>166</th>\n",
       "      <td>2bc16eda651db5936cd31e735c815296fc1579d9</td>\n",
       "      <td>2017-03-12</td>\n",
       "      <td>7725.14</td>\n",
       "      <td>21.67</td>\n",
       "      <td>6.95</td>\n",
       "      <td>8.72</td>\n",
       "      <td>3.79</td>\n",
       "      <td>4.98</td>\n",
       "    </tr>\n",
       "    <tr>\n",
       "      <th>167</th>\n",
       "      <td>2bc16eda651db5936cd31e735c815296fc1579d9</td>\n",
       "      <td>2017-03-13</td>\n",
       "      <td>10042.03</td>\n",
       "      <td>21.28</td>\n",
       "      <td>5.59</td>\n",
       "      <td>8.08</td>\n",
       "      <td>2.37</td>\n",
       "      <td>5.71</td>\n",
       "    </tr>\n",
       "    <tr>\n",
       "      <th>168</th>\n",
       "      <td>2bc16eda651db5936cd31e735c815296fc1579d9</td>\n",
       "      <td>2017-03-14</td>\n",
       "      <td>7957.16</td>\n",
       "      <td>25.40</td>\n",
       "      <td>7.71</td>\n",
       "      <td>6.16</td>\n",
       "      <td>2.24</td>\n",
       "      <td>3.91</td>\n",
       "    </tr>\n",
       "    <tr>\n",
       "      <th>169</th>\n",
       "      <td>ce96039ca66a9b98f97b202c177cf0ef7d4aa97d</td>\n",
       "      <td>2016-04-19</td>\n",
       "      <td>6689.42</td>\n",
       "      <td>23.37</td>\n",
       "      <td>6.47</td>\n",
       "      <td>6.53</td>\n",
       "      <td>1.18</td>\n",
       "      <td>3.83</td>\n",
       "    </tr>\n",
       "    <tr>\n",
       "      <th>170</th>\n",
       "      <td>ce96039ca66a9b98f97b202c177cf0ef7d4aa97d</td>\n",
       "      <td>2016-04-20</td>\n",
       "      <td>3498.03</td>\n",
       "      <td>20.55</td>\n",
       "      <td>14.52</td>\n",
       "      <td>12.72</td>\n",
       "      <td>3.84</td>\n",
       "      <td>6.84</td>\n",
       "    </tr>\n",
       "    <tr>\n",
       "      <th>171</th>\n",
       "      <td>ce96039ca66a9b98f97b202c177cf0ef7d4aa97d</td>\n",
       "      <td>2016-04-21</td>\n",
       "      <td>10582.15</td>\n",
       "      <td>24.01</td>\n",
       "      <td>8.51</td>\n",
       "      <td>7.40</td>\n",
       "      <td>1.98</td>\n",
       "      <td>4.30</td>\n",
       "    </tr>\n",
       "    <tr>\n",
       "      <th>172</th>\n",
       "      <td>ce96039ca66a9b98f97b202c177cf0ef7d4aa97d</td>\n",
       "      <td>2016-04-22</td>\n",
       "      <td>2414.78</td>\n",
       "      <td>35.94</td>\n",
       "      <td>21.64</td>\n",
       "      <td>0.63</td>\n",
       "      <td>0.05</td>\n",
       "      <td>0.58</td>\n",
       "    </tr>\n",
       "    <tr>\n",
       "      <th>173</th>\n",
       "      <td>ce96039ca66a9b98f97b202c177cf0ef7d4aa97d</td>\n",
       "      <td>2016-04-23</td>\n",
       "      <td>5855.37</td>\n",
       "      <td>11.79</td>\n",
       "      <td>13.74</td>\n",
       "      <td>14.81</td>\n",
       "      <td>3.92</td>\n",
       "      <td>7.83</td>\n",
       "    </tr>\n",
       "    <tr>\n",
       "      <th>174</th>\n",
       "      <td>ce96039ca66a9b98f97b202c177cf0ef7d4aa97d</td>\n",
       "      <td>2016-04-24</td>\n",
       "      <td>6977.67</td>\n",
       "      <td>25.82</td>\n",
       "      <td>11.74</td>\n",
       "      <td>9.55</td>\n",
       "      <td>2.17</td>\n",
       "      <td>5.74</td>\n",
       "    </tr>\n",
       "    <tr>\n",
       "      <th>175</th>\n",
       "      <td>ce96039ca66a9b98f97b202c177cf0ef7d4aa97d</td>\n",
       "      <td>2016-04-25</td>\n",
       "      <td>8375.33</td>\n",
       "      <td>26.55</td>\n",
       "      <td>8.36</td>\n",
       "      <td>5.82</td>\n",
       "      <td>1.43</td>\n",
       "      <td>3.43</td>\n",
       "    </tr>\n",
       "    <tr>\n",
       "      <th>176</th>\n",
       "      <td>ce96039ca66a9b98f97b202c177cf0ef7d4aa97d</td>\n",
       "      <td>2016-04-26</td>\n",
       "      <td>9268.30</td>\n",
       "      <td>21.00</td>\n",
       "      <td>7.28</td>\n",
       "      <td>8.29</td>\n",
       "      <td>2.14</td>\n",
       "      <td>4.66</td>\n",
       "    </tr>\n",
       "    <tr>\n",
       "      <th>177</th>\n",
       "      <td>ce96039ca66a9b98f97b202c177cf0ef7d4aa97d</td>\n",
       "      <td>2016-04-27</td>\n",
       "      <td>7086.95</td>\n",
       "      <td>22.68</td>\n",
       "      <td>8.99</td>\n",
       "      <td>10.36</td>\n",
       "      <td>2.73</td>\n",
       "      <td>6.10</td>\n",
       "    </tr>\n",
       "    <tr>\n",
       "      <th>178</th>\n",
       "      <td>ce96039ca66a9b98f97b202c177cf0ef7d4aa97d</td>\n",
       "      <td>2016-04-28</td>\n",
       "      <td>13633.74</td>\n",
       "      <td>22.86</td>\n",
       "      <td>8.26</td>\n",
       "      <td>8.14</td>\n",
       "      <td>1.62</td>\n",
       "      <td>4.91</td>\n",
       "    </tr>\n",
       "    <tr>\n",
       "      <th>179</th>\n",
       "      <td>ce96039ca66a9b98f97b202c177cf0ef7d4aa97d</td>\n",
       "      <td>2016-04-29</td>\n",
       "      <td>8804.95</td>\n",
       "      <td>23.24</td>\n",
       "      <td>9.63</td>\n",
       "      <td>9.84</td>\n",
       "      <td>2.50</td>\n",
       "      <td>5.57</td>\n",
       "    </tr>\n",
       "  </tbody>\n",
       "</table>\n",
       "</div>"
      ],
      "text/plain": [
       "                                      user_id        date     steps  bedin  \\\n",
       "160  2bc16eda651db5936cd31e735c815296fc1579d9  2017-02-10   5305.23  25.26   \n",
       "161  2bc16eda651db5936cd31e735c815296fc1579d9  2017-02-11   7534.40  23.03   \n",
       "162  2bc16eda651db5936cd31e735c815296fc1579d9  2017-03-08   4560.29  23.53   \n",
       "163  2bc16eda651db5936cd31e735c815296fc1579d9  2017-03-09   6990.77  23.16   \n",
       "164  2bc16eda651db5936cd31e735c815296fc1579d9  2017-03-10   8324.80  23.42   \n",
       "165  2bc16eda651db5936cd31e735c815296fc1579d9  2017-03-11   6052.50  23.17   \n",
       "166  2bc16eda651db5936cd31e735c815296fc1579d9  2017-03-12   7725.14  21.67   \n",
       "167  2bc16eda651db5936cd31e735c815296fc1579d9  2017-03-13  10042.03  21.28   \n",
       "168  2bc16eda651db5936cd31e735c815296fc1579d9  2017-03-14   7957.16  25.40   \n",
       "169  ce96039ca66a9b98f97b202c177cf0ef7d4aa97d  2016-04-19   6689.42  23.37   \n",
       "170  ce96039ca66a9b98f97b202c177cf0ef7d4aa97d  2016-04-20   3498.03  20.55   \n",
       "171  ce96039ca66a9b98f97b202c177cf0ef7d4aa97d  2016-04-21  10582.15  24.01   \n",
       "172  ce96039ca66a9b98f97b202c177cf0ef7d4aa97d  2016-04-22   2414.78  35.94   \n",
       "173  ce96039ca66a9b98f97b202c177cf0ef7d4aa97d  2016-04-23   5855.37  11.79   \n",
       "174  ce96039ca66a9b98f97b202c177cf0ef7d4aa97d  2016-04-24   6977.67  25.82   \n",
       "175  ce96039ca66a9b98f97b202c177cf0ef7d4aa97d  2016-04-25   8375.33  26.55   \n",
       "176  ce96039ca66a9b98f97b202c177cf0ef7d4aa97d  2016-04-26   9268.30  21.00   \n",
       "177  ce96039ca66a9b98f97b202c177cf0ef7d4aa97d  2016-04-27   7086.95  22.68   \n",
       "178  ce96039ca66a9b98f97b202c177cf0ef7d4aa97d  2016-04-28  13633.74  22.86   \n",
       "179  ce96039ca66a9b98f97b202c177cf0ef7d4aa97d  2016-04-29   8804.95  23.24   \n",
       "\n",
       "     bedout  sleep duration  deepduration  lightduration  \n",
       "160    6.33            4.60          1.72           2.88  \n",
       "161    7.69            8.53          4.22           4.34  \n",
       "162    6.28            6.51          2.08           4.44  \n",
       "163    6.44            7.07          2.84           4.24  \n",
       "164    5.90            6.35          2.26           4.11  \n",
       "165    6.18            6.73          2.86           3.90  \n",
       "166    6.95            8.72          3.79           4.98  \n",
       "167    5.59            8.08          2.37           5.71  \n",
       "168    7.71            6.16          2.24           3.91  \n",
       "169    6.47            6.53          1.18           3.83  \n",
       "170   14.52           12.72          3.84           6.84  \n",
       "171    8.51            7.40          1.98           4.30  \n",
       "172   21.64            0.63          0.05           0.58  \n",
       "173   13.74           14.81          3.92           7.83  \n",
       "174   11.74            9.55          2.17           5.74  \n",
       "175    8.36            5.82          1.43           3.43  \n",
       "176    7.28            8.29          2.14           4.66  \n",
       "177    8.99           10.36          2.73           6.10  \n",
       "178    8.26            8.14          1.62           4.91  \n",
       "179    9.63            9.84          2.50           5.57  "
      ]
     },
     "execution_count": 4,
     "metadata": {},
     "output_type": "execute_result"
    }
   ],
   "source": [
    "dataset[160:180]"
   ]
  },
  {
   "cell_type": "code",
   "execution_count": 5,
   "id": "e02f3ea9",
   "metadata": {},
   "outputs": [
    {
     "data": {
      "text/html": [
       "<div>\n",
       "<style scoped>\n",
       "    .dataframe tbody tr th:only-of-type {\n",
       "        vertical-align: middle;\n",
       "    }\n",
       "\n",
       "    .dataframe tbody tr th {\n",
       "        vertical-align: top;\n",
       "    }\n",
       "\n",
       "    .dataframe thead th {\n",
       "        text-align: right;\n",
       "    }\n",
       "</style>\n",
       "<table border=\"1\" class=\"dataframe\">\n",
       "  <thead>\n",
       "    <tr style=\"text-align: right;\">\n",
       "      <th></th>\n",
       "      <th>user_id</th>\n",
       "      <th>timezone</th>\n",
       "      <th>sex</th>\n",
       "      <th>age</th>\n",
       "      <th>height</th>\n",
       "    </tr>\n",
       "  </thead>\n",
       "  <tbody>\n",
       "    <tr>\n",
       "      <th>0</th>\n",
       "      <td>fe5d7aacd82682e68d94ea1e6aa33a1e858337f7</td>\n",
       "      <td>PDT</td>\n",
       "      <td>Female</td>\n",
       "      <td>39</td>\n",
       "      <td>175</td>\n",
       "    </tr>\n",
       "    <tr>\n",
       "      <th>1</th>\n",
       "      <td>88359b8e24f4d6b758fb4566860ba9842fc5b350</td>\n",
       "      <td>UTC</td>\n",
       "      <td>Male</td>\n",
       "      <td>26</td>\n",
       "      <td>179</td>\n",
       "    </tr>\n",
       "    <tr>\n",
       "      <th>2</th>\n",
       "      <td>e061ccf5eece921027f618686a5aa2412d753b6b</td>\n",
       "      <td>PDT</td>\n",
       "      <td>Female</td>\n",
       "      <td>27</td>\n",
       "      <td>169</td>\n",
       "    </tr>\n",
       "    <tr>\n",
       "      <th>3</th>\n",
       "      <td>2e88aac4e69049d0845a5e2dce661ae8f4f55239</td>\n",
       "      <td>UTC</td>\n",
       "      <td>Male</td>\n",
       "      <td>61</td>\n",
       "      <td>177</td>\n",
       "    </tr>\n",
       "    <tr>\n",
       "      <th>4</th>\n",
       "      <td>b4e87340761e4c917db734cd52f56ed9abd0b314</td>\n",
       "      <td>UTC</td>\n",
       "      <td>Male</td>\n",
       "      <td>48</td>\n",
       "      <td>167</td>\n",
       "    </tr>\n",
       "  </tbody>\n",
       "</table>\n",
       "</div>"
      ],
      "text/plain": [
       "                                    user_id timezone     sex  age  height\n",
       "0  fe5d7aacd82682e68d94ea1e6aa33a1e858337f7      PDT  Female   39     175\n",
       "1  88359b8e24f4d6b758fb4566860ba9842fc5b350      UTC    Male   26     179\n",
       "2  e061ccf5eece921027f618686a5aa2412d753b6b      PDT  Female   27     169\n",
       "3  2e88aac4e69049d0845a5e2dce661ae8f4f55239      UTC    Male   61     177\n",
       "4  b4e87340761e4c917db734cd52f56ed9abd0b314      UTC    Male   48     167"
      ]
     },
     "execution_count": 5,
     "metadata": {},
     "output_type": "execute_result"
    }
   ],
   "source": [
    "# creo una lista di di dataframe dove ogni elemento è l'insieme delle date per utente\n",
    "utenti = []\n",
    "# carico elenco utenti per scorrere tutti gli id\n",
    "elenco_utenti = pd.read_csv('../../dataset/userinfo.csv')\n",
    "elenco_utenti.drop(elenco_utenti.columns[[0, 3]], axis=1, inplace=True)\n",
    "elenco_utenti.columns = ['user_id', 'timezone', 'sex', 'age', 'height']\n",
    "elenco_utenti.head()"
   ]
  },
  {
   "cell_type": "code",
   "execution_count": 6,
   "id": "c3d5b345",
   "metadata": {},
   "outputs": [
    {
     "data": {
      "text/html": [
       "<div>\n",
       "<style scoped>\n",
       "    .dataframe tbody tr th:only-of-type {\n",
       "        vertical-align: middle;\n",
       "    }\n",
       "\n",
       "    .dataframe tbody tr th {\n",
       "        vertical-align: top;\n",
       "    }\n",
       "\n",
       "    .dataframe thead th {\n",
       "        text-align: right;\n",
       "    }\n",
       "</style>\n",
       "<table border=\"1\" class=\"dataframe\">\n",
       "  <thead>\n",
       "    <tr style=\"text-align: right;\">\n",
       "      <th></th>\n",
       "      <th></th>\n",
       "      <th>steps</th>\n",
       "      <th>bedin</th>\n",
       "      <th>bedout</th>\n",
       "      <th>sleep duration</th>\n",
       "      <th>deepduration</th>\n",
       "      <th>lightduration</th>\n",
       "    </tr>\n",
       "    <tr>\n",
       "      <th>user_id</th>\n",
       "      <th>date</th>\n",
       "      <th></th>\n",
       "      <th></th>\n",
       "      <th></th>\n",
       "      <th></th>\n",
       "      <th></th>\n",
       "      <th></th>\n",
       "    </tr>\n",
       "  </thead>\n",
       "  <tbody>\n",
       "    <tr>\n",
       "      <th rowspan=\"5\" valign=\"top\">2bc16eda651db5936cd31e735c815296fc1579d9</th>\n",
       "      <th>2016-04-19</th>\n",
       "      <td>7716.87</td>\n",
       "      <td>24.08</td>\n",
       "      <td>6.81</td>\n",
       "      <td>5.98</td>\n",
       "      <td>1.08</td>\n",
       "      <td>4.87</td>\n",
       "    </tr>\n",
       "    <tr>\n",
       "      <th>2016-04-20</th>\n",
       "      <td>7647.55</td>\n",
       "      <td>27.36</td>\n",
       "      <td>6.50</td>\n",
       "      <td>3.00</td>\n",
       "      <td>1.61</td>\n",
       "      <td>1.37</td>\n",
       "    </tr>\n",
       "    <tr>\n",
       "      <th>2016-04-21</th>\n",
       "      <td>6041.68</td>\n",
       "      <td>23.79</td>\n",
       "      <td>7.93</td>\n",
       "      <td>7.61</td>\n",
       "      <td>3.40</td>\n",
       "      <td>4.22</td>\n",
       "    </tr>\n",
       "    <tr>\n",
       "      <th>2016-04-22</th>\n",
       "      <td>5094.85</td>\n",
       "      <td>25.94</td>\n",
       "      <td>6.44</td>\n",
       "      <td>4.59</td>\n",
       "      <td>1.28</td>\n",
       "      <td>3.33</td>\n",
       "    </tr>\n",
       "    <tr>\n",
       "      <th>2016-04-23</th>\n",
       "      <td>4428.15</td>\n",
       "      <td>25.50</td>\n",
       "      <td>11.75</td>\n",
       "      <td>9.91</td>\n",
       "      <td>4.98</td>\n",
       "      <td>4.84</td>\n",
       "    </tr>\n",
       "    <tr>\n",
       "      <th>...</th>\n",
       "      <th>...</th>\n",
       "      <td>...</td>\n",
       "      <td>...</td>\n",
       "      <td>...</td>\n",
       "      <td>...</td>\n",
       "      <td>...</td>\n",
       "      <td>...</td>\n",
       "    </tr>\n",
       "    <tr>\n",
       "      <th rowspan=\"5\" valign=\"top\">b2caf89287780fcb5cc28c092dc5d4eacb931e88</th>\n",
       "      <th>2017-03-27</th>\n",
       "      <td>5573.72</td>\n",
       "      <td>21.02</td>\n",
       "      <td>6.36</td>\n",
       "      <td>8.87</td>\n",
       "      <td>4.71</td>\n",
       "      <td>4.16</td>\n",
       "    </tr>\n",
       "    <tr>\n",
       "      <th>2017-03-28</th>\n",
       "      <td>6935.26</td>\n",
       "      <td>20.89</td>\n",
       "      <td>7.32</td>\n",
       "      <td>9.17</td>\n",
       "      <td>5.23</td>\n",
       "      <td>3.92</td>\n",
       "    </tr>\n",
       "    <tr>\n",
       "      <th>2017-03-29</th>\n",
       "      <td>4976.99</td>\n",
       "      <td>20.86</td>\n",
       "      <td>7.07</td>\n",
       "      <td>9.27</td>\n",
       "      <td>5.45</td>\n",
       "      <td>3.81</td>\n",
       "    </tr>\n",
       "    <tr>\n",
       "      <th>2017-03-30</th>\n",
       "      <td>3719.77</td>\n",
       "      <td>26.25</td>\n",
       "      <td>7.91</td>\n",
       "      <td>5.30</td>\n",
       "      <td>2.65</td>\n",
       "      <td>2.64</td>\n",
       "    </tr>\n",
       "    <tr>\n",
       "      <th>2017-03-31</th>\n",
       "      <td>9060.18</td>\n",
       "      <td>22.75</td>\n",
       "      <td>7.20</td>\n",
       "      <td>7.80</td>\n",
       "      <td>4.07</td>\n",
       "      <td>3.69</td>\n",
       "    </tr>\n",
       "  </tbody>\n",
       "</table>\n",
       "<p>979313 rows × 6 columns</p>\n",
       "</div>"
      ],
      "text/plain": [
       "                                                       steps  bedin  bedout  \\\n",
       "user_id                                  date                                 \n",
       "2bc16eda651db5936cd31e735c815296fc1579d9 2016-04-19  7716.87  24.08    6.81   \n",
       "                                         2016-04-20  7647.55  27.36    6.50   \n",
       "                                         2016-04-21  6041.68  23.79    7.93   \n",
       "                                         2016-04-22  5094.85  25.94    6.44   \n",
       "                                         2016-04-23  4428.15  25.50   11.75   \n",
       "...                                                      ...    ...     ...   \n",
       "b2caf89287780fcb5cc28c092dc5d4eacb931e88 2017-03-27  5573.72  21.02    6.36   \n",
       "                                         2017-03-28  6935.26  20.89    7.32   \n",
       "                                         2017-03-29  4976.99  20.86    7.07   \n",
       "                                         2017-03-30  3719.77  26.25    7.91   \n",
       "                                         2017-03-31  9060.18  22.75    7.20   \n",
       "\n",
       "                                                     sleep duration  \\\n",
       "user_id                                  date                         \n",
       "2bc16eda651db5936cd31e735c815296fc1579d9 2016-04-19            5.98   \n",
       "                                         2016-04-20            3.00   \n",
       "                                         2016-04-21            7.61   \n",
       "                                         2016-04-22            4.59   \n",
       "                                         2016-04-23            9.91   \n",
       "...                                                             ...   \n",
       "b2caf89287780fcb5cc28c092dc5d4eacb931e88 2017-03-27            8.87   \n",
       "                                         2017-03-28            9.17   \n",
       "                                         2017-03-29            9.27   \n",
       "                                         2017-03-30            5.30   \n",
       "                                         2017-03-31            7.80   \n",
       "\n",
       "                                                     deepduration  \\\n",
       "user_id                                  date                       \n",
       "2bc16eda651db5936cd31e735c815296fc1579d9 2016-04-19          1.08   \n",
       "                                         2016-04-20          1.61   \n",
       "                                         2016-04-21          3.40   \n",
       "                                         2016-04-22          1.28   \n",
       "                                         2016-04-23          4.98   \n",
       "...                                                           ...   \n",
       "b2caf89287780fcb5cc28c092dc5d4eacb931e88 2017-03-27          4.71   \n",
       "                                         2017-03-28          5.23   \n",
       "                                         2017-03-29          5.45   \n",
       "                                         2017-03-30          2.65   \n",
       "                                         2017-03-31          4.07   \n",
       "\n",
       "                                                     lightduration  \n",
       "user_id                                  date                       \n",
       "2bc16eda651db5936cd31e735c815296fc1579d9 2016-04-19           4.87  \n",
       "                                         2016-04-20           1.37  \n",
       "                                         2016-04-21           4.22  \n",
       "                                         2016-04-22           3.33  \n",
       "                                         2016-04-23           4.84  \n",
       "...                                                            ...  \n",
       "b2caf89287780fcb5cc28c092dc5d4eacb931e88 2017-03-27           4.16  \n",
       "                                         2017-03-28           3.92  \n",
       "                                         2017-03-29           3.81  \n",
       "                                         2017-03-30           2.64  \n",
       "                                         2017-03-31           3.69  \n",
       "\n",
       "[979313 rows x 6 columns]"
      ]
     },
     "execution_count": 6,
     "metadata": {},
     "output_type": "execute_result"
    }
   ],
   "source": [
    "dataset.set_index(['user_id','date'], inplace=True)\n",
    "dataset"
   ]
  },
  {
   "cell_type": "code",
   "execution_count": 7,
   "id": "07a91a30",
   "metadata": {},
   "outputs": [],
   "source": [
    "# inserisco per ogni elemento della lista il dataframe relativo ad un utente presente nel dataset\n",
    "for i, r in elenco_utenti.iterrows():\n",
    "    utente = r['user_id']\n",
    "    if utente in dataset.index:\n",
    "        utenti.append(dataset.loc[utente])"
   ]
  },
  {
   "cell_type": "code",
   "execution_count": 8,
   "id": "5580b441",
   "metadata": {},
   "outputs": [],
   "source": [
    "# elimina stagionalitò\n",
    "senza_stag = []\n",
    "#stato = 0\n",
    "for corrente in utenti:\n",
    "    #print(str(stato) + \" / 7984 \")\n",
    "    #stato = stato+1;\n",
    "    if len(corrente) >=14:\n",
    "        lista_stag = []\n",
    "        lista_stag.append(corrente[['steps']].squeeze() - seasonal_decompose(corrente[['steps']], model='additive', period = 7).seasonal)\n",
    "        lista_stag.append(corrente[['bedin']].squeeze() - seasonal_decompose(corrente[['bedin']], model='additive', period = 7).seasonal)\n",
    "        lista_stag.append(corrente[['bedout']].squeeze() - seasonal_decompose(corrente[['bedout']], model='additive', period = 7).seasonal)\n",
    "        lista_stag.append(corrente[['sleep duration']].squeeze() - seasonal_decompose(corrente[['sleep duration']], model='additive', period = 7).seasonal)\n",
    "        lista_stag.append(corrente[['deepduration']].squeeze()  - seasonal_decompose(corrente[['deepduration']], model='additive', period = 7).seasonal)\n",
    "        lista_stag.append(corrente[['lightduration']].squeeze() - seasonal_decompose(corrente[['lightduration']], model='additive', period = 7).seasonal)\n",
    "        frame = {'steps' : lista_stag[0], 'bedin' : lista_stag[1], 'bedout' : lista_stag[2], 'sleep duration' : lista_stag[3], 'deepduration' : lista_stag[4], 'lightduration' : lista_stag[5]}\n",
    "        senza_stag.append(pd.DataFrame(frame))\n",
    "utenti = senza_stag"
   ]
  },
  {
   "cell_type": "code",
   "execution_count": 9,
   "id": "88719ecd",
   "metadata": {},
   "outputs": [],
   "source": [
    "# Funzione normalizzazione\n",
    "scaler = MinMaxScaler(feature_range=(0,1))\n",
    "def normalizza(dat):\n",
    "    df_for_training_scaled = scaler.fit_transform(dat)\n",
    "    return df_for_training_scaled"
   ]
  },
  {
   "cell_type": "code",
   "execution_count": 10,
   "id": "5ea6cbd1",
   "metadata": {},
   "outputs": [],
   "source": [
    "# Adesso normalizza ogni dataset\n",
    "utenti_normalizzati = []\n",
    "for u in utenti:\n",
    "    utenti_normalizzati.append(normalizza(u))"
   ]
  },
  {
   "cell_type": "code",
   "execution_count": 11,
   "id": "baea1e2d",
   "metadata": {},
   "outputs": [],
   "source": [
    "#n_past is the number of step we will look in the past to predict the next target value.\n",
    "col2pred = 4  # 0:steps, 1:bedin, 2:bedout, 3:sleep duration, 4:deep duration, 5:lightduration\n",
    "window_size = 7\n",
    "def createXY(dataset,n_past):\n",
    "    dataX = []\n",
    "    dataY = []\n",
    "    for i in range(n_past, len(dataset)):\n",
    "            #per ogni feature fa l'append dei precedenti\n",
    "            dataX.append(dataset[i - n_past:i, 0:dataset.shape[1]])  \n",
    "            dataY.append(dataset[i,col2pred])\n",
    "    return np.array(dataX),np.array(dataY)"
   ]
  },
  {
   "cell_type": "code",
   "execution_count": 12,
   "id": "3defda26",
   "metadata": {},
   "outputs": [],
   "source": [
    "n_utenti_train = 6500"
   ]
  },
  {
   "cell_type": "code",
   "execution_count": 13,
   "id": "4f5ea065",
   "metadata": {},
   "outputs": [],
   "source": [
    "# crea insieme di train\n",
    "train_lista = utenti_normalizzati[:n_utenti_train]\n",
    "\n",
    "trainX_lista = []\n",
    "trainY_lista = []\n",
    "\n",
    "for t in train_lista:\n",
    "    trainX_temp, trainY_temp = createXY(t,window_size)\n",
    "    if len(trainX_temp.shape) == 3 and len(trainY_temp.shape) == 1:\n",
    "        trainX_lista.append(trainX_temp)\n",
    "        trainY_lista.append(trainY_temp)\n",
    "\n",
    "trainX = np.concatenate(trainX_lista)\n",
    "trainY = np.concatenate(trainY_lista)"
   ]
  },
  {
   "cell_type": "code",
   "execution_count": 14,
   "id": "60c43a23",
   "metadata": {},
   "outputs": [],
   "source": [
    "# crea insieme di test\n",
    "test_lista = utenti_normalizzati[n_utenti_train:]\n",
    "\n",
    "testX_lista = []\n",
    "testY_lista = []\n",
    "\n",
    "for t in test_lista:\n",
    "    testX_temp, testY_temp = createXY(t,window_size)\n",
    "    if len(testX_temp.shape) == 3 and len(testY_temp.shape) == 1:\n",
    "        testX_lista.append(testX_temp)\n",
    "        testY_lista.append(testY_temp)\n",
    "\n",
    "testX = np.concatenate(testX_lista)\n",
    "testY = np.concatenate(testY_lista)"
   ]
  },
  {
   "cell_type": "code",
   "execution_count": 15,
   "id": "fce20569",
   "metadata": {},
   "outputs": [
    {
     "name": "stdout",
     "output_type": "stream",
     "text": [
      "(819942, 7, 6) (101933, 7, 6) (819942,) (101933,)\n"
     ]
    }
   ],
   "source": [
    "print(trainX.shape, testX.shape, trainY.shape, testY.shape)"
   ]
  },
  {
   "cell_type": "code",
   "execution_count": 16,
   "id": "ba19cac1",
   "metadata": {},
   "outputs": [
    {
     "data": {
      "text/plain": [
       "6"
      ]
     },
     "execution_count": 16,
     "metadata": {},
     "output_type": "execute_result"
    }
   ],
   "source": [
    "# features num\n",
    "features_num = dataset.shape[1]\n",
    "features_num"
   ]
  },
  {
   "cell_type": "markdown",
   "id": "c28b413f",
   "metadata": {},
   "source": [
    "# Metriche ()"
   ]
  },
  {
   "cell_type": "code",
   "execution_count": 58,
   "id": "fdd4a0fa",
   "metadata": {},
   "outputs": [],
   "source": [
    "def metrics(model, trainX, trainY, testX, testY, history):\n",
    "    \n",
    "    # stampa metriche\n",
    "    score_train = model.evaluate(trainX, trainY, verbose = 0)\n",
    "    print(\"**********TRAIN-SET***********\")\n",
    "    print(\"MSE: {}\".format(score_train[1]))\n",
    "    print(\"RMSE: {}\".format(sqrt(score_train[1])))\n",
    "    print(\"MAE: {}\".format(score_train[2]))\n",
    "    \n",
    "    score_test = model.evaluate(testX, testY, verbose = 0)\n",
    "    print(\"**********TEST-SET***********\")\n",
    "    print(\"MSE: {}\".format(score_test[1]))\n",
    "    print(\"RMSE: {}\".format(sqrt(score_test[1])))\n",
    "    print(\"MAE: {}\".format(score_test[2]))\n",
    "\n",
    "    #plot predizioni\n",
    "    prediction_test=model.predict(testX, verbose = 0)\n",
    "    prediction_copies_test_array = np.repeat(prediction_test,features_num, axis=-1)\n",
    "    pred_test=scaler.inverse_transform(np.reshape(prediction_copies_test_array,(len(prediction_test),features_num)))[:,col2pred]\n",
    "    true_value_test_copies_array = np.repeat(testY,features_num, axis=-1)\n",
    "    true_value_test=scaler.inverse_transform(np.reshape(true_value_test_copies_array,(len(testY),features_num)))[:,col2pred]\n",
    "    \n",
    "    plt.plot(true_value_test[:150], color='red', label='Real deep duration')\n",
    "    plt.plot(pred_test[:150], color='blue', label='Predicted deep duration')\n",
    "    plt.title('Deep duration Prediction')\n",
    "    plt.xlabel('Time')\n",
    "    plt.ylabel('Deep duration')\n",
    "    plt.legend()\n",
    "    plt.show()\n",
    "    \n",
    "    # plot andamento loss\n",
    "    plt.plot(history['loss'])\n",
    "    plt.plot(history['val_loss'])\n",
    "    plt.title('model loss (mse)')\n",
    "    plt.ylabel('loss')\n",
    "    plt.xlabel('epoch')\n",
    "    plt.legend(['train', 'validation'], loc='upper left')\n",
    "    plt.show()\n",
    "    \n",
    "    # plot andamento loss\n",
    "    plt.plot(history['mae'])\n",
    "    plt.plot(history['val_mae'])\n",
    "    plt.title('model mae')\n",
    "    plt.ylabel('mae')\n",
    "    plt.xlabel('epoch')\n",
    "    plt.legend(['train', 'validation'], loc='upper left')\n",
    "    plt.show()"
   ]
  },
  {
   "cell_type": "markdown",
   "id": "6547ba90",
   "metadata": {},
   "source": [
    "# Data manipulation "
   ]
  },
  {
   "cell_type": "code",
   "execution_count": 18,
   "id": "7bb8ccbc",
   "metadata": {},
   "outputs": [],
   "source": [
    "def values4metrics(model, trainX, trainY, testX, testY):\n",
    "    prediction_train = model.predict(trainX)\n",
    "    prediction_train_copies_array = np.repeat(prediction_train, features_num, axis=-1)\n",
    "    pred_train = scaler.inverse_transform(np.reshape(prediction_train_copies_array, (len(prediction_train), features_num)))[:, col2pred]\n",
    "    true_value_train_copies_array = np.repeat(trainY, features_num, axis=-1)\n",
    "    true_value_train = scaler.inverse_transform(np.reshape(true_value_train_copies_array, (len(trainY), features_num)))[:, col2pred]\n",
    "\n",
    "    prediction_test=model.predict(testX)\n",
    "    prediction_copies_test_array = np.repeat(prediction_test,features_num, axis=-1)\n",
    "    pred_test=scaler.inverse_transform(np.reshape(prediction_copies_test_array,(len(prediction_test),features_num)))[:,col2pred]\n",
    "    true_value_test_copies_array = np.repeat(testY,features_num, axis=-1)\n",
    "    true_value_test=scaler.inverse_transform(np.reshape(true_value_test_copies_array,(len(testY),features_num)))[:,col2pred]\n",
    "    \n",
    "    return true_value_train, pred_train, true_value_test, pred_test"
   ]
  },
  {
   "cell_type": "markdown",
   "id": "89e5b1b7",
   "metadata": {},
   "source": [
    "# Architetture di supporto"
   ]
  },
  {
   "cell_type": "code",
   "execution_count": 20,
   "id": "6c259d6c",
   "metadata": {},
   "outputs": [],
   "source": [
    "class Time2Vec(Layer):\n",
    "\n",
    "    def __init__(self, output_dimension=None, **kwargs):\n",
    "        self.output_dimension = output_dimension\n",
    "        super(Time2Vec, self).__init__(**kwargs)\n",
    "\n",
    "    def get_config(self):\n",
    "        config = super().get_config()\n",
    "        config.update({\n",
    "            \"output_dimension\": self.output_dimension,\n",
    "        })\n",
    "        return config\n",
    "\n",
    "    def build(self, input_shape):\n",
    "\n",
    "        self.W = self.add_weight(name='W',\n",
    "                                shape=(input_shape[-1], self.output_dimension),\n",
    "                                initializer='uniform',\n",
    "                                trainable=True)\n",
    "\n",
    "        self.P = self.add_weight(name='P',\n",
    "                                shape=(input_shape[1], self.output_dimension),\n",
    "                                initializer='uniform',\n",
    "                                trainable=True)\n",
    "\n",
    "        self.w = self.add_weight(name='w',\n",
    "                                shape=(input_shape[1], 1),\n",
    "                                initializer='uniform',\n",
    "                                trainable=True)\n",
    "\n",
    "        self.p = self.add_weight(name='p',\n",
    "                                shape=(input_shape[1], 1),\n",
    "                                initializer='uniform',\n",
    "                                trainable=True)\n",
    "\n",
    "        super(Time2Vec, self).build(input_shape)\n",
    "\n",
    "    def call(self, x):\n",
    "\n",
    "        original = self.w * x + self.p\n",
    "        sin_trans = K.sin(K.dot(x, self.W) + self.P)\n",
    "\n",
    "        return K.concatenate([sin_trans, original], -1)"
   ]
  },
  {
   "cell_type": "code",
   "execution_count": 21,
   "id": "6fe54ae9",
   "metadata": {
    "scrolled": true
   },
   "outputs": [],
   "source": [
    "def transformer_encoder(inputs, head_size, num_heads, ff_dim, dropout=0):\n",
    "    # Normalization and Attention\n",
    "    x = layers.LayerNormalization(epsilon=1e-6)(inputs)\n",
    "    x = layers.MultiHeadAttention(key_dim=head_size, num_heads=num_heads, dropout=dropout)(x, x)\n",
    "    x = layers.Dropout(dropout)(x)\n",
    "    res = x + inputs\n",
    "\n",
    "    # Feed Forward Part\n",
    "    x = layers.LayerNormalization(epsilon=1e-6)(res)\n",
    "    x = layers.Conv1D(filters=ff_dim, kernel_size=1, activation=\"relu\")(x)\n",
    "    x = layers.Dropout(dropout)(x)\n",
    "    x = layers.Conv1D(filters=inputs.shape[-1], kernel_size=1)(x)\n",
    "    return x + res\n",
    "\n",
    "def build_model(input_shape,head_size,num_heads,ff_dim,num_transformer_blocks,mlp_units,dropout=0,mlp_dropout=0):\n",
    "    inputs = keras.Input(shape=input_shape)\n",
    "    x = inputs\n",
    "    for _ in range(num_transformer_blocks):\n",
    "        x = transformer_encoder(x, head_size, num_heads, ff_dim, dropout)\n",
    "\n",
    "    x = layers.GlobalAveragePooling1D(data_format=\"channels_first\")(x)\n",
    "    for dim in mlp_units:\n",
    "        x = layers.Dense(dim, activation=\"tanh\")(x)\n",
    "        x = layers.Dropout(mlp_dropout)(x)\n",
    "    outputs = layers.Dense(1)(x)\n",
    "    return keras.Model(inputs, outputs)\n",
    "\n",
    "input_shape = trainX.shape[1:]\n",
    "\n",
    "model_transformer = build_model(input_shape,head_size=256,num_heads=4,ff_dim=4,num_transformer_blocks=4,mlp_units=[128],mlp_dropout=0.4,dropout=0.25)\n",
    "\n",
    "model_transformer.compile(loss=\"mse\", optimizer=keras.optimizers.Adam(learning_rate=1e-4), metrics=['mse', 'mae'])"
   ]
  },
  {
   "cell_type": "markdown",
   "id": "eab73305",
   "metadata": {},
   "source": [
    "# Funzione per richiamare i modelli"
   ]
  },
  {
   "cell_type": "code",
   "execution_count": 75,
   "id": "26a5dbf3",
   "metadata": {},
   "outputs": [],
   "source": [
    "def model_recurrent(type = 'gru'):\n",
    "    model = Sequential()\n",
    "    \n",
    "    if type == 'gru': # GRU\n",
    "        model.add(GRU(256, return_sequences=True, input_shape=(window_size, features_num)))\n",
    "        model.add(GRU(128, return_sequences=True))\n",
    "        model.add(GRU(64))\n",
    "        model.add(Dropout(0.25))\n",
    "        model.add(Dense(32, activation='tanh'))\n",
    "        model.add(Dropout(0.5))\n",
    "        \n",
    "    if type == 'lstm': # LSTM\n",
    "        model.add(LSTM(256, return_sequences=True,input_shape=(window_size, features_num)))\n",
    "        model.add(LSTM(128, return_sequences=True))\n",
    "        model.add(LSTM(64))\n",
    "        model.add(Dropout(0.25))\n",
    "        model.add(Dense(32, activation='tanh'))\n",
    "        model.add(Dropout(0.5))\n",
    "    \n",
    "    if type == 'bidirectional':  # Bidirectional\n",
    "        model.add(Bidirectional(LSTM(256, return_sequences=True), input_shape=(window_size,features_num)))\n",
    "        model.add(Bidirectional(LSTM(128, return_sequences=True)))\n",
    "        model.add(Bidirectional(LSTM(64)))\n",
    "        model.add(Dropout(0.25))\n",
    "        model.add(Dense(32, activation='tanh'))\n",
    "        model.add(Dropout(0.5))   \n",
    "\n",
    "    if type == 'time2vec':  # Time2Vec\n",
    "        model.add(Input(shape=(window_size, features_num)))\n",
    "        model.add(Time2Vec(120))\n",
    "        model.add(LSTM(128, return_sequences=True))\n",
    "        model.add(LSTM(64))\n",
    "        model.add(Dropout(0.25))\n",
    "        model.add(Dense(32, activation='tanh'))\n",
    "        model.add(Dropout(0.5))  \n",
    "        \n",
    "    if type == 'cnn':  # CNN\n",
    "        model.add(Conv1D(filters=128, kernel_size=2, activation='tanh', input_shape=(window_size,features_num)))\n",
    "        model.add(Conv1D(filters=64, kernel_size=2, activation='tanh'))\n",
    "        model.add(MaxPooling1D(pool_size=2))\n",
    "        model.add(Flatten())\n",
    "        model.add(RepeatVector(features_num))\n",
    "        model.add(LSTM(units=100, return_sequences=True))\n",
    "        model.add(Dropout(0.2))\n",
    "        model.add(LSTM(units=100))\n",
    "        model.add(Dense(100, activation='tanh'))        \n",
    "\n",
    "    model.add(Dense(1))\n",
    "    model.compile(loss='mse', optimizer=Adam(learning_rate=0.001), metrics=['mse', 'mae'])\n",
    "    return model "
   ]
  },
  {
   "cell_type": "markdown",
   "id": "4135c6e1",
   "metadata": {},
   "source": [
    "# Iperparametri"
   ]
  },
  {
   "cell_type": "code",
   "execution_count": 49,
   "id": "b8534715",
   "metadata": {},
   "outputs": [],
   "source": [
    "n_epoche = 50\n",
    "batch = 4096 # 8192 - 4096"
   ]
  },
  {
   "cell_type": "markdown",
   "id": "25b57705",
   "metadata": {},
   "source": [
    "# GRU"
   ]
  },
  {
   "cell_type": "code",
   "execution_count": 24,
   "id": "02d618ea",
   "metadata": {},
   "outputs": [
    {
     "name": "stdout",
     "output_type": "stream",
     "text": [
      "Model: \"sequential\"\n",
      "_________________________________________________________________\n",
      " Layer (type)                Output Shape              Param #   \n",
      "=================================================================\n",
      " gru (GRU)                   (None, 7, 256)            202752    \n",
      "                                                                 \n",
      " gru_1 (GRU)                 (None, 7, 128)            148224    \n",
      "                                                                 \n",
      " gru_2 (GRU)                 (None, 64)                37248     \n",
      "                                                                 \n",
      " dropout_9 (Dropout)         (None, 64)                0         \n",
      "                                                                 \n",
      " dense_2 (Dense)             (None, 32)                2080      \n",
      "                                                                 \n",
      " dropout_10 (Dropout)        (None, 32)                0         \n",
      "                                                                 \n",
      " dense_3 (Dense)             (None, 1)                 33        \n",
      "                                                                 \n",
      "=================================================================\n",
      "Total params: 390,337\n",
      "Trainable params: 390,337\n",
      "Non-trainable params: 0\n",
      "_________________________________________________________________\n"
     ]
    }
   ],
   "source": [
    "model_gru = model_recurrent('gru')\n",
    "model_gru.summary()"
   ]
  },
  {
   "cell_type": "code",
   "execution_count": 27,
   "id": "7d4974eb",
   "metadata": {
    "scrolled": true
   },
   "outputs": [],
   "source": [
    "if train_and_save == True:\n",
    "    start = time.time()\n",
    "    history_gru = model_gru.fit(trainX, trainY, epochs = n_epoche, verbose = 1, batch_size = batch, validation_split = 0.2) # 8192\n",
    "    end = time.time()\n",
    "    time_gru = end-start\n",
    "    model_gru.save('./trained_model/model_gru_e' + str(n_epoche) + \"_b\" + str(batch) + '.h5')\n",
    "else:\n",
    "    model_gru = keras.models.load_model('./trained_model/model_gru_e' + str(n_epoche) + \"_b\" + str(batch) + '.h5') "
   ]
  },
  {
   "cell_type": "markdown",
   "id": "9e2d7e98",
   "metadata": {},
   "source": [
    "# LSTM"
   ]
  },
  {
   "cell_type": "code",
   "execution_count": 28,
   "id": "7b50468a",
   "metadata": {
    "scrolled": true
   },
   "outputs": [
    {
     "name": "stdout",
     "output_type": "stream",
     "text": [
      "Model: \"sequential_1\"\n",
      "_________________________________________________________________\n",
      " Layer (type)                Output Shape              Param #   \n",
      "=================================================================\n",
      " lstm (LSTM)                 (None, 7, 256)            269312    \n",
      "                                                                 \n",
      " lstm_1 (LSTM)               (None, 7, 128)            197120    \n",
      "                                                                 \n",
      " lstm_2 (LSTM)               (None, 64)                49408     \n",
      "                                                                 \n",
      " dropout_11 (Dropout)        (None, 64)                0         \n",
      "                                                                 \n",
      " dense_4 (Dense)             (None, 32)                2080      \n",
      "                                                                 \n",
      " dropout_12 (Dropout)        (None, 32)                0         \n",
      "                                                                 \n",
      " dense_5 (Dense)             (None, 1)                 33        \n",
      "                                                                 \n",
      "=================================================================\n",
      "Total params: 517,953\n",
      "Trainable params: 517,953\n",
      "Non-trainable params: 0\n",
      "_________________________________________________________________\n"
     ]
    }
   ],
   "source": [
    "model_lstm = model_recurrent('lstm')\n",
    "model_lstm.summary()"
   ]
  },
  {
   "cell_type": "code",
   "execution_count": 29,
   "id": "5627609c",
   "metadata": {
    "scrolled": true
   },
   "outputs": [],
   "source": [
    "if train_and_save == True:\n",
    "    start = time.time()\n",
    "    history_lstm = model_lstm.fit(trainX, trainY, epochs = n_epoche, verbose = 1, batch_size = batch, validation_split = 0.2) # 8192\n",
    "    end = time.time()\n",
    "    time_lstm = end-start\n",
    "    model_lstm.save('./trained_model/model_lstm_e' + str(n_epoche) + \"_b\" + str(batch) + '.h5')\n",
    "else:\n",
    "    model_lstm = keras.models.load_model('./trained_model/model_lstm_e' + str(n_epoche) + \"_b\" + str(batch) + '.h5') "
   ]
  },
  {
   "cell_type": "markdown",
   "id": "3cbf2039",
   "metadata": {},
   "source": [
    "# Bidirectional - LSTM"
   ]
  },
  {
   "cell_type": "code",
   "execution_count": 30,
   "id": "634ae0a1",
   "metadata": {},
   "outputs": [
    {
     "name": "stdout",
     "output_type": "stream",
     "text": [
      "Model: \"sequential_2\"\n",
      "_________________________________________________________________\n",
      " Layer (type)                Output Shape              Param #   \n",
      "=================================================================\n",
      " bidirectional (Bidirectiona  (None, 7, 512)           538624    \n",
      " l)                                                              \n",
      "                                                                 \n",
      " bidirectional_1 (Bidirectio  (None, 7, 256)           656384    \n",
      " nal)                                                            \n",
      "                                                                 \n",
      " bidirectional_2 (Bidirectio  (None, 128)              164352    \n",
      " nal)                                                            \n",
      "                                                                 \n",
      " dropout_13 (Dropout)        (None, 128)               0         \n",
      "                                                                 \n",
      " dense_6 (Dense)             (None, 32)                4128      \n",
      "                                                                 \n",
      " dropout_14 (Dropout)        (None, 32)                0         \n",
      "                                                                 \n",
      " dense_7 (Dense)             (None, 1)                 33        \n",
      "                                                                 \n",
      "=================================================================\n",
      "Total params: 1,363,521\n",
      "Trainable params: 1,363,521\n",
      "Non-trainable params: 0\n",
      "_________________________________________________________________\n"
     ]
    }
   ],
   "source": [
    "model_bi = model_recurrent('bidirectional')\n",
    "model_bi.summary()"
   ]
  },
  {
   "cell_type": "code",
   "execution_count": 31,
   "id": "4f67e892",
   "metadata": {
    "scrolled": true
   },
   "outputs": [],
   "source": [
    "if train_and_save == True:\n",
    "    start = time.time()\n",
    "    history_bi = model_bi.fit(trainX, trainY, epochs = n_epoche, verbose = 1, batch_size = batch, validation_split = 0.2) # 8192\n",
    "    end = time.time()\n",
    "    time_bi = end-start\n",
    "    model_bi.save('./trained_model/model_bidirectional_e' + str(n_epoche) + \"_b\" + str(batch) + '.h5')\n",
    "else:\n",
    "    model_bi = keras.models.load_model('./trained_model/model_bidirectional_e' + str(n_epoche) + \"_b\" + str(batch) + '.h5') "
   ]
  },
  {
   "cell_type": "markdown",
   "id": "0d49339b",
   "metadata": {},
   "source": [
    "# Time2Vec - LSTM"
   ]
  },
  {
   "cell_type": "code",
   "execution_count": 32,
   "id": "08c11a76",
   "metadata": {
    "scrolled": true
   },
   "outputs": [
    {
     "name": "stdout",
     "output_type": "stream",
     "text": [
      "Model: \"sequential_3\"\n",
      "_________________________________________________________________\n",
      " Layer (type)                Output Shape              Param #   \n",
      "=================================================================\n",
      " time2_vec (Time2Vec)        (None, 7, 126)            1574      \n",
      "                                                                 \n",
      " lstm_6 (LSTM)               (None, 7, 128)            130560    \n",
      "                                                                 \n",
      " lstm_7 (LSTM)               (None, 64)                49408     \n",
      "                                                                 \n",
      " dropout_15 (Dropout)        (None, 64)                0         \n",
      "                                                                 \n",
      " dense_8 (Dense)             (None, 32)                2080      \n",
      "                                                                 \n",
      " dropout_16 (Dropout)        (None, 32)                0         \n",
      "                                                                 \n",
      " dense_9 (Dense)             (None, 1)                 33        \n",
      "                                                                 \n",
      "=================================================================\n",
      "Total params: 183,655\n",
      "Trainable params: 183,655\n",
      "Non-trainable params: 0\n",
      "_________________________________________________________________\n"
     ]
    }
   ],
   "source": [
    "model_t2v = model_recurrent('time2vec')\n",
    "model_t2v.summary()"
   ]
  },
  {
   "cell_type": "code",
   "execution_count": 33,
   "id": "d2c8663d",
   "metadata": {
    "scrolled": true
   },
   "outputs": [],
   "source": [
    "if train_and_save == True:\n",
    "    start = time.time()\n",
    "    history_t2v = model_t2v.fit(trainX, trainY, epochs = n_epoche, verbose = 1, batch_size = batch, validation_split = 0.2) # 8192\n",
    "    end = time.time()\n",
    "    time_t2v = end-start\n",
    "    model_t2v.save('./trained_model/model_time2vec_e' + str(n_epoche) + \"_b\" + str(batch) + '.h5')\n",
    "else:\n",
    "    model_t2v = keras.models.load_model('./trained_model/model_time2vec_e' + str(n_epoche) + \"_b\" + str(batch) + '.h5', custom_objects={'Time2Vec': Time2Vec})"
   ]
  },
  {
   "cell_type": "markdown",
   "id": "ab3e7b5d",
   "metadata": {},
   "source": [
    "# CNN - LSTM"
   ]
  },
  {
   "cell_type": "code",
   "execution_count": 76,
   "id": "c573c356",
   "metadata": {},
   "outputs": [
    {
     "name": "stdout",
     "output_type": "stream",
     "text": [
      "Model: \"sequential_12\"\n",
      "_________________________________________________________________\n",
      " Layer (type)                Output Shape              Param #   \n",
      "=================================================================\n",
      " conv1d_19 (Conv1D)          (None, 6, 128)            1664      \n",
      "                                                                 \n",
      " conv1d_20 (Conv1D)          (None, 5, 64)             16448     \n",
      "                                                                 \n",
      " max_pooling1d_8 (MaxPooling  (None, 2, 64)            0         \n",
      " 1D)                                                             \n",
      "                                                                 \n",
      " flatten_8 (Flatten)         (None, 128)               0         \n",
      "                                                                 \n",
      " repeat_vector_7 (RepeatVect  (None, 6, 128)           0         \n",
      " or)                                                             \n",
      "                                                                 \n",
      " lstm_23 (LSTM)              (None, 6, 100)            91600     \n",
      "                                                                 \n",
      " dropout_28 (Dropout)        (None, 6, 100)            0         \n",
      "                                                                 \n",
      " lstm_24 (LSTM)              (None, 100)               80400     \n",
      "                                                                 \n",
      " dense_24 (Dense)            (None, 100)               10100     \n",
      "                                                                 \n",
      " dense_25 (Dense)            (None, 1)                 101       \n",
      "                                                                 \n",
      "=================================================================\n",
      "Total params: 200,313\n",
      "Trainable params: 200,313\n",
      "Non-trainable params: 0\n",
      "_________________________________________________________________\n"
     ]
    }
   ],
   "source": [
    "model_cnn = model_recurrent('cnn')\n",
    "model_cnn.summary()"
   ]
  },
  {
   "cell_type": "code",
   "execution_count": 77,
   "id": "70505e9d",
   "metadata": {
    "scrolled": true
   },
   "outputs": [
    {
     "name": "stdout",
     "output_type": "stream",
     "text": [
      "Epoch 1/2\n",
      "161/161 [==============================] - 9s 29ms/step - loss: 0.0369 - mse: 0.0369 - mae: 0.1503 - val_loss: 0.0327 - val_mse: 0.0327 - val_mae: 0.1421\n",
      "Epoch 2/2\n",
      "161/161 [==============================] - 3s 21ms/step - loss: 0.0333 - mse: 0.0333 - mae: 0.1433 - val_loss: 0.0326 - val_mse: 0.0326 - val_mae: 0.1410\n"
     ]
    }
   ],
   "source": [
    "if train_and_save == True:\n",
    "    start = time.time()\n",
    "    history_cnn = model_cnn.fit(trainX, trainY, epochs = n_epoche, verbose = 1, batch_size = batch, validation_split = 0.2) # 8192\n",
    "    end = time.time()\n",
    "    time_cnn = end-start\n",
    "    model_cnn.save('./trained_model/model_cnn_e' + str(n_epoche) + \"_b\" + str(batch) + '.h5')\n",
    "else:\n",
    "    model_cnn = keras.models.load_model('./trained_model/model_cnn_e' + str(n_epoche) + \"_b\" + str(batch) + '.h5')"
   ]
  },
  {
   "cell_type": "markdown",
   "id": "2e925d0d",
   "metadata": {},
   "source": [
    "# T2V - Transformer "
   ]
  },
  {
   "cell_type": "code",
   "execution_count": 39,
   "id": "996e0f3d",
   "metadata": {},
   "outputs": [
    {
     "name": "stdout",
     "output_type": "stream",
     "text": [
      "Model: \"model\"\n",
      "__________________________________________________________________________________________________\n",
      " Layer (type)                   Output Shape         Param #     Connected to                     \n",
      "==================================================================================================\n",
      " input_1 (InputLayer)           [(None, 7, 6)]       0           []                               \n",
      "                                                                                                  \n",
      " layer_normalization (LayerNorm  (None, 7, 6)        12          ['input_1[0][0]']                \n",
      " alization)                                                                                       \n",
      "                                                                                                  \n",
      " multi_head_attention (MultiHea  (None, 7, 6)        27654       ['layer_normalization[0][0]',    \n",
      " dAttention)                                                      'layer_normalization[0][0]']    \n",
      "                                                                                                  \n",
      " dropout (Dropout)              (None, 7, 6)         0           ['multi_head_attention[0][0]']   \n",
      "                                                                                                  \n",
      " tf.__operators__.add (TFOpLamb  (None, 7, 6)        0           ['dropout[0][0]',                \n",
      " da)                                                              'input_1[0][0]']                \n",
      "                                                                                                  \n",
      " layer_normalization_1 (LayerNo  (None, 7, 6)        12          ['tf.__operators__.add[0][0]']   \n",
      " rmalization)                                                                                     \n",
      "                                                                                                  \n",
      " conv1d (Conv1D)                (None, 7, 4)         28          ['layer_normalization_1[0][0]']  \n",
      "                                                                                                  \n",
      " dropout_1 (Dropout)            (None, 7, 4)         0           ['conv1d[0][0]']                 \n",
      "                                                                                                  \n",
      " conv1d_1 (Conv1D)              (None, 7, 6)         30          ['dropout_1[0][0]']              \n",
      "                                                                                                  \n",
      " tf.__operators__.add_1 (TFOpLa  (None, 7, 6)        0           ['conv1d_1[0][0]',               \n",
      " mbda)                                                            'tf.__operators__.add[0][0]']   \n",
      "                                                                                                  \n",
      " layer_normalization_2 (LayerNo  (None, 7, 6)        12          ['tf.__operators__.add_1[0][0]'] \n",
      " rmalization)                                                                                     \n",
      "                                                                                                  \n",
      " multi_head_attention_1 (MultiH  (None, 7, 6)        27654       ['layer_normalization_2[0][0]',  \n",
      " eadAttention)                                                    'layer_normalization_2[0][0]']  \n",
      "                                                                                                  \n",
      " dropout_2 (Dropout)            (None, 7, 6)         0           ['multi_head_attention_1[0][0]'] \n",
      "                                                                                                  \n",
      " tf.__operators__.add_2 (TFOpLa  (None, 7, 6)        0           ['dropout_2[0][0]',              \n",
      " mbda)                                                            'tf.__operators__.add_1[0][0]'] \n",
      "                                                                                                  \n",
      " layer_normalization_3 (LayerNo  (None, 7, 6)        12          ['tf.__operators__.add_2[0][0]'] \n",
      " rmalization)                                                                                     \n",
      "                                                                                                  \n",
      " conv1d_2 (Conv1D)              (None, 7, 4)         28          ['layer_normalization_3[0][0]']  \n",
      "                                                                                                  \n",
      " dropout_3 (Dropout)            (None, 7, 4)         0           ['conv1d_2[0][0]']               \n",
      "                                                                                                  \n",
      " conv1d_3 (Conv1D)              (None, 7, 6)         30          ['dropout_3[0][0]']              \n",
      "                                                                                                  \n",
      " tf.__operators__.add_3 (TFOpLa  (None, 7, 6)        0           ['conv1d_3[0][0]',               \n",
      " mbda)                                                            'tf.__operators__.add_2[0][0]'] \n",
      "                                                                                                  \n",
      " layer_normalization_4 (LayerNo  (None, 7, 6)        12          ['tf.__operators__.add_3[0][0]'] \n",
      " rmalization)                                                                                     \n",
      "                                                                                                  \n",
      " multi_head_attention_2 (MultiH  (None, 7, 6)        27654       ['layer_normalization_4[0][0]',  \n",
      " eadAttention)                                                    'layer_normalization_4[0][0]']  \n",
      "                                                                                                  \n",
      " dropout_4 (Dropout)            (None, 7, 6)         0           ['multi_head_attention_2[0][0]'] \n",
      "                                                                                                  \n",
      " tf.__operators__.add_4 (TFOpLa  (None, 7, 6)        0           ['dropout_4[0][0]',              \n",
      " mbda)                                                            'tf.__operators__.add_3[0][0]'] \n",
      "                                                                                                  \n",
      " layer_normalization_5 (LayerNo  (None, 7, 6)        12          ['tf.__operators__.add_4[0][0]'] \n",
      " rmalization)                                                                                     \n",
      "                                                                                                  \n",
      " conv1d_4 (Conv1D)              (None, 7, 4)         28          ['layer_normalization_5[0][0]']  \n",
      "                                                                                                  \n",
      " dropout_5 (Dropout)            (None, 7, 4)         0           ['conv1d_4[0][0]']               \n",
      "                                                                                                  \n",
      " conv1d_5 (Conv1D)              (None, 7, 6)         30          ['dropout_5[0][0]']              \n",
      "                                                                                                  \n",
      " tf.__operators__.add_5 (TFOpLa  (None, 7, 6)        0           ['conv1d_5[0][0]',               \n",
      " mbda)                                                            'tf.__operators__.add_4[0][0]'] \n",
      "                                                                                                  \n",
      " layer_normalization_6 (LayerNo  (None, 7, 6)        12          ['tf.__operators__.add_5[0][0]'] \n",
      " rmalization)                                                                                     \n",
      "                                                                                                  \n",
      " multi_head_attention_3 (MultiH  (None, 7, 6)        27654       ['layer_normalization_6[0][0]',  \n",
      " eadAttention)                                                    'layer_normalization_6[0][0]']  \n",
      "                                                                                                  \n",
      " dropout_6 (Dropout)            (None, 7, 6)         0           ['multi_head_attention_3[0][0]'] \n",
      "                                                                                                  \n",
      " tf.__operators__.add_6 (TFOpLa  (None, 7, 6)        0           ['dropout_6[0][0]',              \n"
     ]
    },
    {
     "name": "stdout",
     "output_type": "stream",
     "text": [
      " mbda)                                                            'tf.__operators__.add_5[0][0]'] \n",
      "                                                                                                  \n",
      " layer_normalization_7 (LayerNo  (None, 7, 6)        12          ['tf.__operators__.add_6[0][0]'] \n",
      " rmalization)                                                                                     \n",
      "                                                                                                  \n",
      " conv1d_6 (Conv1D)              (None, 7, 4)         28          ['layer_normalization_7[0][0]']  \n",
      "                                                                                                  \n",
      " dropout_7 (Dropout)            (None, 7, 4)         0           ['conv1d_6[0][0]']               \n",
      "                                                                                                  \n",
      " conv1d_7 (Conv1D)              (None, 7, 6)         30          ['dropout_7[0][0]']              \n",
      "                                                                                                  \n",
      " tf.__operators__.add_7 (TFOpLa  (None, 7, 6)        0           ['conv1d_7[0][0]',               \n",
      " mbda)                                                            'tf.__operators__.add_6[0][0]'] \n",
      "                                                                                                  \n",
      " global_average_pooling1d (Glob  (None, 7)           0           ['tf.__operators__.add_7[0][0]'] \n",
      " alAveragePooling1D)                                                                              \n",
      "                                                                                                  \n",
      " dense (Dense)                  (None, 128)          1024        ['global_average_pooling1d[0][0]'\n",
      "                                                                 ]                                \n",
      "                                                                                                  \n",
      " dropout_8 (Dropout)            (None, 128)          0           ['dense[0][0]']                  \n",
      "                                                                                                  \n",
      " dense_1 (Dense)                (None, 1)            129         ['dropout_8[0][0]']              \n",
      "                                                                                                  \n",
      "==================================================================================================\n",
      "Total params: 112,097\n",
      "Trainable params: 112,097\n",
      "Non-trainable params: 0\n",
      "__________________________________________________________________________________________________\n"
     ]
    }
   ],
   "source": [
    "model_transformer.summary()"
   ]
  },
  {
   "cell_type": "code",
   "execution_count": 40,
   "id": "8ba4e987",
   "metadata": {
    "scrolled": true
   },
   "outputs": [],
   "source": [
    "if train_and_save == True:\n",
    "    start = time.time()\n",
    "    history_t= model_transformer.fit(trainX, trainY, epochs = n_epoche, verbose = 1, batch_size = batch, validation_split = 0.2) # 8192\n",
    "    end = time.time()\n",
    "    time_t = end-start;\n",
    "    model_transformer.save('./trained_model/model_transformer_e' + str(n_epoche) + \"_b\" + str(batch) + '.h5')\n",
    "else:\n",
    "    model_transformer = keras.models.load_model('./trained_model/model_transformer_e' + str(n_epoche) + \"_b\" + str(batch) + '.h5')"
   ]
  },
  {
   "cell_type": "markdown",
   "id": "f907fa14",
   "metadata": {},
   "source": [
    "##### Salva i tempi di allenamento"
   ]
  },
  {
   "cell_type": "code",
   "execution_count": 41,
   "id": "76d2a49f",
   "metadata": {},
   "outputs": [],
   "source": [
    "if train_and_save == True:\n",
    "    dictionary = {\n",
    "        \"gru\": time_gru,\n",
    "        \"lstm\": time_lstm,\n",
    "        \"bidirectional\": time_bi,\n",
    "        \"time2vec\": time_t2v,\n",
    "        \"cnn\": time_cnn,\n",
    "        \"transformer\": time_t\n",
    "    }\n",
    "\n",
    "    with open(\"./trained_model/training_times.json\", \"w\") as outfile:\n",
    "        json.dump(dictionary, outfile)\n",
    "        \n",
    "        \n",
    "        \n",
    "with open(\"./trained_model/training_times.json\", 'r') as openfile:\n",
    "    dict_times = json.load(openfile)"
   ]
  },
  {
   "cell_type": "code",
   "execution_count": 42,
   "id": "ff095322",
   "metadata": {},
   "outputs": [],
   "source": [
    "if train_and_save == True:\n",
    "    dictionary = {\n",
    "        \"gru\": history_gru.history,\n",
    "        \"lstm\": history_lstm.history,\n",
    "        \"bidirectional\": history_bi.history,\n",
    "        \"time2vec\": history_t2v.history,\n",
    "        \"cnn\": history_cnn.history,\n",
    "        \"transformer\": history_t.history\n",
    "    }\n",
    "\n",
    "    with open(\"./trained_model/training_histories.json\", \"w\") as outfile:\n",
    "        json.dump(dictionary, outfile)\n",
    "        \n",
    "        \n",
    "with open(\"./trained_model/training_histories.json\", 'r') as openfile:\n",
    "    dict_histories = json.load(openfile)"
   ]
  },
  {
   "cell_type": "markdown",
   "id": "712efc13",
   "metadata": {},
   "source": [
    "# Plot"
   ]
  },
  {
   "cell_type": "code",
   "execution_count": 45,
   "id": "b55f6c6a",
   "metadata": {
    "scrolled": true
   },
   "outputs": [
    {
     "name": "stdout",
     "output_type": "stream",
     "text": [
      "--- GRU ---\n",
      "\n",
      "Time: 22.495807886123657\n",
      "**********TRAIN-SET***********\n",
      "MSE: 0.03300662711262703\n",
      "RMSE: 0.18167726085734293\n",
      "MAE: 0.14238345623016357\n",
      "**********TEST-SET***********\n",
      "MSE: 0.03286340832710266\n",
      "RMSE: 0.1812826751984388\n",
      "MAE: 0.14210925996303558\n"
     ]
    },
    {
     "data": {
      "image/png": "[encoded data removed]",
      "text/plain": [
       "<Figure size 432x288 with 1 Axes>"
      ]
     },
     "metadata": {
      "needs_background": "light"
     },
     "output_type": "display_data"
    },
    {
     "data": {
      "image/png": "[encoded data removed]",
      "text/plain": [
       "<Figure size 432x288 with 1 Axes>"
      ]
     },
     "metadata": {
      "needs_background": "light"
     },
     "output_type": "display_data"
    },
    {
     "data": {
      "image/png": "[encoded data removed]",
      "text/plain": [
       "<Figure size 432x288 with 1 Axes>"
      ]
     },
     "metadata": {
      "needs_background": "light"
     },
     "output_type": "display_data"
    }
   ],
   "source": [
    "print(\"--- GRU ---\\n\\nTime: \" + str(dict_times['gru']))\n",
    "metrics(model_gru, trainX, trainY, testX, testY, dict_histories['gru'])"
   ]
  },
  {
   "cell_type": "code",
   "execution_count": null,
   "id": "077d6eb3",
   "metadata": {
    "scrolled": true
   },
   "outputs": [],
   "source": [
    "print(\"--- LSTM ---\\n\\nTime: \" + str(dict_times['lstm']))\n",
    "metrics(model_lstm, trainX, trainY, testX, testY, dict_histories['lstm'])"
   ]
  },
  {
   "cell_type": "code",
   "execution_count": null,
   "id": "3158c674",
   "metadata": {},
   "outputs": [],
   "source": [
    "print(\"--- Bidirectional ---\\n\\nTime: \" + str(dict_times['bidirectional']))\n",
    "metrics(model_bi, trainX, trainY, testX, testY, dict_histories['bidirectional'])"
   ]
  },
  {
   "cell_type": "code",
   "execution_count": 43,
   "id": "2ab86d31",
   "metadata": {},
   "outputs": [
    {
     "name": "stdout",
     "output_type": "stream",
     "text": [
      "--- Time2Vec - LSTM ---\n",
      "\n",
      "Time: 8.367257356643677\n",
      "**********TRAIN-SET***********\n",
      "MSE: 0.0334809273481369\n",
      "RMSE: 0.1829779422447878\n",
      "MAE: 0.14303387701511383\n",
      "**********TEST-SET***********\n",
      "MSE: 0.03337913379073143\n",
      "RMSE: 0.18269957249739646\n",
      "MAE: 0.14290286600589752\n"
     ]
    },
    {
     "data": {
      "image/png": "[encoded data removed]",
      "text/plain": [
       "<Figure size 432x288 with 1 Axes>"
      ]
     },
     "metadata": {
      "needs_background": "light"
     },
     "output_type": "display_data"
    },
    {
     "data": {
      "image/png": "[encoded data removed]",
      "text/plain": [
       "<Figure size 432x288 with 1 Axes>"
      ]
     },
     "metadata": {
      "needs_background": "light"
     },
     "output_type": "display_data"
    },
    {
     "data": {
      "image/png": "[encoded data removed]",
      "text/plain": [
       "<Figure size 432x288 with 1 Axes>"
      ]
     },
     "metadata": {
      "needs_background": "light"
     },
     "output_type": "display_data"
    }
   ],
   "source": [
    "print(\"--- Time2Vec - LSTM ---\\n\\nTime: \" + str(dict_times['time2vec']))\n",
    "metrics(model_t2v, trainX, trainY, testX, testY, dict_histories['time2vec'])"
   ]
  },
  {
   "cell_type": "code",
   "execution_count": 78,
   "id": "59dce0d0",
   "metadata": {},
   "outputs": [
    {
     "name": "stdout",
     "output_type": "stream",
     "text": [
      "--- CNN - LSTM ---\n",
      "\n",
      "Time: 54.37760329246521\n",
      "(101933, 1)\n"
     ]
    },
    {
     "data": {
      "image/png": "[encoded data removed]",
      "text/plain": [
       "<Figure size 432x288 with 1 Axes>"
      ]
     },
     "metadata": {
      "needs_background": "light"
     },
     "output_type": "display_data"
    },
    {
     "data": {
      "image/png": "[encoded data removed]",
      "text/plain": [
       "<Figure size 432x288 with 1 Axes>"
      ]
     },
     "metadata": {
      "needs_background": "light"
     },
     "output_type": "display_data"
    },
    {
     "data": {
      "image/png": "[encoded data removed]",
      "text/plain": [
       "<Figure size 432x288 with 1 Axes>"
      ]
     },
     "metadata": {
      "needs_background": "light"
     },
     "output_type": "display_data"
    }
   ],
   "source": [
    "print(\"--- CNN - LSTM ---\\n\\nTime: \" + str(dict_times['cnn']))\n",
    "metrics(model_cnn, trainX, trainY, testX, testY, dict_histories['cnn'])"
   ]
  },
  {
   "cell_type": "code",
   "execution_count": null,
   "id": "bd7d8aa2",
   "metadata": {},
   "outputs": [],
   "source": [
    "print(\"--- Transformer ---\\n\\nTime: \" + str(dict_times['transformer']))\n",
    "metrics(model_transformer, trainX, trainY, testX, testY, dict_histories['transformer'])"
   ]
  }
 ],
 "metadata": {
  "kernelspec": {
   "display_name": "Python 3",
   "language": "python",
   "name": "python3"
  },
  "language_info": {
   "codemirror_mode": {
    "name": "ipython",
    "version": 3
   },
   "file_extension": ".py",
   "mimetype": "text/x-python",
   "name": "python",
   "nbconvert_exporter": "python",
   "pygments_lexer": "ipython3",
   "version": "3.9.13"
  },
  "vscode": {
   "interpreter": {
    "hash": "b4b4fd2252870ded9ed5bbb741847e4d846382e3dda5f0c9e0a86e88ef12f07d"
   }
  }
 },
 "nbformat": 4,
 "nbformat_minor": 5
}
