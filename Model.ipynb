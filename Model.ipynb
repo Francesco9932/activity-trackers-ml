{
 "cells": [
  {
   "cell_type": "code",
   "execution_count": 24,
   "id": "9af9423d",
   "metadata": {},
   "outputs": [],
   "source": [
    "import pandas as pd\n",
    "import numpy as np\n",
    "from matplotlib import pyplot as plt\n",
    "from sklearn.preprocessing import MinMaxScaler\n",
    "from keras.models import Sequential\n",
    "from keras.layers import Dense\n",
    "from keras.layers import LSTM\n",
    "from keras.layers import Dropout\n",
    "from sklearn.metrics import *"
   ]
  },
  {
   "cell_type": "code",
   "execution_count": 25,
   "id": "aab0230b",
   "metadata": {},
   "outputs": [],
   "source": [
    "dataset = pd.read_csv('dataset.csv')"
   ]
  },
  {
   "cell_type": "code",
   "execution_count": 26,
   "id": "0640e454",
   "metadata": {},
   "outputs": [
    {
     "name": "stdout",
     "output_type": "stream",
     "text": [
      "shape del training set: (1000427, 6)\n",
      "shape del test set: (250107, 6)\n"
     ]
    }
   ],
   "source": [
    "test_split=round(len(dataset)*0.20)\n",
    "df_for_training=dataset[:-test_split]\n",
    "df_for_testing=dataset[-test_split:]\n",
    "print(\"shape del training set: {}\".format(df_for_training.shape))\n",
    "print(\"shape del test set: {}\".format(df_for_testing.shape))\n"
   ]
  },
  {
   "cell_type": "code",
   "execution_count": 27,
   "id": "78598abc",
   "metadata": {},
   "outputs": [
    {
     "data": {
      "text/plain": [
       "array([[0.11842309, 0.4892513 , 0.51676206, 0.54466859, 0.45378151,\n",
       "        0.56907478],\n",
       "       [0.01527774, 0.46182357, 0.40719542, 0.46493756, 0.3557423 ,\n",
       "        0.55513308],\n",
       "       [0.41996658, 0.42772424, 0.42763696, 0.48991354, 0.42577031,\n",
       "        0.52471483],\n",
       "       ...,\n",
       "       [0.62809509, 0.48851001, 0.65004088, 0.67819404, 0.50840336,\n",
       "        0.69835234],\n",
       "       [0.36555162, 0.46478873, 0.60834015, 0.63208453, 0.49019608,\n",
       "        0.65652725],\n",
       "       [0.21755008, 0.41363973, 0.64431725, 0.76945245, 0.4859944 ,\n",
       "        0.84030418]])"
      ]
     },
     "execution_count": 27,
     "metadata": {},
     "output_type": "execute_result"
    }
   ],
   "source": [
    "# Normalizzazione\n",
    "scaler = MinMaxScaler(feature_range=(0,1))\n",
    "df_for_training_scaled = scaler.fit_transform(df_for_training)\n",
    "df_for_testing_scaled= scaler.transform(df_for_testing)\n",
    "df_for_training_scaled"
   ]
  },
  {
   "cell_type": "code",
   "execution_count": 28,
   "id": "4f5ea065",
   "metadata": {},
   "outputs": [],
   "source": [
    "#n_past is the number of step we will look in the past to predict the next target value.\n",
    "col2pred = 4  # 0:steps, 1:bedin, 2:bedout, 3:sleep duration, 4:deep duration, 5:lightduration\n",
    "def createXY(dataset,n_past):\n",
    "    dataX = []\n",
    "    dataY = []\n",
    "    for i in range(n_past, len(dataset)):\n",
    "            #per ogni feature fa l'append dei precedenti\n",
    "            dataX.append(dataset[i - n_past:i, 0:dataset.shape[1]])\n",
    "            \n",
    "            dataY.append(dataset[i,col2pred])\n",
    "    return np.array(dataX),np.array(dataY)\n",
    "\n",
    "window_size = 7\n",
    "trainX,trainY=createXY(df_for_training_scaled,window_size)\n",
    "testX,testY=createXY(df_for_testing_scaled,window_size)"
   ]
  },
  {
   "cell_type": "code",
   "execution_count": 29,
   "id": "ba19cac1",
   "metadata": {},
   "outputs": [],
   "source": [
    "# features num\n",
    "features_num = dataset.shape[1]"
   ]
  },
  {
   "cell_type": "markdown",
   "id": "25b57705",
   "metadata": {},
   "source": [
    "# LSTM"
   ]
  },
  {
   "cell_type": "code",
   "execution_count": 30,
   "id": "02d618ea",
   "metadata": {},
   "outputs": [
    {
     "name": "stdout",
     "output_type": "stream",
     "text": [
      "Model: \"sequential_2\"\n",
      "_________________________________________________________________\n",
      " Layer (type)                Output Shape              Param #   \n",
      "=================================================================\n",
      " lstm_4 (LSTM)               (None, 7, 50)             11400     \n",
      "                                                                 \n",
      " lstm_5 (LSTM)               (None, 50)                20200     \n",
      "                                                                 \n",
      " dropout_2 (Dropout)         (None, 50)                0         \n",
      "                                                                 \n",
      " dense_2 (Dense)             (None, 1)                 51        \n",
      "                                                                 \n",
      "=================================================================\n",
      "Total params: 31,651\n",
      "Trainable params: 31,651\n",
      "Non-trainable params: 0\n",
      "_________________________________________________________________\n"
     ]
    }
   ],
   "source": [
    "#Creazione del modello\n",
    "model = Sequential()\n",
    "model.add(LSTM(50,return_sequences=True,input_shape=(window_size,features_num)))\n",
    "model.add(LSTM(50))\n",
    "model.add(Dropout(0.2))\n",
    "model.add(Dense(1))\n",
    "model.compile(loss = 'mse', optimizer = 'adam')\n",
    "model.summary()"
   ]
  },
  {
   "cell_type": "code",
   "execution_count": 31,
   "id": "7d4974eb",
   "metadata": {},
   "outputs": [
    {
     "name": "stdout",
     "output_type": "stream",
     "text": [
      "Epoch 1/2\n",
      "196/196 [==============================] - 27s 120ms/step - loss: 0.0238 - val_loss: 0.0155\n",
      "Epoch 2/2\n",
      "196/196 [==============================] - 23s 118ms/step - loss: 0.0164 - val_loss: 0.0151\n"
     ]
    }
   ],
   "source": [
    "history = model.fit(trainX, trainY, epochs = 2, verbose = 1, batch_size = 4096, validation_split=0.2) # 8192"
   ]
  },
  {
   "cell_type": "code",
   "execution_count": 32,
   "id": "9c9fdadf",
   "metadata": {},
   "outputs": [
    {
     "name": "stdout",
     "output_type": "stream",
     "text": [
      "31264/31264 [==============================] - 79s 3ms/step\n",
      "prediction\n",
      " [[0.40173072]\n",
      " [0.40483332]\n",
      " [0.39756426]\n",
      " ...\n",
      " [0.44188538]\n",
      " [0.43051136]\n",
      " [0.42661294]]\n",
      "\n",
      "Prediction Shape- (1000420, 1)\n",
      "7816/7816 [==============================] - 21s 3ms/step\n",
      "prediction\n",
      " [[0.43757197]\n",
      " [0.4662503 ]\n",
      " [0.46610904]\n",
      " ...\n",
      " [0.4294435 ]\n",
      " [0.43288475]\n",
      " [0.4378842 ]]\n",
      "\n",
      "Prediction Shape- (250100, 1)\n"
     ]
    }
   ],
   "source": [
    "prediction_train = model.predict(trainX)\n",
    "print(\"prediction\\n\", prediction_train)\n",
    "print(\"\\nPrediction Shape-\", prediction_train.shape)\n",
    "\n",
    "prediction_train_copies_array = np.repeat(prediction_train, 6, axis=-1)\n",
    "pred_train = scaler.inverse_transform(np.reshape(prediction_train_copies_array, (len(prediction_train), 6)))[:, col2pred]\n",
    "true_value_train_copies_array = np.repeat(trainY, 6, axis=-1)\n",
    "true_value_train = scaler.inverse_transform(np.reshape(true_value_train_copies_array, (len(trainY), 6)))[:, col2pred]\n",
    "\n",
    "prediction_test=model.predict(testX)\n",
    "print(\"prediction\\n\", prediction_test)\n",
    "print(\"\\nPrediction Shape-\",prediction_test.shape)\n",
    "\n",
    "prediction_copies_test_array = np.repeat(prediction_test,6, axis=-1)\n",
    "pred_test=scaler.inverse_transform(np.reshape(prediction_copies_test_array,(len(prediction_test),6)))[:,col2pred]\n",
    "true_value_test_copies_array = np.repeat(testY,6, axis=-1)\n",
    "true_value_test=scaler.inverse_transform(np.reshape(true_value_test_copies_array,(len(testY),6)))[:,col2pred]"
   ]
  },
  {
   "cell_type": "code",
   "execution_count": 33,
   "id": "a9073243",
   "metadata": {},
   "outputs": [
    {
     "name": "stdout",
     "output_type": "stream",
     "text": [
      "**********TRAIN-SET***********\n",
      "MAE: 0.677\n",
      "MSE: 0.767\n",
      "RMSE: 0.767\n",
      "**********TEST-SET***********\n",
      "MAE: 0.688\n",
      "MSE: 0.790\n",
      "RMSE: 0.790\n"
     ]
    },
    {
     "data": {
      "image/png": "[encoded data removed]",
      "text/plain": [
       "<Figure size 432x288 with 1 Axes>"
      ]
     },
     "metadata": {
      "needs_background": "light"
     },
     "output_type": "display_data"
    }
   ],
   "source": [
    "def metrics(true_value_train, pred_value_train, true_value_test, pred_value_test):\n",
    "    print(\"**********TRAIN-SET***********\")\n",
    "    print(\"MAE: {:.3f}\".format(mean_absolute_error(\n",
    "        true_value_train, pred_value_train)))\n",
    "    print(\"MSE: {:.3f}\".format(\n",
    "        mean_squared_error(true_value_train, pred_value_train)))\n",
    "    print(\"RMSE: {:.3f}\".format(\n",
    "        mean_squared_error(true_value_train, pred_value_train, squared=True)))\n",
    "    # metrics test set\n",
    "    print(\"**********TEST-SET***********\")\n",
    "    print(\"MAE: {:.3f}\".format(mean_absolute_error(\n",
    "        true_value_test, pred_value_test)))\n",
    "    print(\"MSE: {:.3f}\".format(\n",
    "        mean_squared_error(true_value_test, pred_value_test)))\n",
    "    print(\"RMSE: {:.3f}\".format(\n",
    "        mean_squared_error(true_value_test, pred_value_test, squared=True)))\n",
    "    \n",
    "\n",
    "    plt.plot(true_value_test[:1250], color='red', label='Real sleep duration')\n",
    "    plt.plot(pred_value_test[:1250], color='blue', label='Predicted sleep duration')\n",
    "    plt.title('sleep duration Prediction')\n",
    "    plt.xlabel('Time')\n",
    "    plt.ylabel('steps')\n",
    "    plt.legend()\n",
    "    plt.show()\n",
    "\n",
    "\n",
    "metrics(true_value_train, pred_train, true_value_test, pred_test)\n"
   ]
  }
 ],
 "metadata": {
  "kernelspec": {
   "display_name": "Python 3.9.13 64-bit (microsoft store)",
   "language": "python",
   "name": "python3"
  },
  "language_info": {
   "codemirror_mode": {
    "name": "ipython",
    "version": 3
   },
   "file_extension": ".py",
   "mimetype": "text/x-python",
   "name": "python",
   "nbconvert_exporter": "python",
   "pygments_lexer": "ipython3",
   "version": "3.9.13"
  },
  "vscode": {
   "interpreter": {
    "hash": "b4b4fd2252870ded9ed5bbb741847e4d846382e3dda5f0c9e0a86e88ef12f07d"
   }
  }
 },
 "nbformat": 4,
 "nbformat_minor": 5
}
