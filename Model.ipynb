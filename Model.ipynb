{
 "cells": [
  {
   "cell_type": "markdown",
   "id": "1cafabb6",
   "metadata": {},
   "source": [
    "# Import"
   ]
  },
  {
   "cell_type": "markdown",
   "id": "14cce8d6",
   "metadata": {},
   "source": [
    "### Librerie"
   ]
  },
  {
   "cell_type": "code",
   "execution_count": 1,
   "id": "9af9423d",
   "metadata": {},
   "outputs": [
    {
     "name": "stderr",
     "output_type": "stream",
     "text": [
      "D:\\Anaconda\\lib\\site-packages\\scipy\\__init__.py:138: UserWarning: A NumPy version >=1.16.5 and <1.23.0 is required for this version of SciPy (detected version 1.23.3)\n",
      "  warnings.warn(f\"A NumPy version >={np_minversion} and <{np_maxversion} is required for this version of \"\n"
     ]
    }
   ],
   "source": [
    "import pandas as pd\n",
    "import numpy as np\n",
    "from matplotlib import pyplot as plt\n",
    "from sklearn.preprocessing import MinMaxScaler\n",
    "from keras.models import Sequential\n",
    "from keras.layers import Dense\n",
    "from keras.layers import LSTM\n",
    "from keras.layers import Dropout\n",
    "from sklearn.metrics import *"
   ]
  },
  {
   "cell_type": "markdown",
   "id": "014c5b9e",
   "metadata": {},
   "source": [
    "### Dataset"
   ]
  },
  {
   "cell_type": "code",
   "execution_count": 2,
   "id": "aab0230b",
   "metadata": {},
   "outputs": [],
   "source": [
    "dataset = pd.read_csv('dataset.csv')\n",
    "dataset.set_index(['date', 'sex', 'age', 'height', 'timezone'], inplace=True)"
   ]
  },
  {
   "cell_type": "code",
   "execution_count": 3,
   "id": "0640e454",
   "metadata": {},
   "outputs": [
    {
     "name": "stdout",
     "output_type": "stream",
     "text": [
      "shape del training set: (751741, 6)\n",
      "shape del test set: (187935, 6)\n"
     ]
    },
    {
     "data": {
      "text/html": [
       "<div>\n",
       "<style scoped>\n",
       "    .dataframe tbody tr th:only-of-type {\n",
       "        vertical-align: middle;\n",
       "    }\n",
       "\n",
       "    .dataframe tbody tr th {\n",
       "        vertical-align: top;\n",
       "    }\n",
       "\n",
       "    .dataframe thead th {\n",
       "        text-align: right;\n",
       "    }\n",
       "</style>\n",
       "<table border=\"1\" class=\"dataframe\">\n",
       "  <thead>\n",
       "    <tr style=\"text-align: right;\">\n",
       "      <th></th>\n",
       "      <th></th>\n",
       "      <th></th>\n",
       "      <th></th>\n",
       "      <th></th>\n",
       "      <th>steps</th>\n",
       "      <th>bedin</th>\n",
       "      <th>bedout</th>\n",
       "      <th>sleep duration</th>\n",
       "      <th>deepduration</th>\n",
       "      <th>lightduration</th>\n",
       "    </tr>\n",
       "    <tr>\n",
       "      <th>date</th>\n",
       "      <th>sex</th>\n",
       "      <th>age</th>\n",
       "      <th>height</th>\n",
       "      <th>timezone</th>\n",
       "      <th></th>\n",
       "      <th></th>\n",
       "      <th></th>\n",
       "      <th></th>\n",
       "      <th></th>\n",
       "      <th></th>\n",
       "    </tr>\n",
       "  </thead>\n",
       "  <tbody>\n",
       "    <tr>\n",
       "      <th>2016-04-19</th>\n",
       "      <th>Male</th>\n",
       "      <th>39.0</th>\n",
       "      <th>174.0</th>\n",
       "      <th>PDT</th>\n",
       "      <td>7716.87</td>\n",
       "      <td>24.08</td>\n",
       "      <td>6.81</td>\n",
       "      <td>5.98</td>\n",
       "      <td>1.08</td>\n",
       "      <td>4.87</td>\n",
       "    </tr>\n",
       "    <tr>\n",
       "      <th>2016-04-20</th>\n",
       "      <th>Male</th>\n",
       "      <th>39.0</th>\n",
       "      <th>174.0</th>\n",
       "      <th>PDT</th>\n",
       "      <td>7647.55</td>\n",
       "      <td>27.36</td>\n",
       "      <td>6.50</td>\n",
       "      <td>3.00</td>\n",
       "      <td>1.61</td>\n",
       "      <td>1.37</td>\n",
       "    </tr>\n",
       "    <tr>\n",
       "      <th>2016-04-21</th>\n",
       "      <th>Male</th>\n",
       "      <th>39.0</th>\n",
       "      <th>174.0</th>\n",
       "      <th>PDT</th>\n",
       "      <td>6041.68</td>\n",
       "      <td>23.79</td>\n",
       "      <td>7.93</td>\n",
       "      <td>7.61</td>\n",
       "      <td>3.40</td>\n",
       "      <td>4.22</td>\n",
       "    </tr>\n",
       "    <tr>\n",
       "      <th>2016-04-22</th>\n",
       "      <th>Male</th>\n",
       "      <th>39.0</th>\n",
       "      <th>174.0</th>\n",
       "      <th>PDT</th>\n",
       "      <td>5094.85</td>\n",
       "      <td>25.94</td>\n",
       "      <td>6.44</td>\n",
       "      <td>4.59</td>\n",
       "      <td>1.28</td>\n",
       "      <td>3.33</td>\n",
       "    </tr>\n",
       "    <tr>\n",
       "      <th>2016-04-23</th>\n",
       "      <th>Male</th>\n",
       "      <th>39.0</th>\n",
       "      <th>174.0</th>\n",
       "      <th>PDT</th>\n",
       "      <td>4428.15</td>\n",
       "      <td>25.50</td>\n",
       "      <td>11.75</td>\n",
       "      <td>9.91</td>\n",
       "      <td>4.98</td>\n",
       "      <td>4.84</td>\n",
       "    </tr>\n",
       "  </tbody>\n",
       "</table>\n",
       "</div>"
      ],
      "text/plain": [
       "                                        steps  bedin  bedout  sleep duration  \\\n",
       "date       sex  age  height timezone                                           \n",
       "2016-04-19 Male 39.0 174.0  PDT       7716.87  24.08    6.81            5.98   \n",
       "2016-04-20 Male 39.0 174.0  PDT       7647.55  27.36    6.50            3.00   \n",
       "2016-04-21 Male 39.0 174.0  PDT       6041.68  23.79    7.93            7.61   \n",
       "2016-04-22 Male 39.0 174.0  PDT       5094.85  25.94    6.44            4.59   \n",
       "2016-04-23 Male 39.0 174.0  PDT       4428.15  25.50   11.75            9.91   \n",
       "\n",
       "                                      deepduration  lightduration  \n",
       "date       sex  age  height timezone                               \n",
       "2016-04-19 Male 39.0 174.0  PDT               1.08           4.87  \n",
       "2016-04-20 Male 39.0 174.0  PDT               1.61           1.37  \n",
       "2016-04-21 Male 39.0 174.0  PDT               3.40           4.22  \n",
       "2016-04-22 Male 39.0 174.0  PDT               1.28           3.33  \n",
       "2016-04-23 Male 39.0 174.0  PDT               4.98           4.84  "
      ]
     },
     "execution_count": 3,
     "metadata": {},
     "output_type": "execute_result"
    }
   ],
   "source": [
    "test_split=round(len(dataset)*0.20)\n",
    "df_for_training=dataset[:-test_split]\n",
    "df_for_testing=dataset[-test_split:]\n",
    "print(\"shape del training set: {}\".format(df_for_training.shape))\n",
    "print(\"shape del test set: {}\".format(df_for_testing.shape))\n",
    "dataset.head()"
   ]
  },
  {
   "cell_type": "code",
   "execution_count": 4,
   "id": "78598abc",
   "metadata": {},
   "outputs": [
    {
     "data": {
      "text/plain": [
       "array([[0.35766577, 0.51965812, 0.42921147, 0.35860656, 0.15584416,\n",
       "        0.61647362],\n",
       "       [0.35445247, 0.8       , 0.40143369, 0.05327869, 0.23232323,\n",
       "        0.16602317],\n",
       "       [0.28001307, 0.49487179, 0.52956989, 0.52561475, 0.49062049,\n",
       "        0.53281853],\n",
       "       ...,\n",
       "       [0.24371281, 0.37179487, 0.35125448, 0.45696721, 0.67388167,\n",
       "        0.28442728],\n",
       "       [0.31973986, 0.39401709, 0.35035842, 0.43647541, 0.73881674,\n",
       "        0.1981982 ],\n",
       "       [0.38696   , 0.36324786, 0.35035842, 0.48258197, 0.61471861,\n",
       "        0.36808237]])"
      ]
     },
     "execution_count": 4,
     "metadata": {},
     "output_type": "execute_result"
    }
   ],
   "source": [
    "# Normalizzazione\n",
    "scaler = MinMaxScaler(feature_range=(0,1))\n",
    "df_for_training_scaled = scaler.fit_transform(df_for_training)\n",
    "df_for_testing_scaled= scaler.transform(df_for_testing)\n",
    "df_for_training_scaled"
   ]
  },
  {
   "cell_type": "code",
   "execution_count": 5,
   "id": "4f5ea065",
   "metadata": {},
   "outputs": [],
   "source": [
    "#n_past is the number of step we will look in the past to predict the next target value.\n",
    "col2pred = 4  # 0:steps, 1:bedin, 2:bedout, 3:sleep duration, 4:deep duration, 5:lightduration\n",
    "def createXY(dataset,n_past):\n",
    "    dataX = []\n",
    "    dataY = []\n",
    "    for i in range(n_past, len(dataset)):\n",
    "            #per ogni feature fa l'append dei precedenti\n",
    "            dataX.append(dataset[i - n_past:i, 0:dataset.shape[1]])\n",
    "            \n",
    "            dataY.append(dataset[i,col2pred])\n",
    "    return np.array(dataX),np.array(dataY)\n",
    "\n",
    "window_size = 7\n",
    "trainX,trainY=createXY(df_for_training_scaled,window_size)\n",
    "testX,testY=createXY(df_for_testing_scaled,window_size)"
   ]
  },
  {
   "cell_type": "code",
   "execution_count": 6,
   "id": "ba19cac1",
   "metadata": {},
   "outputs": [],
   "source": [
    "# features num\n",
    "features_num = dataset.shape[1]"
   ]
  },
  {
   "cell_type": "markdown",
   "id": "25b57705",
   "metadata": {},
   "source": [
    "# LSTM"
   ]
  },
  {
   "cell_type": "code",
   "execution_count": 7,
   "id": "02d618ea",
   "metadata": {},
   "outputs": [
    {
     "name": "stdout",
     "output_type": "stream",
     "text": [
      "Model: \"sequential\"\n",
      "_________________________________________________________________\n",
      " Layer (type)                Output Shape              Param #   \n",
      "=================================================================\n",
      " lstm (LSTM)                 (None, 7, 256)            269312    \n",
      "                                                                 \n",
      " lstm_1 (LSTM)               (None, 7, 128)            197120    \n",
      "                                                                 \n",
      " lstm_2 (LSTM)               (None, 64)                49408     \n",
      "                                                                 \n",
      " dropout (Dropout)           (None, 64)                0         \n",
      "                                                                 \n",
      " dense (Dense)               (None, 1)                 65        \n",
      "                                                                 \n",
      "=================================================================\n",
      "Total params: 515,905\n",
      "Trainable params: 515,905\n",
      "Non-trainable params: 0\n",
      "_________________________________________________________________\n"
     ]
    }
   ],
   "source": [
    "#Creazione del modello\n",
    "model = Sequential()\n",
    "model.add(LSTM(256,return_sequences=True,input_shape=(window_size,features_num)))\n",
    "model.add(LSTM(128,return_sequences=True))\n",
    "model.add(LSTM(64))\n",
    "model.add(Dropout(0.5))\n",
    "model.add(Dense(1))\n",
    "model.compile(loss = 'mse', optimizer = 'adam')\n",
    "model.summary()"
   ]
  },
  {
   "cell_type": "code",
   "execution_count": 8,
   "id": "7d4974eb",
   "metadata": {
    "scrolled": true
   },
   "outputs": [
    {
     "name": "stdout",
     "output_type": "stream",
     "text": [
      "Epoch 1/20\n",
      "184/184 [==============================] - 13s 24ms/step - loss: 0.0249\n",
      "Epoch 2/20\n",
      "184/184 [==============================] - 4s 24ms/step - loss: 0.0187\n",
      "Epoch 3/20\n",
      "184/184 [==============================] - 4s 23ms/step - loss: 0.0180\n",
      "Epoch 4/20\n",
      "184/184 [==============================] - 4s 23ms/step - loss: 0.0175\n",
      "Epoch 5/20\n",
      "184/184 [==============================] - 4s 23ms/step - loss: 0.0170\n",
      "Epoch 6/20\n",
      "184/184 [==============================] - 4s 23ms/step - loss: 0.0166\n",
      "Epoch 7/20\n",
      "184/184 [==============================] - 4s 24ms/step - loss: 0.0163\n",
      "Epoch 8/20\n",
      "184/184 [==============================] - 4s 23ms/step - loss: 0.0160\n",
      "Epoch 9/20\n",
      "184/184 [==============================] - 4s 23ms/step - loss: 0.0158\n",
      "Epoch 10/20\n",
      "184/184 [==============================] - 4s 23ms/step - loss: 0.0156\n",
      "Epoch 11/20\n",
      "184/184 [==============================] - 4s 24ms/step - loss: 0.0155\n",
      "Epoch 12/20\n",
      "184/184 [==============================] - 4s 24ms/step - loss: 0.0154\n",
      "Epoch 13/20\n",
      "184/184 [==============================] - 4s 24ms/step - loss: 0.0153\n",
      "Epoch 14/20\n",
      "184/184 [==============================] - 4s 24ms/step - loss: 0.0153\n",
      "Epoch 15/20\n",
      "184/184 [==============================] - 4s 24ms/step - loss: 0.0152\n",
      "Epoch 16/20\n",
      "184/184 [==============================] - 4s 24ms/step - loss: 0.0152\n",
      "Epoch 17/20\n",
      "184/184 [==============================] - 4s 24ms/step - loss: 0.0152\n",
      "Epoch 18/20\n",
      "184/184 [==============================] - 5s 25ms/step - loss: 0.0152\n",
      "Epoch 19/20\n",
      "184/184 [==============================] - 5s 25ms/step - loss: 0.0152\n",
      "Epoch 20/20\n",
      "184/184 [==============================] - 5s 24ms/step - loss: 0.0152\n"
     ]
    }
   ],
   "source": [
    "history = model.fit(trainX, trainY, epochs = 20, verbose = 1, batch_size = 4096) # 8192"
   ]
  },
  {
   "cell_type": "code",
   "execution_count": 9,
   "id": "9c9fdadf",
   "metadata": {},
   "outputs": [
    {
     "name": "stdout",
     "output_type": "stream",
     "text": [
      "23492/23492 [==============================] - 83s 3ms/step\n",
      "prediction\n",
      " [[0.4115364 ]\n",
      " [0.44598272]\n",
      " [0.48293585]\n",
      " ...\n",
      " [0.6611341 ]\n",
      " [0.65686077]\n",
      " [0.651616  ]]\n",
      "\n",
      "Prediction Shape- (751734, 1)\n",
      "5873/5873 [==============================] - 21s 4ms/step\n",
      "prediction\n",
      " [[0.61769587]\n",
      " [0.61712855]\n",
      " [0.63610864]\n",
      " ...\n",
      " [0.623152  ]\n",
      " [0.63000214]\n",
      " [0.62351984]]\n",
      "\n",
      "Prediction Shape- (187928, 1)\n"
     ]
    }
   ],
   "source": [
    "prediction_train = model.predict(trainX)\n",
    "print(\"prediction\\n\", prediction_train)\n",
    "print(\"\\nPrediction Shape-\", prediction_train.shape)\n",
    "\n",
    "prediction_train_copies_array = np.repeat(prediction_train, 6, axis=-1)\n",
    "pred_train = scaler.inverse_transform(np.reshape(prediction_train_copies_array, (len(prediction_train), 6)))[:, col2pred]\n",
    "true_value_train_copies_array = np.repeat(trainY, 6, axis=-1)\n",
    "true_value_train = scaler.inverse_transform(np.reshape(true_value_train_copies_array, (len(trainY), 6)))[:, col2pred]\n",
    "\n",
    "prediction_test=model.predict(testX)\n",
    "print(\"prediction\\n\", prediction_test)\n",
    "print(\"\\nPrediction Shape-\",prediction_test.shape)\n",
    "\n",
    "prediction_copies_test_array = np.repeat(prediction_test,6, axis=-1)\n",
    "pred_test=scaler.inverse_transform(np.reshape(prediction_copies_test_array,(len(prediction_test),6)))[:,col2pred]\n",
    "true_value_test_copies_array = np.repeat(testY,6, axis=-1)\n",
    "true_value_test=scaler.inverse_transform(np.reshape(true_value_test_copies_array,(len(testY),6)))[:,col2pred]"
   ]
  },
  {
   "cell_type": "code",
   "execution_count": 10,
   "id": "a9073243",
   "metadata": {},
   "outputs": [
    {
     "name": "stdout",
     "output_type": "stream",
     "text": [
      "**********TRAIN-SET***********\n",
      "MAE: 0.657\n",
      "MSE: 0.721\n",
      "RMSE: 0.721\n",
      "**********TEST-SET***********\n",
      "MAE: 0.670\n",
      "MSE: 0.747\n",
      "RMSE: 0.747\n"
     ]
    },
    {
     "data": {
      "image/png": "[encoded data removed]",
      "text/plain": [
       "<Figure size 432x288 with 1 Axes>"
      ]
     },
     "metadata": {
      "needs_background": "light"
     },
     "output_type": "display_data"
    }
   ],
   "source": [
    "def metrics(true_value_train, pred_value_train, true_value_test, pred_value_test):\n",
    "    print(\"**********TRAIN-SET***********\")\n",
    "    print(\"MAE: {:.3f}\".format(mean_absolute_error(\n",
    "        true_value_train, pred_value_train)))\n",
    "    print(\"MSE: {:.3f}\".format(\n",
    "        mean_squared_error(true_value_train, pred_value_train)))\n",
    "    print(\"RMSE: {:.3f}\".format(\n",
    "        mean_squared_error(true_value_train, pred_value_train, squared=True)))\n",
    "    # metrics test set\n",
    "    print(\"**********TEST-SET***********\")\n",
    "    print(\"MAE: {:.3f}\".format(mean_absolute_error(\n",
    "        true_value_test, pred_value_test)))\n",
    "    print(\"MSE: {:.3f}\".format(\n",
    "        mean_squared_error(true_value_test, pred_value_test)))\n",
    "    print(\"RMSE: {:.3f}\".format(\n",
    "        mean_squared_error(true_value_test, pred_value_test, squared=True)))\n",
    "    \n",
    "\n",
    "    plt.plot(true_value_test[:1250], color='red', label='Real sleep duration')\n",
    "    plt.plot(pred_value_test[:1250], color='blue', label='Predicted sleep duration')\n",
    "    plt.title('sleep duration Prediction')\n",
    "    plt.xlabel('Time')\n",
    "    plt.ylabel('steps')\n",
    "    plt.legend()\n",
    "    plt.show()\n",
    "\n",
    "\n",
    "metrics(true_value_train, pred_train, true_value_test, pred_test)"
   ]
  }
 ],
 "metadata": {
  "kernelspec": {
   "display_name": "Python 3",
   "language": "python",
   "name": "python3"
  },
  "language_info": {
   "codemirror_mode": {
    "name": "ipython",
    "version": 3
   },
   "file_extension": ".py",
   "mimetype": "text/x-python",
   "name": "python",
   "nbconvert_exporter": "python",
   "pygments_lexer": "ipython3",
   "version": "3.8.8"
  },
  "vscode": {
   "interpreter": {
    "hash": "b4b4fd2252870ded9ed5bbb741847e4d846382e3dda5f0c9e0a86e88ef12f07d"
   }
  }
 },
 "nbformat": 4,
 "nbformat_minor": 5
}
