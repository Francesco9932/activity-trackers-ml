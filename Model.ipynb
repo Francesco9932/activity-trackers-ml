{
 "cells": [
  {
   "cell_type": "code",
   "execution_count": null,
   "id": "9af9423d",
   "metadata": {},
   "outputs": [],
   "source": [
    "import pandas as pd\n",
    "import numpy as np\n",
    "from matplotlib import pyplot as plt\n",
    "from sklearn.preprocessing import MinMaxScaler\n",
    "from sklearn.preprocessing import LabelEncoder\n",
    "from keras.models import Sequential\n",
    "from keras.layers import Dense\n",
    "from keras.layers import LSTM\n",
    "from keras.layers import Dropout"
   ]
  },
  {
   "cell_type": "code",
   "execution_count": null,
   "id": "aab0230b",
   "metadata": {},
   "outputs": [],
   "source": [
    "dataset = pd.read_csv('dataset.csv')\n",
    "dataset.set_index(['date','sex','age','height','timezone'], inplace=True)\n",
    "dataset.head()"
   ]
  },
  {
   "cell_type": "code",
   "execution_count": null,
   "id": "0640e454",
   "metadata": {},
   "outputs": [],
   "source": [
    "test_split=round(len(dataset)*0.20)\n",
    "df_for_training=dataset[:-test_split]\n",
    "df_for_testing=dataset[-test_split:]\n",
    "print(df_for_training.shape)\n",
    "print(df_for_testing.shape)"
   ]
  },
  {
   "cell_type": "code",
   "execution_count": null,
   "id": "78598abc",
   "metadata": {},
   "outputs": [],
   "source": [
    "#Normalizzazione_internet\n",
    "scaler = MinMaxScaler(feature_range=(0,1))\n",
    "df_for_training_scaled = scaler.fit_transform(df_for_training)\n",
    "df_for_testing_scaled= scaler.transform(df_for_testing)\n",
    "df_for_training_scaled"
   ]
  },
  {
   "cell_type": "code",
   "execution_count": null,
   "id": "4f5ea065",
   "metadata": {},
   "outputs": [],
   "source": [
    "#n_past is the number of step we will look in the past to predict the next target value.\n",
    "col2pred = 3  # 0:steps, 1:bedin, 2:bedout, 3:sleep duration, 4:deep duration, 5:lightduration\n",
    "def createXY(dataset,n_past):\n",
    "    dataX = []\n",
    "    dataY = []\n",
    "    for i in range(n_past, len(dataset)):\n",
    "            #per ogni feature fa l'append dei precedenti\n",
    "            dataX.append(dataset[i - n_past:i, 0:dataset.shape[1]])\n",
    "            \n",
    "            dataY.append(dataset[i,col2pred])\n",
    "    return np.array(dataX),np.array(dataY)\n",
    "\n",
    "trainX,trainY=createXY(df_for_training_scaled,30)\n",
    "testX,testY=createXY(df_for_testing_scaled,30)"
   ]
  },
  {
   "cell_type": "code",
   "execution_count": null,
   "id": "ba19cac1",
   "metadata": {},
   "outputs": [],
   "source": [
    "# features num\n",
    "dataset.shape[1]"
   ]
  },
  {
   "cell_type": "code",
   "execution_count": null,
   "id": "02d618ea",
   "metadata": {},
   "outputs": [],
   "source": [
    "#Creazione del modello\n",
    "model = Sequential()\n",
    "model.add(LSTM(50,return_sequences=True,input_shape=(30,6)))\n",
    "model.add(LSTM(50))\n",
    "model.add(Dropout(0.2))\n",
    "model.add(Dense(1))\n",
    "model.compile(loss = 'mse', optimizer = 'adam')\n",
    "model.summary()"
   ]
  },
  {
   "cell_type": "code",
   "execution_count": null,
   "id": "7d4974eb",
   "metadata": {},
   "outputs": [],
   "source": [
    "history = model.fit(trainX, trainY, epochs = 8, verbose = 1, batch_size = 4096) # 8192"
   ]
  },
  {
   "cell_type": "code",
   "execution_count": null,
   "id": "9c9fdadf",
   "metadata": {},
   "outputs": [],
   "source": [
    "prediction=model.predict(testX)\n",
    "print(\"prediction\\n\", prediction)\n",
    "print(\"\\nPrediction Shape-\",prediction.shape)"
   ]
  },
  {
   "cell_type": "code",
   "execution_count": null,
   "id": "3cbd4b8b",
   "metadata": {},
   "outputs": [],
   "source": [
    "prediction_copies_array = np.repeat(prediction,6, axis=-1)\n",
    "pred=scaler.inverse_transform(np.reshape(prediction_copies_array,(len(prediction),6)))[:,col2pred]"
   ]
  },
  {
   "cell_type": "code",
   "execution_count": null,
   "id": "28d05cfa",
   "metadata": {},
   "outputs": [],
   "source": [
    "original_copies_array = np.repeat(testY,6, axis=-1)\n",
    "original=scaler.inverse_transform(np.reshape(original_copies_array,(len(testY),6)))[:,col2pred]"
   ]
  },
  {
   "cell_type": "code",
   "execution_count": null,
   "id": "cfe6a2e5",
   "metadata": {},
   "outputs": [],
   "source": [
    "print(\"Pred Values-- \" ,pred)\n",
    "print(\"\\nOriginal Values-- \" ,original)"
   ]
  },
  {
   "cell_type": "code",
   "execution_count": null,
   "id": "f99683a2",
   "metadata": {},
   "outputs": [],
   "source": [
    "plt.plot(original[:1250], color = 'red', label = 'Real sleep duration')\n",
    "plt.plot(pred[:1250], color = 'blue', label = 'Predicted sleep duration')\n",
    "plt.title('sleep duration Prediction')\n",
    "plt.xlabel('Time')\n",
    "plt.ylabel('steps')\n",
    "plt.legend()\n",
    "plt.show()"
   ]
  },
  {
   "cell_type": "code",
   "execution_count": null,
   "id": "20de5d4f",
   "metadata": {},
   "outputs": [],
   "source": [
    "#Normalizzazione\n",
    "x_scaler = MinMaxScaler()\n",
    "y_scaler = MinMaxScaler()\n",
    "\n",
    "x_data = x_scaler.fit_transform(dataset[['steps','bedin','bedout','sleep duration','deepduration','lightduration']])\n",
    "y_data = y_scaler.fit_transform(dataset[['sleep duration']])"
   ]
  }
 ],
 "metadata": {
  "kernelspec": {
   "display_name": "Python 3.9.13 64-bit (microsoft store)",
   "language": "python",
   "name": "python3"
  },
  "language_info": {
   "codemirror_mode": {
    "name": "ipython",
    "version": 3
   },
   "file_extension": ".py",
   "mimetype": "text/x-python",
   "name": "python",
   "nbconvert_exporter": "python",
   "pygments_lexer": "ipython3",
   "version": "3.9.13"
  },
  "vscode": {
   "interpreter": {
    "hash": "b4b4fd2252870ded9ed5bbb741847e4d846382e3dda5f0c9e0a86e88ef12f07d"
   }
  }
 },
 "nbformat": 4,
 "nbformat_minor": 5
}
