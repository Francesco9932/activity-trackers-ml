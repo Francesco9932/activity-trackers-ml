{
 "cells": [
  {
   "cell_type": "code",
   "execution_count": 48,
   "id": "9af9423d",
   "metadata": {},
   "outputs": [],
   "source": [
    "from math import sqrt\n",
    "import pandas as pd\n",
    "import tensorflow as tf\n",
    "import numpy as np\n",
    "import datetime\n",
    "from numpy import concatenate\n",
    "from matplotlib import pyplot\n",
    "from pandas import read_csv\n",
    "from pandas import DataFrame\n",
    "from pandas import concat\n",
    "from sklearn.preprocessing import MinMaxScaler\n",
    "from sklearn.preprocessing import LabelEncoder\n",
    "from sklearn.metrics import mean_squared_error\n",
    "from keras.models import Sequential\n",
    "from keras.layers import Dense\n",
    "from keras.layers import LSTM"
   ]
  },
  {
   "cell_type": "code",
   "execution_count": 32,
   "id": "aab0230b",
   "metadata": {},
   "outputs": [
    {
     "data": {
      "text/html": [
       "<div>\n",
       "<style scoped>\n",
       "    .dataframe tbody tr th:only-of-type {\n",
       "        vertical-align: middle;\n",
       "    }\n",
       "\n",
       "    .dataframe tbody tr th {\n",
       "        vertical-align: top;\n",
       "    }\n",
       "\n",
       "    .dataframe thead th {\n",
       "        text-align: right;\n",
       "    }\n",
       "</style>\n",
       "<table border=\"1\" class=\"dataframe\">\n",
       "  <thead>\n",
       "    <tr style=\"text-align: right;\">\n",
       "      <th></th>\n",
       "      <th></th>\n",
       "      <th></th>\n",
       "      <th></th>\n",
       "      <th></th>\n",
       "      <th>steps</th>\n",
       "      <th>bedin</th>\n",
       "      <th>bedout</th>\n",
       "      <th>sleep duration</th>\n",
       "      <th>deepduration</th>\n",
       "      <th>lightduration</th>\n",
       "    </tr>\n",
       "    <tr>\n",
       "      <th>date</th>\n",
       "      <th>sex</th>\n",
       "      <th>age</th>\n",
       "      <th>height</th>\n",
       "      <th>timezone</th>\n",
       "      <th></th>\n",
       "      <th></th>\n",
       "      <th></th>\n",
       "      <th></th>\n",
       "      <th></th>\n",
       "      <th></th>\n",
       "    </tr>\n",
       "  </thead>\n",
       "  <tbody>\n",
       "    <tr>\n",
       "      <th>2016-04-02</th>\n",
       "      <th>1.0</th>\n",
       "      <th>39.0</th>\n",
       "      <th>174.0</th>\n",
       "      <th>1.0</th>\n",
       "      <td>2547.55</td>\n",
       "      <td>23.78</td>\n",
       "      <td>7.82</td>\n",
       "      <td>7.76</td>\n",
       "      <td>3.24</td>\n",
       "      <td>4.49</td>\n",
       "    </tr>\n",
       "    <tr>\n",
       "      <th>2016-04-03</th>\n",
       "      <th>1.0</th>\n",
       "      <th>39.0</th>\n",
       "      <th>174.0</th>\n",
       "      <th>1.0</th>\n",
       "      <td>329.53</td>\n",
       "      <td>23.41</td>\n",
       "      <td>6.48</td>\n",
       "      <td>6.93</td>\n",
       "      <td>2.54</td>\n",
       "      <td>4.38</td>\n",
       "    </tr>\n",
       "    <tr>\n",
       "      <th>2016-04-05</th>\n",
       "      <th>1.0</th>\n",
       "      <th>39.0</th>\n",
       "      <th>174.0</th>\n",
       "      <th>1.0</th>\n",
       "      <td>9031.89</td>\n",
       "      <td>22.95</td>\n",
       "      <td>6.73</td>\n",
       "      <td>7.19</td>\n",
       "      <td>3.04</td>\n",
       "      <td>4.14</td>\n",
       "    </tr>\n",
       "    <tr>\n",
       "      <th>2016-04-06</th>\n",
       "      <th>1.0</th>\n",
       "      <th>39.0</th>\n",
       "      <th>174.0</th>\n",
       "      <th>1.0</th>\n",
       "      <td>15331.70</td>\n",
       "      <td>22.44</td>\n",
       "      <td>6.18</td>\n",
       "      <td>7.61</td>\n",
       "      <td>3.51</td>\n",
       "      <td>4.14</td>\n",
       "    </tr>\n",
       "    <tr>\n",
       "      <th>2016-04-07</th>\n",
       "      <th>1.0</th>\n",
       "      <th>39.0</th>\n",
       "      <th>174.0</th>\n",
       "      <th>1.0</th>\n",
       "      <td>5222.45</td>\n",
       "      <td>24.57</td>\n",
       "      <td>4.04</td>\n",
       "      <td>3.38</td>\n",
       "      <td>1.92</td>\n",
       "      <td>1.49</td>\n",
       "    </tr>\n",
       "  </tbody>\n",
       "</table>\n",
       "</div>"
      ],
      "text/plain": [
       "                                        steps  bedin  bedout  sleep duration  \\\n",
       "date       sex age  height timezone                                            \n",
       "2016-04-02 1.0 39.0 174.0  1.0        2547.55  23.78    7.82            7.76   \n",
       "2016-04-03 1.0 39.0 174.0  1.0         329.53  23.41    6.48            6.93   \n",
       "2016-04-05 1.0 39.0 174.0  1.0        9031.89  22.95    6.73            7.19   \n",
       "2016-04-06 1.0 39.0 174.0  1.0       15331.70  22.44    6.18            7.61   \n",
       "2016-04-07 1.0 39.0 174.0  1.0        5222.45  24.57    4.04            3.38   \n",
       "\n",
       "                                     deepduration  lightduration  \n",
       "date       sex age  height timezone                               \n",
       "2016-04-02 1.0 39.0 174.0  1.0               3.24           4.49  \n",
       "2016-04-03 1.0 39.0 174.0  1.0               2.54           4.38  \n",
       "2016-04-05 1.0 39.0 174.0  1.0               3.04           4.14  \n",
       "2016-04-06 1.0 39.0 174.0  1.0               3.51           4.14  \n",
       "2016-04-07 1.0 39.0 174.0  1.0               1.92           1.49  "
      ]
     },
     "execution_count": 32,
     "metadata": {},
     "output_type": "execute_result"
    }
   ],
   "source": [
    "dataset = pd.read_csv('dataset.csv')\n",
    "dataset.set_index(['date','sex','age','height','timezone'], inplace=True)\n",
    "dataset.head()\n",
    "#dataset.shape"
   ]
  },
  {
   "cell_type": "code",
   "execution_count": 36,
   "id": "7e242382",
   "metadata": {},
   "outputs": [],
   "source": [
    "# Normalizzazione\n",
    "df_training = dataset.astype(float)\n",
    "\n",
    "scaler = MinMaxScaler()\n",
    "scaler = scaler.fit(df_training)\n",
    "df_training_scaled = scaler.transform(df_training)"
   ]
  },
  {
   "cell_type": "code",
   "execution_count": 37,
   "id": "7fdf9f5b",
   "metadata": {},
   "outputs": [
    {
     "name": "stdout",
     "output_type": "stream",
     "text": [
      "[[0.01500376 0.90356605 0.91388359 0.03490621 0.01494396 0.06262204]\n",
      " [0.00193563 0.90201741 0.90749046 0.03117269 0.01171533 0.06108787]\n",
      " [0.05320818 0.90009208 0.90868321 0.03234222 0.01402149 0.05774059]\n",
      " ...\n",
      " [0.04211869 0.90461242 0.91221374 0.03126265 0.01005489 0.06610879]\n",
      " [0.05310389 0.90913276 0.91173664 0.02716927 0.01023938 0.0525802 ]\n",
      " [0.04125955 0.90888163 0.91183206 0.02730421 0.01540519 0.03751743]]\n"
     ]
    }
   ],
   "source": [
    "print(df_training_scaled)"
   ]
  },
  {
   "cell_type": "code",
   "execution_count": 41,
   "id": "20de5d4f",
   "metadata": {},
   "outputs": [
    {
     "name": "stdout",
     "output_type": "stream",
     "text": [
      "[[0.03490621]\n",
      " [0.03117269]\n",
      " [0.03234222]\n",
      " ...\n",
      " [0.03126265]\n",
      " [0.02716927]\n",
      " [0.02730421]]\n"
     ]
    }
   ],
   "source": [
    "x_scaler = MinMaxScaler()\n",
    "y_scaler = MinMaxScaler()\n",
    "\n",
    "x_data = x_scaler.fit_transform(dataset[['steps','bedin','bedout','sleep duration','deepduration','lightduration']])\n",
    "y_data = y_scaler.fit_transform(dataset[['sleep duration']])"
   ]
  },
  {
   "cell_type": "code",
   "execution_count": 42,
   "id": "4e12ea5d",
   "metadata": {},
   "outputs": [],
   "source": [
    "def custom_ts_multi_data_prep(dataset, target, start, end, window, horizon):\n",
    "    X = []\n",
    "    y = []\n",
    "    start = start + window\n",
    "    if end is None:\n",
    "        end = len(dataset) - horizon\n",
    "\n",
    "    for i in range(start, end):\n",
    "        indices = range(i-window, i)\n",
    "        X.append(dataset[indices])\n",
    "\n",
    "        indicey = range(i+1, i+1+horizon)\n",
    "        y.append(target[indicey])\n",
    "    return np.array(X), np.array(y)"
   ]
  },
  {
   "cell_type": "code",
   "execution_count": 46,
   "id": "9e9f9302",
   "metadata": {},
   "outputs": [],
   "source": [
    "hist_window = 1\n",
    "horizon = 1\n",
    "TRAIN_SPLIT = 30000\n",
    "x_train, y_train = custom_ts_multi_data_prep(x_data, y_data, 0, TRAIN_SPLIT, hist_window, horizon)\n",
    "x_vali, y_vali = custom_ts_multi_data_prep(x_data, y_data, TRAIN_SPLIT, None, hist_window, horizon)"
   ]
  },
  {
   "cell_type": "code",
   "execution_count": 49,
   "id": "d2298a26",
   "metadata": {},
   "outputs": [],
   "source": [
    "batch_size = 256\n",
    "buffer_size = 150\n",
    "\n",
    "train_data = tf.data.Dataset.from_tensor_slices((x_train, y_train))\n",
    "train_data = train_data.cache().shuffle(buffer_size).batch(batch_size).repeat()\n",
    "\n",
    "val_data = tf.data.Dataset.from_tensor_slices((x_vali, y_vali))\n",
    "val_data = val_data.batch(batch_size).repeat()"
   ]
  },
  {
   "cell_type": "code",
   "execution_count": 50,
   "id": "0d46ab01",
   "metadata": {},
   "outputs": [],
   "source": [
    "lstm_model = tf.keras.models.Sequential([\n",
    "  tf.keras.layers.Bidirectional(tf.keras.layers.LSTM(200, return_sequences=True), \n",
    "                               input_shape=x_train.shape[-2:]),\n",
    "    tf.keras.layers.Dense(20, activation='tanh'),\n",
    "    tf.keras.layers.Bidirectional(tf.keras.layers.LSTM(150)),\n",
    "    tf.keras.layers.Dense(20, activation='tanh'),\n",
    "    tf.keras.layers.Dense(20, activation='tanh'),\n",
    "    tf.keras.layers.Dropout(0.25),\n",
    "    tf.keras.layers.Dense(units=horizon),\n",
    "])\n",
    "lstm_model.compile(optimizer='adam', loss='mse')\n"
   ]
  },
  {
   "cell_type": "code",
   "execution_count": 51,
   "id": "90bcac81",
   "metadata": {},
   "outputs": [
    {
     "name": "stdout",
     "output_type": "stream",
     "text": [
      "Model: \"sequential_1\"\n",
      "_________________________________________________________________\n",
      " Layer (type)                Output Shape              Param #   \n",
      "=================================================================\n",
      " bidirectional (Bidirectiona  (None, 1, 400)           331200    \n",
      " l)                                                              \n",
      "                                                                 \n",
      " dense_1 (Dense)             (None, 1, 20)             8020      \n",
      "                                                                 \n",
      " bidirectional_1 (Bidirectio  (None, 300)              205200    \n",
      " nal)                                                            \n",
      "                                                                 \n",
      " dense_2 (Dense)             (None, 20)                6020      \n",
      "                                                                 \n",
      " dense_3 (Dense)             (None, 20)                420       \n",
      "                                                                 \n",
      " dropout (Dropout)           (None, 20)                0         \n",
      "                                                                 \n",
      " dense_4 (Dense)             (None, 1)                 21        \n",
      "                                                                 \n",
      "=================================================================\n",
      "Total params: 550,881\n",
      "Trainable params: 550,881\n",
      "Non-trainable params: 0\n",
      "_________________________________________________________________\n"
     ]
    }
   ],
   "source": [
    "lstm_model.summary()"
   ]
  },
  {
   "cell_type": "code",
   "execution_count": null,
   "id": "73c5406a",
   "metadata": {},
   "outputs": [],
   "source": [
    "history = lstm_model.fit(train_data,epochs=150,steps_per_epoch=100,validation_data=val_data,validation_steps=50,verbose=1)"
   ]
  }
 ],
 "metadata": {
  "kernelspec": {
   "display_name": "Python 3",
   "language": "python",
   "name": "python3"
  },
  "language_info": {
   "codemirror_mode": {
    "name": "ipython",
    "version": 3
   },
   "file_extension": ".py",
   "mimetype": "text/x-python",
   "name": "python",
   "nbconvert_exporter": "python",
   "pygments_lexer": "ipython3",
   "version": "3.8.8"
  }
 },
 "nbformat": 4,
 "nbformat_minor": 5
}
