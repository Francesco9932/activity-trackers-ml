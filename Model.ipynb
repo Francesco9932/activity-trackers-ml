{
 "cells": [
  {
   "cell_type": "markdown",
   "id": "1cafabb6",
   "metadata": {},
   "source": [
    "# Import"
   ]
  },
  {
   "cell_type": "markdown",
   "id": "14cce8d6",
   "metadata": {},
   "source": [
    "### Librerie"
   ]
  },
  {
   "cell_type": "code",
   "execution_count": 1,
   "id": "9af9423d",
   "metadata": {},
   "outputs": [
    {
     "name": "stderr",
     "output_type": "stream",
     "text": [
      "D:\\Anaconda\\lib\\site-packages\\scipy\\__init__.py:138: UserWarning: A NumPy version >=1.16.5 and <1.23.0 is required for this version of SciPy (detected version 1.23.3)\n",
      "  warnings.warn(f\"A NumPy version >={np_minversion} and <{np_maxversion} is required for this version of \"\n"
     ]
    }
   ],
   "source": [
    "import pandas as pd\n",
    "import numpy as np\n",
    "from matplotlib import pyplot as plt\n",
    "from sklearn.preprocessing import MinMaxScaler\n",
    "from keras.models import Sequential\n",
    "from keras.layers import Dense\n",
    "from keras.layers import LSTM\n",
    "from keras.layers import Dropout\n",
    "from sklearn.metrics import *"
   ]
  },
  {
   "cell_type": "markdown",
   "id": "014c5b9e",
   "metadata": {},
   "source": [
    "### Dataset"
   ]
  },
  {
   "cell_type": "code",
   "execution_count": 2,
   "id": "aab0230b",
   "metadata": {},
   "outputs": [],
   "source": [
    "dataset = pd.read_csv('dataset.csv')"
   ]
  },
  {
   "cell_type": "code",
   "execution_count": 3,
   "id": "0640e454",
   "metadata": {},
   "outputs": [
    {
     "name": "stdout",
     "output_type": "stream",
     "text": [
      "shape del training set: (1000427, 6)\n",
      "shape del test set: (250107, 6)\n"
     ]
    }
   ],
   "source": [
    "test_split=round(len(dataset)*0.20)\n",
    "df_for_training=dataset[:-test_split]\n",
    "df_for_testing=dataset[-test_split:]\n",
    "print(\"shape del training set: {}\".format(df_for_training.shape))\n",
    "print(\"shape del test set: {}\".format(df_for_testing.shape))\n"
   ]
  },
  {
   "cell_type": "code",
   "execution_count": 4,
   "id": "78598abc",
   "metadata": {},
   "outputs": [
    {
     "data": {
      "text/plain": [
       "array([[0.11842309, 0.4892513 , 0.51676206, 0.54466859, 0.45378151,\n",
       "        0.56907478],\n",
       "       [0.01527774, 0.46182357, 0.40719542, 0.46493756, 0.3557423 ,\n",
       "        0.55513308],\n",
       "       [0.41996658, 0.42772424, 0.42763696, 0.48991354, 0.42577031,\n",
       "        0.52471483],\n",
       "       ...,\n",
       "       [0.62809509, 0.48851001, 0.65004088, 0.67819404, 0.50840336,\n",
       "        0.69835234],\n",
       "       [0.36555162, 0.46478873, 0.60834015, 0.63208453, 0.49019608,\n",
       "        0.65652725],\n",
       "       [0.21755008, 0.41363973, 0.64431725, 0.76945245, 0.4859944 ,\n",
       "        0.84030418]])"
      ]
     },
     "execution_count": 4,
     "metadata": {},
     "output_type": "execute_result"
    }
   ],
   "source": [
    "# Normalizzazione\n",
    "scaler = MinMaxScaler(feature_range=(0,1))\n",
    "df_for_training_scaled = scaler.fit_transform(df_for_training)\n",
    "df_for_testing_scaled= scaler.transform(df_for_testing)\n",
    "df_for_training_scaled"
   ]
  },
  {
   "cell_type": "code",
   "execution_count": 5,
   "id": "4f5ea065",
   "metadata": {},
   "outputs": [],
   "source": [
    "#n_past is the number of step we will look in the past to predict the next target value.\n",
    "col2pred = 4  # 0:steps, 1:bedin, 2:bedout, 3:sleep duration, 4:deep duration, 5:lightduration\n",
    "def createXY(dataset,n_past):\n",
    "    dataX = []\n",
    "    dataY = []\n",
    "    for i in range(n_past, len(dataset)):\n",
    "            #per ogni feature fa l'append dei precedenti\n",
    "            dataX.append(dataset[i - n_past:i, 0:dataset.shape[1]])\n",
    "            \n",
    "            dataY.append(dataset[i,col2pred])\n",
    "    return np.array(dataX),np.array(dataY)\n",
    "\n",
    "window_size = 7\n",
    "trainX,trainY=createXY(df_for_training_scaled,window_size)\n",
    "testX,testY=createXY(df_for_testing_scaled,window_size)"
   ]
  },
  {
   "cell_type": "code",
   "execution_count": 6,
   "id": "ba19cac1",
   "metadata": {},
   "outputs": [],
   "source": [
    "# features num\n",
    "features_num = dataset.shape[1]"
   ]
  },
  {
   "cell_type": "markdown",
   "id": "25b57705",
   "metadata": {},
   "source": [
    "# LSTM"
   ]
  },
  {
   "cell_type": "code",
   "execution_count": 7,
   "id": "02d618ea",
   "metadata": {},
   "outputs": [
    {
     "name": "stdout",
     "output_type": "stream",
     "text": [
      "Model: \"sequential\"\n",
      "_________________________________________________________________\n",
      " Layer (type)                Output Shape              Param #   \n",
      "=================================================================\n",
      " lstm (LSTM)                 (None, 7, 50)             11400     \n",
      "                                                                 \n",
      " lstm_1 (LSTM)               (None, 50)                20200     \n",
      "                                                                 \n",
      " dropout (Dropout)           (None, 50)                0         \n",
      "                                                                 \n",
      " dense (Dense)               (None, 1)                 51        \n",
      "                                                                 \n",
      "=================================================================\n",
      "Total params: 31,651\n",
      "Trainable params: 31,651\n",
      "Non-trainable params: 0\n",
      "_________________________________________________________________\n"
     ]
    }
   ],
   "source": [
    "#Creazione del modello\n",
    "model = Sequential()\n",
    "model.add(LSTM(50,return_sequences=True,input_shape=(window_size,features_num)))\n",
    "model.add(LSTM(50))\n",
    "model.add(Dropout(0.2))\n",
    "model.add(Dense(1))\n",
    "model.compile(loss = 'mse', optimizer = 'adam')\n",
    "model.summary()"
   ]
  },
  {
   "cell_type": "code",
   "execution_count": 8,
   "id": "7d4974eb",
   "metadata": {
    "scrolled": true
   },
   "outputs": [
    {
     "name": "stdout",
     "output_type": "stream",
     "text": [
      "Epoch 1/100\n",
      "782/782 [==============================] - 11s 9ms/step - loss: 0.0171 - val_loss: 0.0151\n",
      "Epoch 2/100\n",
      "782/782 [==============================] - 6s 8ms/step - loss: 0.0156 - val_loss: 0.0150\n",
      "Epoch 3/100\n",
      "782/782 [==============================] - 6s 8ms/step - loss: 0.0153 - val_loss: 0.0150\n",
      "Epoch 4/100\n",
      "782/782 [==============================] - 6s 8ms/step - loss: 0.0151 - val_loss: 0.0149\n",
      "Epoch 5/100\n",
      "782/782 [==============================] - 6s 8ms/step - loss: 0.0150 - val_loss: 0.0149\n",
      "Epoch 6/100\n",
      "782/782 [==============================] - 6s 8ms/step - loss: 0.0149 - val_loss: 0.0151\n",
      "Epoch 7/100\n",
      "782/782 [==============================] - 6s 8ms/step - loss: 0.0149 - val_loss: 0.0149\n",
      "Epoch 8/100\n",
      "782/782 [==============================] - 6s 7ms/step - loss: 0.0148 - val_loss: 0.0149\n",
      "Epoch 9/100\n",
      "782/782 [==============================] - 6s 8ms/step - loss: 0.0148 - val_loss: 0.0149\n",
      "Epoch 10/100\n",
      "782/782 [==============================] - 6s 8ms/step - loss: 0.0148 - val_loss: 0.0149\n",
      "Epoch 11/100\n",
      "782/782 [==============================] - 6s 8ms/step - loss: 0.0148 - val_loss: 0.0149\n",
      "Epoch 12/100\n",
      "782/782 [==============================] - 6s 8ms/step - loss: 0.0148 - val_loss: 0.0149\n",
      "Epoch 13/100\n",
      "782/782 [==============================] - 6s 8ms/step - loss: 0.0148 - val_loss: 0.0149\n",
      "Epoch 14/100\n",
      "782/782 [==============================] - 6s 8ms/step - loss: 0.0148 - val_loss: 0.0149\n",
      "Epoch 15/100\n",
      "782/782 [==============================] - 6s 8ms/step - loss: 0.0148 - val_loss: 0.0149\n",
      "Epoch 16/100\n",
      "782/782 [==============================] - 6s 8ms/step - loss: 0.0148 - val_loss: 0.0150\n",
      "Epoch 17/100\n",
      "782/782 [==============================] - 6s 8ms/step - loss: 0.0148 - val_loss: 0.0149\n",
      "Epoch 18/100\n",
      "782/782 [==============================] - 6s 8ms/step - loss: 0.0148 - val_loss: 0.0150\n",
      "Epoch 19/100\n",
      "782/782 [==============================] - 6s 8ms/step - loss: 0.0148 - val_loss: 0.0150\n",
      "Epoch 20/100\n",
      "782/782 [==============================] - 6s 8ms/step - loss: 0.0148 - val_loss: 0.0149\n",
      "Epoch 21/100\n",
      "782/782 [==============================] - 6s 8ms/step - loss: 0.0148 - val_loss: 0.0150\n",
      "Epoch 22/100\n",
      "782/782 [==============================] - 6s 8ms/step - loss: 0.0147 - val_loss: 0.0149\n",
      "Epoch 23/100\n",
      "782/782 [==============================] - 6s 8ms/step - loss: 0.0147 - val_loss: 0.0149\n",
      "Epoch 24/100\n",
      "782/782 [==============================] - 6s 8ms/step - loss: 0.0147 - val_loss: 0.0150\n",
      "Epoch 25/100\n",
      "782/782 [==============================] - 6s 8ms/step - loss: 0.0147 - val_loss: 0.0149\n",
      "Epoch 26/100\n",
      "782/782 [==============================] - 6s 8ms/step - loss: 0.0147 - val_loss: 0.0149\n",
      "Epoch 27/100\n",
      "782/782 [==============================] - 6s 8ms/step - loss: 0.0147 - val_loss: 0.0149\n",
      "Epoch 28/100\n",
      "782/782 [==============================] - 6s 8ms/step - loss: 0.0147 - val_loss: 0.0149\n",
      "Epoch 29/100\n",
      "782/782 [==============================] - 6s 8ms/step - loss: 0.0147 - val_loss: 0.0148\n",
      "Epoch 30/100\n",
      "782/782 [==============================] - 6s 8ms/step - loss: 0.0147 - val_loss: 0.0148\n",
      "Epoch 31/100\n",
      "782/782 [==============================] - 6s 8ms/step - loss: 0.0147 - val_loss: 0.0149\n",
      "Epoch 32/100\n",
      "782/782 [==============================] - 6s 8ms/step - loss: 0.0147 - val_loss: 0.0148\n",
      "Epoch 33/100\n",
      "782/782 [==============================] - 6s 8ms/step - loss: 0.0147 - val_loss: 0.0149\n",
      "Epoch 34/100\n",
      "782/782 [==============================] - 6s 8ms/step - loss: 0.0147 - val_loss: 0.0149\n",
      "Epoch 35/100\n",
      "782/782 [==============================] - 6s 8ms/step - loss: 0.0147 - val_loss: 0.0149\n",
      "Epoch 36/100\n",
      "782/782 [==============================] - 6s 8ms/step - loss: 0.0147 - val_loss: 0.0148\n",
      "Epoch 37/100\n",
      "782/782 [==============================] - 6s 8ms/step - loss: 0.0147 - val_loss: 0.0149\n",
      "Epoch 38/100\n",
      "782/782 [==============================] - 6s 8ms/step - loss: 0.0147 - val_loss: 0.0148\n",
      "Epoch 39/100\n",
      "782/782 [==============================] - 6s 8ms/step - loss: 0.0147 - val_loss: 0.0148\n",
      "Epoch 40/100\n",
      "782/782 [==============================] - 6s 8ms/step - loss: 0.0146 - val_loss: 0.0148\n",
      "Epoch 41/100\n",
      "782/782 [==============================] - 6s 8ms/step - loss: 0.0147 - val_loss: 0.0148\n",
      "Epoch 42/100\n",
      "782/782 [==============================] - 6s 8ms/step - loss: 0.0147 - val_loss: 0.0149\n",
      "Epoch 43/100\n",
      "782/782 [==============================] - 6s 8ms/step - loss: 0.0146 - val_loss: 0.0148\n",
      "Epoch 44/100\n",
      "782/782 [==============================] - 6s 8ms/step - loss: 0.0146 - val_loss: 0.0148\n",
      "Epoch 45/100\n",
      "782/782 [==============================] - 6s 8ms/step - loss: 0.0146 - val_loss: 0.0149\n",
      "Epoch 46/100\n",
      "782/782 [==============================] - 6s 8ms/step - loss: 0.0146 - val_loss: 0.0148\n",
      "Epoch 47/100\n",
      "782/782 [==============================] - 6s 8ms/step - loss: 0.0146 - val_loss: 0.0149\n",
      "Epoch 48/100\n",
      "782/782 [==============================] - 6s 8ms/step - loss: 0.0146 - val_loss: 0.0148\n",
      "Epoch 49/100\n",
      "782/782 [==============================] - 6s 8ms/step - loss: 0.0146 - val_loss: 0.0148\n",
      "Epoch 50/100\n",
      "782/782 [==============================] - 6s 8ms/step - loss: 0.0146 - val_loss: 0.0148\n",
      "Epoch 51/100\n",
      "782/782 [==============================] - 6s 8ms/step - loss: 0.0146 - val_loss: 0.0148\n",
      "Epoch 52/100\n",
      "782/782 [==============================] - 6s 8ms/step - loss: 0.0146 - val_loss: 0.0148\n",
      "Epoch 53/100\n",
      "782/782 [==============================] - 6s 8ms/step - loss: 0.0146 - val_loss: 0.0148\n",
      "Epoch 54/100\n",
      "782/782 [==============================] - 6s 8ms/step - loss: 0.0146 - val_loss: 0.0148\n",
      "Epoch 55/100\n",
      "782/782 [==============================] - 6s 8ms/step - loss: 0.0146 - val_loss: 0.0148\n",
      "Epoch 56/100\n",
      "782/782 [==============================] - 6s 8ms/step - loss: 0.0146 - val_loss: 0.0148\n",
      "Epoch 57/100\n",
      "782/782 [==============================] - 6s 8ms/step - loss: 0.0146 - val_loss: 0.0148\n",
      "Epoch 58/100\n",
      "782/782 [==============================] - 6s 8ms/step - loss: 0.0146 - val_loss: 0.0148\n",
      "Epoch 59/100\n",
      "782/782 [==============================] - 6s 8ms/step - loss: 0.0146 - val_loss: 0.0148\n",
      "Epoch 60/100\n",
      "782/782 [==============================] - 6s 8ms/step - loss: 0.0146 - val_loss: 0.0148\n",
      "Epoch 61/100\n",
      "782/782 [==============================] - 6s 8ms/step - loss: 0.0146 - val_loss: 0.0148\n",
      "Epoch 62/100\n",
      "782/782 [==============================] - 6s 8ms/step - loss: 0.0146 - val_loss: 0.0148\n",
      "Epoch 63/100\n",
      "782/782 [==============================] - 6s 8ms/step - loss: 0.0146 - val_loss: 0.0148\n",
      "Epoch 64/100\n",
      "782/782 [==============================] - 6s 8ms/step - loss: 0.0146 - val_loss: 0.0148\n",
      "Epoch 65/100\n",
      "782/782 [==============================] - 6s 8ms/step - loss: 0.0146 - val_loss: 0.0148\n",
      "Epoch 66/100\n",
      "782/782 [==============================] - 6s 8ms/step - loss: 0.0146 - val_loss: 0.0148\n",
      "Epoch 67/100\n",
      "782/782 [==============================] - 6s 8ms/step - loss: 0.0146 - val_loss: 0.0149\n",
      "Epoch 68/100\n",
      "782/782 [==============================] - 6s 8ms/step - loss: 0.0146 - val_loss: 0.0148\n",
      "Epoch 69/100\n",
      "782/782 [==============================] - 6s 8ms/step - loss: 0.0146 - val_loss: 0.0148\n",
      "Epoch 70/100\n",
      "782/782 [==============================] - 6s 8ms/step - loss: 0.0146 - val_loss: 0.0148\n",
      "Epoch 71/100\n",
      "782/782 [==============================] - 6s 8ms/step - loss: 0.0146 - val_loss: 0.0148\n",
      "Epoch 72/100\n",
      "782/782 [==============================] - 6s 8ms/step - loss: 0.0146 - val_loss: 0.0149\n",
      "Epoch 73/100\n",
      "782/782 [==============================] - 6s 8ms/step - loss: 0.0146 - val_loss: 0.0149\n",
      "Epoch 74/100\n",
      "782/782 [==============================] - 6s 8ms/step - loss: 0.0146 - val_loss: 0.0148\n",
      "Epoch 75/100\n",
      "782/782 [==============================] - 6s 8ms/step - loss: 0.0146 - val_loss: 0.0148\n",
      "Epoch 76/100\n",
      "782/782 [==============================] - 6s 8ms/step - loss: 0.0146 - val_loss: 0.0148\n",
      "Epoch 77/100\n",
      "782/782 [==============================] - 6s 8ms/step - loss: 0.0146 - val_loss: 0.0148\n",
      "Epoch 78/100\n",
      "782/782 [==============================] - 6s 8ms/step - loss: 0.0146 - val_loss: 0.0148\n",
      "Epoch 79/100\n",
      "782/782 [==============================] - 6s 8ms/step - loss: 0.0146 - val_loss: 0.0148\n",
      "Epoch 80/100\n",
      "782/782 [==============================] - 6s 8ms/step - loss: 0.0146 - val_loss: 0.0148\n",
      "Epoch 81/100\n"
     ]
    },
    {
     "name": "stdout",
     "output_type": "stream",
     "text": [
      "782/782 [==============================] - 6s 8ms/step - loss: 0.0146 - val_loss: 0.0148\n",
      "Epoch 82/100\n",
      "782/782 [==============================] - 6s 8ms/step - loss: 0.0146 - val_loss: 0.0148\n",
      "Epoch 83/100\n",
      "782/782 [==============================] - 6s 8ms/step - loss: 0.0146 - val_loss: 0.0149\n",
      "Epoch 84/100\n",
      "782/782 [==============================] - 6s 8ms/step - loss: 0.0146 - val_loss: 0.0149\n",
      "Epoch 85/100\n",
      "782/782 [==============================] - 6s 8ms/step - loss: 0.0146 - val_loss: 0.0148\n",
      "Epoch 86/100\n",
      "782/782 [==============================] - 6s 8ms/step - loss: 0.0146 - val_loss: 0.0148\n",
      "Epoch 87/100\n",
      "782/782 [==============================] - 6s 8ms/step - loss: 0.0146 - val_loss: 0.0148\n",
      "Epoch 88/100\n",
      "782/782 [==============================] - 6s 8ms/step - loss: 0.0146 - val_loss: 0.0148\n",
      "Epoch 89/100\n",
      "782/782 [==============================] - 6s 8ms/step - loss: 0.0146 - val_loss: 0.0148\n",
      "Epoch 90/100\n",
      "782/782 [==============================] - 6s 8ms/step - loss: 0.0146 - val_loss: 0.0148\n",
      "Epoch 91/100\n",
      "782/782 [==============================] - 6s 8ms/step - loss: 0.0146 - val_loss: 0.0148\n",
      "Epoch 92/100\n",
      "782/782 [==============================] - 6s 8ms/step - loss: 0.0146 - val_loss: 0.0148\n",
      "Epoch 93/100\n",
      "782/782 [==============================] - 6s 8ms/step - loss: 0.0146 - val_loss: 0.0148\n",
      "Epoch 94/100\n",
      "782/782 [==============================] - 6s 8ms/step - loss: 0.0146 - val_loss: 0.0148\n",
      "Epoch 95/100\n",
      "782/782 [==============================] - 6s 8ms/step - loss: 0.0146 - val_loss: 0.0148\n",
      "Epoch 96/100\n",
      "782/782 [==============================] - 6s 8ms/step - loss: 0.0146 - val_loss: 0.0148\n",
      "Epoch 97/100\n",
      "782/782 [==============================] - 6s 8ms/step - loss: 0.0146 - val_loss: 0.0148\n",
      "Epoch 98/100\n",
      "782/782 [==============================] - 6s 8ms/step - loss: 0.0145 - val_loss: 0.0148\n",
      "Epoch 99/100\n",
      "782/782 [==============================] - 6s 8ms/step - loss: 0.0145 - val_loss: 0.0148\n",
      "Epoch 100/100\n",
      "782/782 [==============================] - 6s 8ms/step - loss: 0.0146 - val_loss: 0.0148\n"
     ]
    }
   ],
   "source": [
    "history = model.fit(trainX, trainY, epochs = 100, verbose = 1, batch_size = 1024, validation_split=0.2) # 8192"
   ]
  },
  {
   "cell_type": "code",
   "execution_count": 9,
   "id": "9c9fdadf",
   "metadata": {},
   "outputs": [
    {
     "name": "stdout",
     "output_type": "stream",
     "text": [
      "31264/31264 [==============================] - 77s 2ms/step\n",
      "prediction\n",
      " [[0.41286397]\n",
      " [0.4244931 ]\n",
      " [0.39834344]\n",
      " ...\n",
      " [0.45711878]\n",
      " [0.43673697]\n",
      " [0.43703672]]\n",
      "\n",
      "Prediction Shape- (1000420, 1)\n",
      "7816/7816 [==============================] - 20s 3ms/step\n",
      "prediction\n",
      " [[0.45546573]\n",
      " [0.48938575]\n",
      " [0.505528  ]\n",
      " ...\n",
      " [0.41226235]\n",
      " [0.41862956]\n",
      " [0.42326963]]\n",
      "\n",
      "Prediction Shape- (250100, 1)\n"
     ]
    }
   ],
   "source": [
    "prediction_train = model.predict(trainX)\n",
    "print(\"prediction\\n\", prediction_train)\n",
    "print(\"\\nPrediction Shape-\", prediction_train.shape)\n",
    "\n",
    "prediction_train_copies_array = np.repeat(prediction_train, 6, axis=-1)\n",
    "pred_train = scaler.inverse_transform(np.reshape(prediction_train_copies_array, (len(prediction_train), 6)))[:, col2pred]\n",
    "true_value_train_copies_array = np.repeat(trainY, 6, axis=-1)\n",
    "true_value_train = scaler.inverse_transform(np.reshape(true_value_train_copies_array, (len(trainY), 6)))[:, col2pred]\n",
    "\n",
    "prediction_test=model.predict(testX)\n",
    "print(\"prediction\\n\", prediction_test)\n",
    "print(\"\\nPrediction Shape-\",prediction_test.shape)\n",
    "\n",
    "prediction_copies_test_array = np.repeat(prediction_test,6, axis=-1)\n",
    "pred_test=scaler.inverse_transform(np.reshape(prediction_copies_test_array,(len(prediction_test),6)))[:,col2pred]\n",
    "true_value_test_copies_array = np.repeat(testY,6, axis=-1)\n",
    "true_value_test=scaler.inverse_transform(np.reshape(true_value_test_copies_array,(len(testY),6)))[:,col2pred]"
   ]
  },
  {
   "cell_type": "code",
   "execution_count": 10,
   "id": "a9073243",
   "metadata": {},
   "outputs": [
    {
     "name": "stdout",
     "output_type": "stream",
     "text": [
      "**********TRAIN-SET***********\n",
      "MAE: 0.665\n",
      "MSE: 0.741\n",
      "RMSE: 0.741\n",
      "**********TEST-SET***********\n",
      "MAE: 0.679\n",
      "MSE: 0.769\n",
      "RMSE: 0.769\n"
     ]
    },
    {
     "data": {
      "image/png": "[encoded data removed]",
      "text/plain": [
       "<Figure size 432x288 with 1 Axes>"
      ]
     },
     "metadata": {
      "needs_background": "light"
     },
     "output_type": "display_data"
    }
   ],
   "source": [
    "def metrics(true_value_train, pred_value_train, true_value_test, pred_value_test):\n",
    "    print(\"**********TRAIN-SET***********\")\n",
    "    print(\"MAE: {:.3f}\".format(mean_absolute_error(\n",
    "        true_value_train, pred_value_train)))\n",
    "    print(\"MSE: {:.3f}\".format(\n",
    "        mean_squared_error(true_value_train, pred_value_train)))\n",
    "    print(\"RMSE: {:.3f}\".format(\n",
    "        mean_squared_error(true_value_train, pred_value_train, squared=True)))\n",
    "    # metrics test set\n",
    "    print(\"**********TEST-SET***********\")\n",
    "    print(\"MAE: {:.3f}\".format(mean_absolute_error(\n",
    "        true_value_test, pred_value_test)))\n",
    "    print(\"MSE: {:.3f}\".format(\n",
    "        mean_squared_error(true_value_test, pred_value_test)))\n",
    "    print(\"RMSE: {:.3f}\".format(\n",
    "        mean_squared_error(true_value_test, pred_value_test, squared=True)))\n",
    "    \n",
    "\n",
    "    plt.plot(true_value_test[:1250], color='red', label='Real sleep duration')\n",
    "    plt.plot(pred_value_test[:1250], color='blue', label='Predicted sleep duration')\n",
    "    plt.title('sleep duration Prediction')\n",
    "    plt.xlabel('Time')\n",
    "    plt.ylabel('steps')\n",
    "    plt.legend()\n",
    "    plt.show()\n",
    "\n",
    "\n",
    "metrics(true_value_train, pred_train, true_value_test, pred_test)\n"
   ]
  }
 ],
 "metadata": {
  "kernelspec": {
   "display_name": "Python 3",
   "language": "python",
   "name": "python3"
  },
  "language_info": {
   "codemirror_mode": {
    "name": "ipython",
    "version": 3
   },
   "file_extension": ".py",
   "mimetype": "text/x-python",
   "name": "python",
   "nbconvert_exporter": "python",
   "pygments_lexer": "ipython3",
   "version": "3.8.8"
  },
  "vscode": {
   "interpreter": {
    "hash": "b4b4fd2252870ded9ed5bbb741847e4d846382e3dda5f0c9e0a86e88ef12f07d"
   }
  }
 },
 "nbformat": 4,
 "nbformat_minor": 5
}
